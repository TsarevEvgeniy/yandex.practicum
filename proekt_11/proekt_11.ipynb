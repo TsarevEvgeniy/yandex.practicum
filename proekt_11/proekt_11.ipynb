{
 "cells": [
  {
   "cell_type": "markdown",
   "metadata": {},
   "source": [
    "# Рынок заведений общественного питания Москвы"
   ]
  },
  {
   "cell_type": "markdown",
   "metadata": {},
   "source": [
    "Введение:\n",
    "\n",
    "Инвесторы из фонда «Shut Up and Take My Money» решили попробовать себя в новой области и открыть заведение общественного питания в Москве. Заказчики ещё не знают, что это будет за место: кафе, ресторан, пиццерия, паб или бар, — и какими будут расположение, меню и цены."
   ]
  },
  {
   "cell_type": "markdown",
   "metadata": {},
   "source": [
    "Описание данных:\n",
    "    \n",
    "Нам доступны данные на основе сервисов Яндекс Карты и Яндекс Бизнес за лето 2022 года. Информация раозмещенная в Яндекс Бизнес добавлена пользователями или найдена в общедоступных источниках.\n",
    "\n",
    "Файл moscow_places.csv:\n",
    "name — название заведения;\n",
    "address — адрес заведения;\n",
    "category — категория заведения, например «кафе», «пиццерия» или «кофейня»;\n",
    "hours — информация о днях и часах работы;\n",
    "lat — широта географической точки, в которой находится заведение;\n",
    "lng — долгота географической точки, в которой находится заведение;\n",
    "rating — рейтинг заведения по оценкам пользователей в Яндекс Картах (высшая оценка — 5.0);\n",
    "price — категория цен в заведении, например «средние», «ниже среднего», «выше среднего» и так далее;\n",
    "avg_bill — строка, которая хранит среднюю стоимость заказа в виде диапазона;\n",
    "middle_coffee_cup — число с оценкой одной чашки капучино;\n",
    "middle_avg_bill — число с оценкой среднего чека, которое указано только для значений из столбца avg_bill;\n",
    "chain — число, выраженное 0 или 1, которое показывает, является ли заведение сетевым (для маленьких сетей могут встречаться ошибки);\n",
    "district — административный район, в котором находится заведение, например Центральный административный округ;\n",
    "seats — количество посадочных мест."
   ]
  },
  {
   "cell_type": "markdown",
   "metadata": {},
   "source": [
    "Цель: исследовать рынок Москвы, найти интересные особенности и презентовать полученные результаты, которые в будущем помогут в выборе подходящего инвесторам места."
   ]
  },
  {
   "cell_type": "markdown",
   "metadata": {},
   "source": [
    "План работы:\n",
    "Шаг 1. Загрузим данные и изучим общую информацию.\n",
    "Шаг 2. Выполним предобработку данных.\n",
    "Шаг 3. Анализ данных.\n",
    "Шаг 4. Детализируем исследование: открытие кофейни.\n",
    "Шаг 5. Подготовка презентации."
   ]
  },
  {
   "cell_type": "markdown",
   "metadata": {},
   "source": [
    "<div class=\"alert alert-block alert-success\">\n",
    "\n",
    "**Комментарий ревьювера (все отлично)**\n",
    "    \n",
    "План работы можно сделать кликабельным. Можно автоматически собрать кликабельное содержание при помощи плагина table of contents в панели инструментов. Или расставляя метки и ссылки на них вручную. Вот тут почитай, как сделать <a href=\"https://sebastianraschka.com/Articles/2014_ipython_internal_links.html\">кликабельные разделы</a>.\n",
    "</div>"
   ]
  },
  {
   "cell_type": "markdown",
   "metadata": {},
   "source": [
    "Импортирем необходимые библиотеки."
   ]
  },
  {
   "cell_type": "code",
   "execution_count": 1,
   "metadata": {},
   "outputs": [
    {
     "ename": "ModuleNotFoundError",
     "evalue": "No module named 'folium'",
     "output_type": "error",
     "traceback": [
      "\u001b[1;31m---------------------------------------------------------------------------\u001b[0m",
      "\u001b[1;31mModuleNotFoundError\u001b[0m                       Traceback (most recent call last)",
      "Cell \u001b[1;32mIn[1], line 7\u001b[0m\n\u001b[0;32m      5\u001b[0m \u001b[38;5;28;01mfrom\u001b[39;00m \u001b[38;5;21;01mplotly\u001b[39;00m \u001b[38;5;28;01mimport\u001b[39;00m graph_objects \u001b[38;5;28;01mas\u001b[39;00m go\n\u001b[0;32m      6\u001b[0m \u001b[38;5;28;01mimport\u001b[39;00m \u001b[38;5;21;01mnumpy\u001b[39;00m \u001b[38;5;28;01mas\u001b[39;00m \u001b[38;5;21;01mnp\u001b[39;00m\n\u001b[1;32m----> 7\u001b[0m \u001b[38;5;28;01mfrom\u001b[39;00m \u001b[38;5;21;01mfolium\u001b[39;00m \u001b[38;5;28;01mimport\u001b[39;00m Map, Choropleth, Popup, LayerControl\n\u001b[0;32m      8\u001b[0m \u001b[38;5;28;01mimport\u001b[39;00m \u001b[38;5;21;01mfolium\u001b[39;00m\n\u001b[0;32m      9\u001b[0m \u001b[38;5;28;01mfrom\u001b[39;00m \u001b[38;5;21;01mfolium\u001b[39;00m\u001b[38;5;21;01m.\u001b[39;00m\u001b[38;5;21;01mplugins\u001b[39;00m \u001b[38;5;28;01mimport\u001b[39;00m MarkerCluster\n",
      "\u001b[1;31mModuleNotFoundError\u001b[0m: No module named 'folium'"
     ]
    }
   ],
   "source": [
    "import pandas as pd\n",
    "import seaborn as sns\n",
    "import matplotlib.pyplot as plt\n",
    "import plotly.express as px\n",
    "from plotly import graph_objects as go\n",
    "import numpy as np\n",
    "from folium import Map, Choropleth, Popup, LayerControl\n",
    "import folium\n",
    "from folium.plugins import MarkerCluster"
   ]
  },
  {
   "cell_type": "markdown",
   "metadata": {},
   "source": [
    "<div class=\"alert alert-block alert-success\">\n",
    "\n",
    "**Комментарий ревьювера (все отлично)**\n",
    "    \n",
    "Правильно, что импортируешь необходимые библиотеки в первой ячейке. Так твой коллега, запускающий работу, будет в курсе используемых в ней библиотек и сможет настроить свое окружение при необходимости.\n",
    "</div>"
   ]
  },
  {
   "cell_type": "markdown",
   "metadata": {},
   "source": [
    "# Шаг 1. Загрузим данные и изучим общую информацию."
   ]
  },
  {
   "cell_type": "markdown",
   "metadata": {},
   "source": [
    "<font color='black'><b> 1.1 Загружаем данные о заведениях общественного питания Москвы из CSV-файлов в переменную. </b></font><br>"
   ]
  },
  {
   "cell_type": "code",
   "execution_count": null,
   "metadata": {},
   "outputs": [],
   "source": [
    "moscow_places =pd.read_csv('/datasets/moscow_places.csv')"
   ]
  },
  {
   "cell_type": "code",
   "execution_count": null,
   "metadata": {},
   "outputs": [],
   "source": [
    "moscow_places.head()"
   ]
  },
  {
   "cell_type": "markdown",
   "metadata": {},
   "source": [
    "<font color='black'><b> 1.2 Посмотрим обшую информацию датафрейма </b></font><br>"
   ]
  },
  {
   "cell_type": "code",
   "execution_count": null,
   "metadata": {},
   "outputs": [],
   "source": [
    "moscow_places.info()"
   ]
  },
  {
   "cell_type": "markdown",
   "metadata": {},
   "source": [
    "При рассмотрении общей информации можно сказать что датафрейм имеет 8406 строк, соответственно 8406 заведений представлено в датафрейме. Если говорить о каждом  столбце, то мы видим:\n",
    "столбец name имеет 8406 строк, тип данных  object,\n",
    "столбец category имеет 8406 строк, тип данных  object,\n",
    "столбец address имеет 8406 строк, тип данных  object,\n",
    "столбец district имеет 8406 строк, тип данных  object,\n",
    "столбец hours имеет 7870 строк, тип данных  object,\n",
    "столбец lat имеет 8406 строк, тип данных  float64,\n",
    "столбец lng имеет 8406 строк, тип данных  float64,\n",
    "столбец rating имеет 8406 строк, тип данных  float64,\n",
    "столбец price имеет 3315 строк, тип данных  object,\n",
    "столбец avg_billt имеет 3816 строк, тип данных  object,\n",
    "столбец middle_avg_bill имеет 3149 строк, тип данных  float64,\n",
    "столбец middle_coffee_cup имеет 535 строк, тип данных  float64,\n",
    "столбец chain имеет 8406 строк, тип данных  int64,\n",
    "столбец seats имеет 4795 строк, тип данных  float64,\n"
   ]
  },
  {
   "cell_type": "markdown",
   "metadata": {},
   "source": [
    "Вывод по шагу №1: Мы загрузили датафрейм о заведениях общественного питания Москвы. Записали его в переменную moscow_places После чего посмотрели обшую информацию датафрейма."
   ]
  },
  {
   "cell_type": "markdown",
   "metadata": {},
   "source": [
    "# Шаг 2. Выполним предобработку данных"
   ]
  },
  {
   "cell_type": "markdown",
   "metadata": {},
   "source": [
    "<font color='black'><b> 2.1 Приведем название столбцов name и address по нижнему регистру и посмотрим, что получилось. </b></font><br>"
   ]
  },
  {
   "cell_type": "code",
   "execution_count": null,
   "metadata": {},
   "outputs": [],
   "source": [
    "moscow_places['name'] = moscow_places['name'].str.lower()\n",
    "moscow_places['address'] = moscow_places['address'].str.lower()"
   ]
  },
  {
   "cell_type": "markdown",
   "metadata": {},
   "source": [
    "<font color='black'><b> 2.2 Проверим количество явных дубликатов </b></font><br>"
   ]
  },
  {
   "cell_type": "code",
   "execution_count": null,
   "metadata": {},
   "outputs": [],
   "source": [
    "duplicates = moscow_places.duplicated(subset=['name', 'address']).sum()\n",
    "print(f'Найдено дубликатов: {duplicates}')"
   ]
  },
  {
   "cell_type": "markdown",
   "metadata": {},
   "source": [
    "Удаление дубликатов"
   ]
  },
  {
   "cell_type": "code",
   "execution_count": null,
   "metadata": {},
   "outputs": [],
   "source": [
    "moscow_places = moscow_places.drop_duplicates(subset=['name', 'address']).reset_index(drop=True)"
   ]
  },
  {
   "cell_type": "markdown",
   "metadata": {},
   "source": [
    "Проверяем снова дубликаты"
   ]
  },
  {
   "cell_type": "code",
   "execution_count": null,
   "metadata": {},
   "outputs": [],
   "source": [
    "duplicates = moscow_places.duplicated(subset=['name', 'address']).sum()\n",
    "print(f'Найдено дубликатов: {duplicates}')"
   ]
  },
  {
   "cell_type": "markdown",
   "metadata": {},
   "source": [
    "<div class=\"alert alert-block alert-success\">\n",
    "\n",
    "**Комментарий ревьювера v2 (все отлично)**\n",
    "    \n",
    "Проверка на неявные дубликаты отработана👍\n",
    "</div>"
   ]
  },
  {
   "cell_type": "markdown",
   "metadata": {},
   "source": [
    "Явных дубликатов не обнаружено."
   ]
  },
  {
   "cell_type": "markdown",
   "metadata": {},
   "source": [
    "<font color='black'><b> 2.3 Проверим количество пропусков в каждом датасете </b></font><br>"
   ]
  },
  {
   "cell_type": "code",
   "execution_count": null,
   "metadata": {},
   "outputs": [],
   "source": [
    "moscow_places.isna().sum()"
   ]
  },
  {
   "cell_type": "markdown",
   "metadata": {},
   "source": [
    "Наблюдаются пропуски в колонках: hours - 536; price - 5091; avg_bill - 4590; middle_avg_bill - 5257; middle_coffee_cup - 7871; seats - 3611."
   ]
  },
  {
   "cell_type": "markdown",
   "metadata": {},
   "source": [
    "Сделаем в столбцах в которых тип данных 'строка', заполним их строкой 'нет данных'"
   ]
  },
  {
   "cell_type": "code",
   "execution_count": null,
   "metadata": {},
   "outputs": [],
   "source": [
    "str_feature = ['hours', 'price', 'avg_bill']\n",
    "moscow_places.loc[:, str_feature] = moscow_places[str_feature].fillna('нет данных')"
   ]
  },
  {
   "cell_type": "code",
   "execution_count": null,
   "metadata": {},
   "outputs": [],
   "source": [
    "moscow_places.head()"
   ]
  },
  {
   "cell_type": "markdown",
   "metadata": {},
   "source": [
    "Теперь посмотрим чиловые данные: в стобцах middle_avg_bill; middle_coffee_cup; seats, я считаю что эти данные лучше оставить без изменений: Рабочие часы и количество мест зависит от помещения и время работы компаний. Столбцы middle_avg_bill и middle_coffee_cup не могут быть заполнены из-за отсутствия статистики. Также многие компании могли не заполнять столбец middle_coffee_cup, так как не являются кофейнями."
   ]
  },
  {
   "cell_type": "markdown",
   "metadata": {},
   "source": [
    "<div class=\"alert alert-block alert-success\">\n",
    "\n",
    "**Комментарий ревьювера (все отлично)**\n",
    "    \n",
    "Согласен с решением оставить пропуски как есть, таким образом мы избежим искажения данных👍\n",
    "</div>"
   ]
  },
  {
   "cell_type": "markdown",
   "metadata": {},
   "source": [
    "<font color='black'><b> 2.4 Создадим столбец street с названиями улиц из столбца с адресом. </b></font><br>"
   ]
  },
  {
   "cell_type": "code",
   "execution_count": null,
   "metadata": {},
   "outputs": [],
   "source": [
    "moscow_places['street'] = moscow_places['address'].str.split(', ').str[1]"
   ]
  },
  {
   "cell_type": "markdown",
   "metadata": {},
   "source": [
    "<font color='black'><b> 2.5 Создадим столбец is_24_7 с обозначением, что заведение работает ежедневно и круглосуточно. </b></font><br>"
   ]
  },
  {
   "cell_type": "code",
   "execution_count": null,
   "metadata": {},
   "outputs": [],
   "source": [
    "moscow_places['is_24_7'] = moscow_places[moscow_places['hours'].apply(lambda x: 'ежедневно, круглосуточно' in str(x))]['hours'] == 'ежедневно, круглосуточно'\n",
    "moscow_places['is_24_7'] = moscow_places['is_24_7'].fillna(False)"
   ]
  },
  {
   "cell_type": "markdown",
   "metadata": {},
   "source": [
    "Посмотрим, что получилось"
   ]
  },
  {
   "cell_type": "code",
   "execution_count": null,
   "metadata": {},
   "outputs": [],
   "source": [
    "moscow_places.head()"
   ]
  },
  {
   "cell_type": "markdown",
   "metadata": {},
   "source": [
    "Вывод по шагу №2: Мы привели название столбцов по нижнему регистру.Проверили количество явных дубликатов, их в итоге не обнаружили. Проверили количество пропусков в каждом датасете, их обнаружено большое количество. Мы решили их оставить, так как нет возможности узнать эти данные или посчитать. Так же мы добавили столбец street с названиями улиц , а также отдельный  столбец is_24_7 с обозначением."
   ]
  },
  {
   "cell_type": "markdown",
   "metadata": {},
   "source": [
    "<div class=\"alert alert-block alert-success\">\n",
    "\n",
    "**Комментарий ревьювера (все отлично)**\n",
    "    \n",
    "Необходимые данные были успешно добавлены👍\n",
    "</div>"
   ]
  },
  {
   "cell_type": "markdown",
   "metadata": {},
   "source": [
    "# Шаг 3. Анализ данных."
   ]
  },
  {
   "cell_type": "markdown",
   "metadata": {},
   "source": [
    "<font color='black'><b> 3.1 Посмотрим, какие категории заведений представлены в данных. Исследуем количество объектов общественного питания по категориям: рестораны, кофейни, пиццерии, бары и так далее. Построем визуализации. </b></font><br>"
   ]
  },
  {
   "cell_type": "code",
   "execution_count": null,
   "metadata": {},
   "outputs": [],
   "source": [
    "category = moscow_places['category'].unique()"
   ]
  },
  {
   "cell_type": "code",
   "execution_count": null,
   "metadata": {},
   "outputs": [],
   "source": [
    "print(category)"
   ]
  },
  {
   "cell_type": "markdown",
   "metadata": {},
   "source": [
    "У нас есть 8 категорий: кафе; ресторан; кофейня; пиццерия; бар,паб; быстрое питание; булочная; столовая"
   ]
  },
  {
   "cell_type": "markdown",
   "metadata": {},
   "source": [
    "Посмотрим количество объектов общественного питания по категориям."
   ]
  },
  {
   "cell_type": "code",
   "execution_count": null,
   "metadata": {},
   "outputs": [],
   "source": [
    "order = moscow_places.category.value_counts()"
   ]
  },
  {
   "cell_type": "code",
   "execution_count": null,
   "metadata": {},
   "outputs": [],
   "source": [
    "print(order)"
   ]
  },
  {
   "cell_type": "markdown",
   "metadata": {},
   "source": [
    "Визуализируем"
   ]
  },
  {
   "cell_type": "code",
   "execution_count": null,
   "metadata": {},
   "outputs": [],
   "source": [
    "plt.figure(figsize=(15, 8))\n",
    "ax = sns.countplot(data=moscow_places, x='category', color='#88C273', order=moscow_places.category.value_counts().index)\n",
    "plt.xlabel(\"Категории\")\n",
    "plt.ylabel(\"Количество заведений\")\n",
    "plt.title(\"Столбчатая диаграмма, которая отображает количество категорий заведений в Москве.\")\n",
    "plt.show()"
   ]
  },
  {
   "cell_type": "markdown",
   "metadata": {},
   "source": [
    "Больше всего в Москве общественного питания в категории Кафе: 2378 в датафрейме, после него идет рестораны, их количество в датафрейме составляет 2043, далее идет категория кофейня 1413, далее бар и паб 765, пиццерия составляет 633 заведения, быстрое питание 603, столовая 315 и былочных 256."
   ]
  },
  {
   "cell_type": "markdown",
   "metadata": {},
   "source": [
    "<div class=\"alert alert-block alert-success\">\n",
    "\n",
    "**Комментарий ревьювера (все отлично)**\n",
    "    \n",
    "Хорошая работа с графиком:\n",
    "    \n",
    "✔ есть название графика;\n",
    "    \n",
    "✔ есть подписи осей;\n",
    "    \n",
    "✔ график отсортирован;\n",
    "    \n",
    "✔ есть комментарий по результатам.\n",
    "</div>"
   ]
  },
  {
   "cell_type": "markdown",
   "metadata": {},
   "source": [
    "<font color='black'><b> 3.2 Исследуем количество посадочных мест в местах по категориям: рестораны, кофейни, пиццерии, бары и так далее. Построем визуализацию. Проанализируем результаты и сделаем выводы. </b></font><br>"
   ]
  },
  {
   "cell_type": "code",
   "execution_count": null,
   "metadata": {},
   "outputs": [],
   "source": [
    "order_2=moscow_places.groupby('category').seats.median().sort_values()\n",
    "print(order_2)"
   ]
  },
  {
   "cell_type": "code",
   "execution_count": null,
   "metadata": {},
   "outputs": [],
   "source": [
    "plt.figure(figsize=(12, 8))\n",
    "sns.boxplot(x='seats', y='category', data = moscow_places, order=order_2.index.tolist())\n",
    "plt.xlabel(\"Категории\")\n",
    "plt.ylabel(\"Количество заведений\")\n",
    "plt.title(\"Столбчатая диаграмма, которая отображает количество посадочных мест в местах по категориям.\")\n",
    "plt.show()"
   ]
  },
  {
   "cell_type": "markdown",
   "metadata": {},
   "source": [
    "<div class=\"alert alert-block alert-success\">\n",
    "\n",
    "**Комментарий ревьювера v2 (все отлично)**\n",
    "    \n",
    "Принято👍\n",
    "</div>"
   ]
  },
  {
   "cell_type": "markdown",
   "metadata": {},
   "source": [
    "Больше всего посадочных мест в ресторанах, затем в барах и пабах, тройку лидиров замыкает кофейни. Медиана в 50 мест для булочных кажется подозрительной и вызывает вопросы. "
   ]
  },
  {
   "cell_type": "markdown",
   "metadata": {},
   "source": [
    "Я бы обьяснил такое распределение по количеству мест, временем которое люди находятся в данном заведение. В ресторан приходят хорошо провести время, получить удовольствие от процесса. В барах люди выпивают и разговаривают, и тоже проводят много времени в заведении. В то время как в булочной столовой или кофейне люди заходят с конкретной целью перекусить, после чего покидают заведение."
   ]
  },
  {
   "cell_type": "markdown",
   "metadata": {},
   "source": [
    "<font color='black'><b> 3.3 Рассмотрим и изобразим соотношение сетевых и несетевых заведений в датасете. </b></font><br>"
   ]
  },
  {
   "cell_type": "code",
   "execution_count": null,
   "metadata": {},
   "outputs": [],
   "source": [
    "labels = ['Сетевые', 'Не сетевые']\n",
    "values = [moscow_places.chain.mean(), 1 - moscow_places.chain.mean()]\n",
    "\n",
    "# Построение графика\n",
    "fig = go.Figure(data=[go.Pie(labels=labels, values=values, \n",
    "                             textinfo='percent', \n",
    "                             hoverinfo='label+percent')])\n",
    "fig.update_layout(title_text='Соотношение сетевых и несетевых заведений', title_font_size=24)\n",
    "fig.show()"
   ]
  },
  {
   "cell_type": "markdown",
   "metadata": {},
   "source": [
    "Сетевых заведений почти вдвое меньше, чем несетевых."
   ]
  },
  {
   "cell_type": "markdown",
   "metadata": {},
   "source": [
    "<div class=\"alert alert-block alert-success\">\n",
    "\n",
    "**Комментарий ревьювера (все отлично)**\n",
    "    \n",
    "Когда категорий немного круговая диаграмма отлично работает👍\n",
    "</div>"
   ]
  },
  {
   "cell_type": "markdown",
   "metadata": {},
   "source": [
    "<font color='black'><b> 3.4 Посмотрим какие категории заведений чаще являются сетевыми. </b></font><br>"
   ]
  },
  {
   "cell_type": "code",
   "execution_count": null,
   "metadata": {},
   "outputs": [],
   "source": [
    "plt.figure(figsize=(20, 8))\n",
    "\n",
    "# Группируем данные и сортируем категории по количеству заведений\n",
    "category_counts = moscow_places.groupby('category').size().sort_values(ascending=False)\n",
    "sorted_categories = category_counts.index\n",
    "\n",
    "# Строим график с учетом порядка категорий\n",
    "ax = sns.countplot(\n",
    "    data=moscow_places,\n",
    "    x='category',\n",
    "    hue='chain',\n",
    "    order=sorted_categories\n",
    ")\n",
    "\n",
    "# Настройка заголовков и подписей\n",
    "ax.set_title(\"Распределение заведений по категориям\", fontsize=30)\n",
    "ax.set_xlabel(\"Категории\", fontsize=20)\n",
    "ax.set_ylabel(\"Число заведений\", fontsize=20)\n",
    "ax.tick_params(labelsize=14)\n",
    "\n",
    "# Легенда\n",
    "plt.legend(\n",
    "    title='Сетевое заведение',\n",
    "    loc='upper right',\n",
    "    labels=['Не сетевые', 'Сетевые'],\n",
    "    fontsize=20\n",
    ")\n",
    "\n",
    "plt.show()\n"
   ]
  },
  {
   "cell_type": "markdown",
   "metadata": {},
   "source": [
    "<div class=\"alert alert-block alert-success\">\n",
    "\n",
    "**Комментарий ревьювера v2 (все отлично)**\n",
    "    \n",
    "Классный график👍\n",
    "</div>"
   ]
  },
  {
   "cell_type": "markdown",
   "metadata": {},
   "source": [
    "Замечаем, что более половины булочных относятся к сетевым заведениям. Также около половины кофеен и пиццерий представлены сетями. Самая низкая доля сетевых заведений наблюдается среди баров."
   ]
  },
  {
   "cell_type": "markdown",
   "metadata": {},
   "source": [
    "<font color='black'><b> 3.5 Сгруппируем данные по названиям заведений и найдем топ-15 популярных сетей в Москве. Построем подходящую для такой информации визуализацию. </b></font><br>"
   ]
  },
  {
   "cell_type": "code",
   "execution_count": null,
   "metadata": {},
   "outputs": [],
   "source": [
    "top_15 = moscow_places.groupby(['name', 'category'], as_index=False).address.count().sort_values(by='address', ascending=False)[:15]\n",
    "top_15.columns = ('Название', 'Категория', 'Количество заведений')\n",
    "top_15"
   ]
  },
  {
   "cell_type": "code",
   "execution_count": null,
   "metadata": {},
   "outputs": [],
   "source": [
    "# Функция для вычисления количества заведений по категории\n",
    "def calculate_category_count(row, category):\n",
    "    return row['Количество заведений'] if row['Категория'] == category else 0\n",
    "\n",
    "# Добавление столбцов по категориям\n",
    "for category in top_15['Категория'].unique():\n",
    "    top_15[f'{category}'] = top_15.apply(calculate_category_count, axis=1, category=category)\n",
    "\n",
    "# Подготовка данных для графика\n",
    "df = top_15.set_index('Название').iloc[:, 2:]\n",
    "\n",
    "# Построение горизонтальной столбчатой диаграммы\n",
    "fig, ax = plt.subplots(figsize=(12, 8))  # увеличиваем размер графика\n",
    "df.plot(kind='barh', stacked=True, color=sns.color_palette(\"Set2\"), ax=ax)  # использована палитра \"Set2\" для большей читаемости\n",
    "\n",
    "# Настройка подписей и заголовков\n",
    "ax.set_xlabel('Количество заведений', fontsize=18)\n",
    "ax.set_ylabel('Название сети', fontsize=18)\n",
    "ax.tick_params(labelsize=14)\n",
    "ax.set_title('Топ-15 сетевых заведений по количеству точек', fontsize=22)\n",
    "\n",
    "# Настройка легенды\n",
    "plt.legend(title='Категория', loc='upper right', fontsize=12, title_fontsize=14)\n",
    "plt.tight_layout()  # оптимизируем расположение элементов графика\n",
    "plt.show()"
   ]
  },
  {
   "cell_type": "markdown",
   "metadata": {},
   "source": [
    "Видно, что самой крупной сетью в наших данных является \"Шоколадница\". Кроме того, среди топ-15 самых популярных сетей большинство составляют кофейни — их всего 7."
   ]
  },
  {
   "cell_type": "markdown",
   "metadata": {},
   "source": [
    "<div class=\"alert alert-block alert-success\">\n",
    "\n",
    "**Комментарий ревьювера (все отлично)**\n",
    "    \n",
    "Хорошее решение отразить график по горизонтали, названия удобно читать👍\n",
    "</div>"
   ]
  },
  {
   "cell_type": "markdown",
   "metadata": {},
   "source": [
    "<font color='black'><b> 3.6 Посмотрим какие административные районы Москвы присутствуют в датасете? Отобразим общее количество заведений и количество заведений каждой категории по районам. Попробуем проиллюстрировать эту информацию одним графиком. </b></font><br>"
   ]
  },
  {
   "cell_type": "code",
   "execution_count": null,
   "metadata": {},
   "outputs": [],
   "source": [
    "# Построение графика\n",
    "fig = px.histogram(\n",
    "    moscow_places, \n",
    "    y='district', \n",
    "    color='category', \n",
    "    barmode='stack'\n",
    ")\n",
    "\n",
    "# Настройка оформления графика\n",
    "fig.update_layout(\n",
    "    title={\n",
    "        'text': 'Распределение заведений по типам и районам Москвы', \n",
    "        'font': dict(size=24)\n",
    "    },\n",
    "    xaxis_title_text='Количество заведений',\n",
    "    yaxis_title_text='Район',\n",
    "    font=dict(size=18),\n",
    "    legend_title=\"Категория заведения\",\n",
    "    yaxis=dict(tickfont=dict(size=14)),\n",
    "    xaxis=dict(tickfont=dict(size=14)),\n",
    "    width=1000,\n",
    "    height=600,\n",
    ")\n",
    "\n",
    "# Сортировка районов по количеству заведений\n",
    "fig.update_yaxes(\n",
    "    categoryorder='array', \n",
    "    categoryarray=moscow_places['district'].value_counts().index\n",
    ")\n",
    "\n",
    "fig.show()"
   ]
  },
  {
   "cell_type": "markdown",
   "metadata": {},
   "source": [
    "<div class=\"alert alert-block alert-success\">\n",
    "\n",
    "**Комментарий ревьювера (все отлично)**\n",
    "    \n",
    "Здорово, что отсортировал округи по количеству наблюдений👍\n",
    "    \n",
    "\n",
    "</div>"
   ]
  },
  {
   "cell_type": "markdown",
   "metadata": {},
   "source": [
    "Из графика видно, что наибольшее количество заведений сосредоточено в Центральном административном округе, а наименьшее — в Северо-Западном. При этом порядок типов заведений по количеству сохраняется в каждом округе: больше всего кафе, а меньше всего столовых."
   ]
  },
  {
   "cell_type": "markdown",
   "metadata": {},
   "source": [
    "<font color='black'><b> 3.7 Визуализируем распределение средних рейтингов по категориям заведений и узнаем сильно ли различаются усреднённые рейтинги в разных типах общепита.  </b></font><br>"
   ]
  },
  {
   "cell_type": "code",
   "execution_count": null,
   "metadata": {},
   "outputs": [],
   "source": [
    "# Вычисляем средние рейтинги для каждой категории и сортируем их\n",
    "average_ratings = moscow_places.groupby('category')['rating'].mean().sort_values(ascending=False)\n",
    "sorted_categories = average_ratings.index\n",
    "\n",
    "plt.figure(figsize=(12, 6))\n",
    "sns.barplot(data=moscow_places, x='rating', y='category',  palette='viridis', order=sorted_categories)\n",
    "\n",
    "# Ограничиваем диапазон значений на оси X\n",
    "plt.xlim(4, None)\n",
    "\n",
    "# Настройка подписей и заголовков\n",
    "plt.xlabel('Средний рейтинг', fontsize=14)\n",
    "plt.ylabel('Категория заведения', fontsize=14)\n",
    "plt.title('Распределение средних рейтингов по категориям заведений', fontsize=16)\n",
    "\n",
    "plt.show()\n"
   ]
  },
  {
   "cell_type": "markdown",
   "metadata": {},
   "source": [
    "Заведения быстрого питания, как правило, имеют самые низкие оценки, в то время как бары и пабы получают самые высокие."
   ]
  },
  {
   "cell_type": "markdown",
   "metadata": {},
   "source": [
    "<font color='black'><b> 3.8 Построем фоновую картограмму (хороплет) со средним рейтингом заведений каждого района.  </b></font><br>"
   ]
  },
  {
   "cell_type": "code",
   "execution_count": null,
   "metadata": {
    "scrolled": true
   },
   "outputs": [],
   "source": [
    "sr_rating = moscow_places.groupby('district', as_index=False)['rating'].agg('mean')\n",
    "\n",
    "karta_geo = '/datasets/admin_level_geomap.geojson'\n",
    "\n",
    "# Центр Москвы (широта и долгота)\n",
    "moscow_lat, moscow_lng = 55.751244, 37.618423\n",
    "\n",
    "# Создаем карту Москвы\n",
    "m = Map(location=[moscow_lat, moscow_lng], zoom_start=10, tiles='Cartodb Positron')\n",
    "\n",
    "# Создаем хороплет с интерактивными всплывающими окнами\n",
    "choropleth = Choropleth(\n",
    "    geo_data=karta_geo,\n",
    "    data=sr_rating,\n",
    "    columns=['district', 'rating'],\n",
    "    key_on='feature.properties.name',  # Убедитесь, что 'name' соответствует столбцу района\n",
    "    fill_color='PuBu',\n",
    "    fill_opacity=0.7,  # Легкая прозрачность\n",
    "    line_opacity=0.2,  # Слабые границы между районами\n",
    "    legend_name='Средний рейтинг заведений по районам',\n",
    "    highlight=True,    # Подсветка при наведении\n",
    ").add_to(m)\n",
    "\n",
    "# Добавляем всплывающие окна с рейтингом по районам\n",
    "for _, row in sr_rating.iterrows():\n",
    "    popup = Popup(f\"{row['district']}: {row['rating']:.2f}\", max_width=150)\n",
    "    folium.Marker(\n",
    "        [moscow_lat, moscow_lng],  # Центр района, добавьте ваши координаты, если есть\n",
    "        popup=popup\n",
    "    ).add_to(m)\n",
    "\n",
    "# Добавляем возможность управления слоями\n",
    "LayerControl().add_to(m)\n",
    "\n",
    "# Отображаем карту\n",
    "m"
   ]
  },
  {
   "cell_type": "markdown",
   "metadata": {},
   "source": [
    "Заведения с самыми высокими рейтингами расположены в центре города, тогда как самые низкие оценки наблюдаются на юго-востоке."
   ]
  },
  {
   "cell_type": "markdown",
   "metadata": {},
   "source": [
    "<font color='black'><b> 3.9 Отобразим все заведения датасета на карте с помощью кластеров средствами библиотеки folium.  </b></font><br>"
   ]
  },
  {
   "cell_type": "code",
   "execution_count": null,
   "metadata": {},
   "outputs": [],
   "source": [
    "# Координаты центра Москвы\n",
    "moscow_lat, moscow_lng = 55.751244, 37.618423\n",
    "\n",
    "# Создаем карту Москвы\n",
    "m = folium.Map(location=[moscow_lat, moscow_lng], zoom_start=10, tiles='Cartodb Positron')\n",
    "\n",
    "# Инициализируем кластер\n",
    "marker_cluster = MarkerCluster().add_to(m)\n",
    "\n",
    "# Добавляем заведения на карту\n",
    "for idx, row in moscow_places.iterrows():\n",
    "    folium.Marker(\n",
    "        location=[row['lat'], row['lng']],\n",
    "        popup=f\"{row['name']}<br>Рейтинг: {row['rating']}<br>Категория: {row['category']}\",\n",
    "        tooltip=row['name']\n",
    "    ).add_to(marker_cluster)\n",
    "\n",
    "# Отображаем карту\n",
    "m\n"
   ]
  },
  {
   "cell_type": "markdown",
   "metadata": {},
   "source": [
    "Плотность заведений увеличивается по мере приближения к центру города."
   ]
  },
  {
   "cell_type": "markdown",
   "metadata": {},
   "source": [
    "<div class=\"alert alert-block alert-success\">\n",
    "\n",
    "**Комментарий ревьювера (все отлично)**\n",
    "    \n",
    "С точки зрения геоаналитики при таких задачах лучше работать с точками с координатами, чем с полигонами в виде округов. \n",
    "\n",
    "Тепловая карта покажет интересные моменты. Например, можно увидеть, что расположение также зависит от транспортной доступности. Наиболее теплые точки сосредоточены либо к станциям метро или магистральным улицам. \n",
    "    \n",
    "```python\n",
    "import folium\n",
    "from folium import plugins\n",
    "\n",
    "m = folium.Map([55.751244, 37.618423], zoom_start=8)\n",
    "heatmap = data[['lat','lng']]\n",
    "m.add_child(plugins.HeatMap(heatmap, radius=14))\n",
    "m    \n",
    "```\n",
    "    \n",
    "\n",
    "</div>\n",
    "</div>"
   ]
  },
  {
   "cell_type": "markdown",
   "metadata": {},
   "source": [
    "<font color='black'><b> 3.10 Найдем топ-15 улиц по количеству заведений. Построем график распределения количества заведений и их категорий по этим улицам. Попробуем проиллюстрировать эту информацию одним графиком.\n",
    "  </b></font><br>"
   ]
  },
  {
   "cell_type": "code",
   "execution_count": null,
   "metadata": {},
   "outputs": [],
   "source": [
    "top_streets = moscow_places.pivot_table(index='street', values='name', aggfunc='count').sort_values(by='name', ascending=False).head(15)\n",
    "# соделаем отдельно список топ-15 улиц\n",
    "top_streets"
   ]
  },
  {
   "cell_type": "code",
   "execution_count": null,
   "metadata": {},
   "outputs": [],
   "source": [
    "# Получаем топ-15 улиц по количеству заведений\n",
    "top_streets = moscow_places['street'].value_counts().nlargest(15).index\n",
    "top_data = moscow_places[moscow_places['street'].isin(top_streets)]\n",
    "\n",
    "# Группируем данные по улице и категории, считая количество заведений\n",
    "street_category_counts = top_data.groupby(['street', 'category']).size().unstack(fill_value=0)\n",
    "\n",
    "# Сортируем улицы по общему количеству заведений\n",
    "street_category_counts = street_category_counts.loc[\n",
    "    street_category_counts.sum(axis=1).sort_values(ascending=False).index\n",
    "]\n",
    "\n",
    "# Настройка цветов\n",
    "palette = sns.color_palette('tab10')  # Более контрастная палитра\n",
    "\n",
    "# Построение накопленного барплота\n",
    "street_category_counts.plot(\n",
    "    kind='barh', \n",
    "    stacked=True, \n",
    "    figsize=(12, 8), \n",
    "    color=palette,\n",
    "    edgecolor='k'\n",
    ")\n",
    "\n",
    "# Настройка графика\n",
    "plt.xlabel('Количество заведений', fontsize=14)\n",
    "plt.ylabel('Улица', fontsize=14)\n",
    "plt.title('Топ-15 улиц по количеству заведений и их распределение по категориям', fontsize=16)\n",
    "plt.legend(title='Категория заведений', bbox_to_anchor=(1.05, 1), loc='upper left', fontsize=10)\n",
    "plt.tight_layout()\n",
    "\n",
    "# Отображаем график\n",
    "plt.show()\n"
   ]
  },
  {
   "cell_type": "markdown",
   "metadata": {},
   "source": [
    "<div class=\"alert alert-block alert-success\">\n",
    "\n",
    "**Комментарий ревьювера v2 (все отлично)**\n",
    "    \n",
    "Классный график👍\n",
    "</div>"
   ]
  },
  {
   "cell_type": "markdown",
   "metadata": {},
   "source": [
    "Проспект Мира выделяется наибольшим количеством заведений. Выбрав конкретную улицу для размещения заведения, можно проанализировать, какие типы заведений на ней представлены меньше всего. Кроме того, на более длинных улицах обычно сосредоточено большее количество заведений."
   ]
  },
  {
   "cell_type": "markdown",
   "metadata": {},
   "source": [
    "<div class=\"alert alert-block alert-success\">\n",
    "\n",
    "**Комментарий ревьювера (все отлично)**\n",
    "    \n",
    "Согласен, протяженность улицы может объяснять большое количество заведений👌\n",
    "\n",
    "</div>"
   ]
  },
  {
   "cell_type": "markdown",
   "metadata": {},
   "source": [
    "<font color='black'><b> 3.11 Найдем улицы, на которых находится только один объект общепита.  </b></font><br>"
   ]
  },
  {
   "cell_type": "code",
   "execution_count": null,
   "metadata": {},
   "outputs": [],
   "source": [
    "# Группируем данные по адресам и считаем количество заведений на каждой улице\n",
    "single_place_streets = moscow_places['street'].value_counts()\n",
    "\n",
    "# Оставляем только те улицы, на которых находится одно заведение\n",
    "single_place_streets = single_place_streets[single_place_streets == 1]\n",
    "\n",
    "# Выводим результат\n",
    "single_place_streets.index.tolist()\n"
   ]
  },
  {
   "cell_type": "code",
   "execution_count": null,
   "metadata": {
    "scrolled": true
   },
   "outputs": [],
   "source": [
    "moscow_lat, moscow_lng = 55.751244, 37.618423\n",
    "\n",
    "# Создаем карту Москвы\n",
    "m = folium.Map(location=[moscow_lat, moscow_lng], zoom_start=10, tiles='Cartodb Positron')\n",
    "\n",
    "# Инициализируем MarkerCluster\n",
    "marker_cluster = MarkerCluster().add_to(m)\n",
    "\n",
    "# Фильтруем улицы с одним заведением\n",
    "data_one_on_street = moscow_places.groupby('street').filter(lambda x: len(x) == 1)\n",
    "\n",
    "# Определяем функцию для добавления маркеров в кластер\n",
    "def create_clusters(row):\n",
    "    folium.Marker(\n",
    "        location=[row['lat'], row['lng']],\n",
    "        popup=f\"{row['name']}<br>Рейтинг: {row['rating']}<br>Адрес: {row['street']}\",\n",
    "    ).add_to(marker_cluster)\n",
    "\n",
    "# Применяем функцию к отфильтрованному датафрейму\n",
    "data_one_on_street.apply(create_clusters, axis=1)\n",
    "\n",
    "# Отображаем карту\n",
    "m\n"
   ]
  },
  {
   "cell_type": "markdown",
   "metadata": {},
   "source": [
    "Такие улицы существуют как в центре москвы так и на окраине. В центре Москвы больше улиц с одним заведением общепита из-за плотной застройки, дорогой аренды и высокого спроса на уникальные места среди туристов и жителей."
   ]
  },
  {
   "cell_type": "markdown",
   "metadata": {},
   "source": [
    "Покажем, как распределены одиночные заведения по типам на графике."
   ]
  },
  {
   "cell_type": "code",
   "execution_count": null,
   "metadata": {},
   "outputs": [],
   "source": [
    "# Фильтруем данные для улиц с одним заведением\n",
    "data_one_on_street = moscow_places.groupby('street').filter(lambda x: len(x) == 1)\n",
    "\n",
    "# Построение графика распределения типов заведений\n",
    "plt.figure(figsize=(15, 8))\n",
    "sns.countplot(\n",
    "    data=data_one_on_street, \n",
    "    y='category',  # Типы заведений по вертикали\n",
    "    order=data_one_on_street['category'].value_counts().index,  # Сортируем по убыванию\n",
    "    palette='tab10'\n",
    ")\n",
    "\n",
    "# Настройка подписей\n",
    "plt.xlabel('Количество одиночных заведений', fontsize=14)\n",
    "plt.ylabel('Тип заведения', fontsize=14)\n",
    "plt.title('Распределение одиночных заведений по типам', fontsize=16)\n",
    "plt.tight_layout()\n",
    "\n",
    "plt.show()\n"
   ]
  },
  {
   "cell_type": "markdown",
   "metadata": {},
   "source": [
    "Больше всего одиночными заведениями являются Кафе, скорее всего, потому что это самое популярное заведение и занимает не много площади."
   ]
  },
  {
   "cell_type": "markdown",
   "metadata": {},
   "source": [
    "<div class=\"alert alert-block alert-success\">\n",
    "\n",
    "**Комментарий ревьювера v2 (все отлично)**\n",
    "    \n",
    "Согласен с комментариями👍\n",
    "</div>"
   ]
  },
  {
   "cell_type": "markdown",
   "metadata": {},
   "source": [
    "<font color='black'><b> 3.12 Посчитаем медиану средних чеков заведений для каждого района. Построем фоновую картограмму (хороплет) с полученными значениями для каждого района. Проанализируем цены в центральном административном округе и других. Узнаем как удалённость от центра влияет на цены в заведениях?\n",
    "  </b></font><br>"
   ]
  },
  {
   "cell_type": "code",
   "execution_count": null,
   "metadata": {},
   "outputs": [],
   "source": [
    "# Считаем медиану среднего чека для каждого района\n",
    "median_check_per_district = moscow_places.groupby('district')['middle_avg_bill'].median().reset_index()\n",
    "median_check_per_district = median_check_per_district.rename(columns={'middle_avg_bill': 'median_check'})\n"
   ]
  },
  {
   "cell_type": "code",
   "execution_count": null,
   "metadata": {},
   "outputs": [],
   "source": [
    "# Создаём карту\n",
    "m = folium.Map(location=[moscow_lat, moscow_lng], zoom_start=10, tiles='Cartodb Positron')\n",
    "\n",
    "# Создаём хороплет с медианой среднего чека для каждого района\n",
    "Choropleth(\n",
    "    geo_data=karta_geo,\n",
    "    data=median_check_per_district,\n",
    "    columns=['district', 'median_check'],\n",
    "    key_on='feature.properties.name',  # Убедитесь, что 'name' совпадает с названием района в geojson\n",
    "    fill_color='YlGnBu',\n",
    "    fill_opacity=0.8,\n",
    "    line_opacity=0.2,\n",
    "    legend_name='Медиана среднего чека по районам',\n",
    ").add_to(m)\n",
    "\n",
    "# Отображаем карту\n",
    "m\n"
   ]
  },
  {
   "cell_type": "markdown",
   "metadata": {},
   "source": [
    "Можно отметить, что в центральном и западном округах средний чек, как правило, самый высокий, тогда как в Южном, Юго-Восточном и Северо-Восточном округах он самый низкий. Различия в соотношении типов заведений в этих районах могут оказывать влияние на уровень среднего чека. Удаленность от центра влияет на мидиану среднего чека, средний чек становится меньше, кроме западного округа там средний чек примерно равен среднему чеку в центре Москвы."
   ]
  },
  {
   "cell_type": "markdown",
   "metadata": {},
   "source": [
    "<div class=\"alert alert-block alert-success\">\n",
    "\n",
    "**Комментарий ревьювера (все отлично)**\n",
    "    \n",
    "Полигоны здесь наглядный пример \"средней температуры по больнице\". Прикрепляю пример, учитывающий вес (средний чек) точки, который позволит подробнее изучить зависимость чека от удаленности от центра:\n",
    "```python    \n",
    "from folium.plugins.heat_map import HeatMap\n",
    "m = folium.Map([55.751244, 37.618423], zoom_start=10)\n",
    "heatmap_data = data[['lat','lng', 'middle_avg_bill']].copy().dropna() # без удаления пустых значений heatmap не сработает\n",
    "heatmap = heatmap_data[['lat','lng', 'middle_avg_bill']] \n",
    "HeatMap(data=heatmap, radius=14).add_to(m)\n",
    "m \n",
    "```\n",
    "</div>"
   ]
  },
  {
   "cell_type": "markdown",
   "metadata": {},
   "source": [
    "Вывод по общему анализу\n",
    "В Москве среди всех заведений общественного питания преобладают кафе и рестораны, в то время как булочные и столовые встречаются реже.\n",
    "\n",
    "Крупнейшими по числу посадочных мест заведениями являются рестораны, бары и кофейни, а самые небольшие — булочные.\n",
    "\n",
    "Сетевые заведения составляют более трети от общего числа, причём более половины всех булочных, пиццерий и кофеен входят в сети.\n",
    "\n",
    "Сеть с наибольшим числом точек в Москве — \"Шоколадница\"; также среди топ-15 популярных сетей семь представляют собой кофейни.\n",
    "\n",
    "Меньше всего заведений общественного питания расположено в Северо-Западном округе, тогда как в Центральном их больше всего. При этом типы заведений сбалансированы по всем округам.\n",
    "\n",
    "Заведения быстрого питания, как правило, имеют самые низкие оценки, а бары и пабы — самые высокие. В Центральном округе заведения в среднем получают самый высокий рейтинг.\n",
    "\n",
    "Средний чек наиболее высок в Центральном и Западном округах, и наиболее низок — в Южном, Юго-Восточном и Северо-Восточном."
   ]
  },
  {
   "cell_type": "markdown",
   "metadata": {},
   "source": [
    "<div class=\"alert alert-block alert-success\">\n",
    "\n",
    "**Комментарий ревьювера (все отлично)**\n",
    "    \n",
    "Основные результаты отражены👍\n",
    "</div>"
   ]
  },
  {
   "cell_type": "markdown",
   "metadata": {},
   "source": [
    "# Шаг 4. Детализируем исследование: открытие кофейни"
   ]
  },
  {
   "cell_type": "markdown",
   "metadata": {},
   "source": [
    "<font color='black'><b> 4.1 Определим сколько всего кофеен в датасете и в каких районах их больше всего, каковы особенности их расположения.  </b></font><br>"
   ]
  },
  {
   "cell_type": "code",
   "execution_count": null,
   "metadata": {},
   "outputs": [],
   "source": [
    "# создадим тодельную таблицу только с кофейнями\n",
    "coffee_moscow_places = moscow_places[moscow_places['category'] == 'кофейня']"
   ]
  },
  {
   "cell_type": "code",
   "execution_count": null,
   "metadata": {},
   "outputs": [],
   "source": [
    "coffee_moscow_places['category'].count()"
   ]
  },
  {
   "cell_type": "markdown",
   "metadata": {},
   "source": [
    "Всего у нас находится 1413 кофеен в датасете."
   ]
  },
  {
   "cell_type": "markdown",
   "metadata": {},
   "source": [
    "Смотрим распределение по районам."
   ]
  },
  {
   "cell_type": "code",
   "execution_count": null,
   "metadata": {},
   "outputs": [],
   "source": [
    "plt.figure(figsize=(10, 8))\n",
    "sns.countplot(\n",
    "    y='district',  # Меняем ось: теперь \"районы\" будут по вертикали\n",
    "    data=coffee_moscow_places, \n",
    "    order=coffee_moscow_places['district'].value_counts().index,  # Сортируем районы по убыванию\n",
    "    palette='tab10'  # Разноцветная палитра\n",
    ")\n",
    "plt.xlabel('Количество кофеен', fontsize=14)\n",
    "plt.ylabel('Районы Москвы', fontsize=14)\n",
    "plt.title('Распределение кофеен по районам', fontsize=16)\n",
    "plt.tight_layout()\n",
    "\n",
    "plt.show()\n"
   ]
  },
  {
   "cell_type": "markdown",
   "metadata": {},
   "source": [
    "Больше всего кофеен в центральном административном округе. В остальных районах их количество от 50 до 200 заведений на район."
   ]
  },
  {
   "cell_type": "markdown",
   "metadata": {},
   "source": [
    "<font color='black'><b> 4.2 Узнаем есть ли круглосуточные кофейни.  </b></font><br>"
   ]
  },
  {
   "cell_type": "code",
   "execution_count": null,
   "metadata": {},
   "outputs": [],
   "source": [
    "coffee_moscow_places['is_24_7'].sum()"
   ]
  },
  {
   "cell_type": "markdown",
   "metadata": {},
   "source": [
    "Всего в Москве находится 59 круглосуточных кофеин"
   ]
  },
  {
   "cell_type": "markdown",
   "metadata": {},
   "source": [
    "<font color='black'><b> 4.3 Проверим какие у кофеен рейтинги и как они распределяются по районам.  </b></font><br>"
   ]
  },
  {
   "cell_type": "code",
   "execution_count": null,
   "metadata": {},
   "outputs": [],
   "source": [
    "# Создаём гистограмму распределения рейтингов кофеен\n",
    "plt.figure(figsize=(10, 6))\n",
    "ax = sns.histplot(coffee_moscow_places['rating'], bins=35, kde=True, color='skyblue')\n",
    "\n",
    "# Добавляем заголовки и метки осей\n",
    "ax.set_title('Распределение рейтингов у кофеен', fontsize=24)\n",
    "ax.set_xlabel('Средний рейтинг', fontsize=20)\n",
    "ax.set_ylabel('Количество наблюдений', fontsize=20)\n",
    "\n",
    "# Выводим среднюю оценку кофеен\n",
    "mean_rating = coffee_moscow_places['rating'].mean()\n",
    "print(f'Средняя оценка кофеен: {mean_rating:.1f}')"
   ]
  },
  {
   "cell_type": "code",
   "execution_count": null,
   "metadata": {},
   "outputs": [],
   "source": [
    "# Группируем по районам и вычисляем средний рейтинг\n",
    "sr_rating = coffee_moscow_places.groupby('district')['rating'].mean().reset_index()\n",
    "sr_rating = sr_rating.rename(columns={'rating': 'sr_rating'})\n",
    "\n",
    "# Выводим таблицу средних рейтингов по районам\n",
    "print(sr_rating)"
   ]
  },
  {
   "cell_type": "code",
   "execution_count": null,
   "metadata": {},
   "outputs": [],
   "source": [
    "# Сортируем районы по среднему рейтингу\n",
    "sorted_districts = sr_rating.groupby('district')['sr_rating'].mean().sort_values(ascending=False).index\n",
    "\n",
    "plt.figure(figsize=(15, 8))\n",
    "sns.barplot(\n",
    "    y='district', \n",
    "    x='sr_rating',  \n",
    "    data=sr_rating, \n",
    "    palette='viridis', \n",
    "    order=sorted_districts  \n",
    ")\n",
    "\n",
    "# Ограничение снизу от 4\n",
    "plt.xlim(4, None)\n",
    "\n",
    "# Настройка подписей\n",
    "plt.xlabel('Средний рейтинг кофеен', fontsize=14)\n",
    "plt.ylabel('Районы Москвы', fontsize=14)\n",
    "plt.title('Средний рейтинг кофеен по районам', fontsize=16)\n",
    "plt.tight_layout()\n",
    "\n",
    "plt.show()\n"
   ]
  },
  {
   "cell_type": "markdown",
   "metadata": {},
   "source": [
    "В западном районе самые низкие рейтинги"
   ]
  },
  {
   "cell_type": "markdown",
   "metadata": {},
   "source": [
    "<font color='black'><b> 4.4 Узнаем на какую стоимость чашки капучино стоит ориентироваться при открытии и почему.  </b></font><br>"
   ]
  },
  {
   "cell_type": "markdown",
   "metadata": {},
   "source": [
    "Чтобы определить целевую стоимость чашки капучино при открытии кофейни, стоит ориентироваться на данные о ценах в успешных заведениях. Рассмотрим кофейни с рейтингом выше или равным медианному (мы ведь стремимся обеспечить высокий уровень качества и репутацию). На основе этих данных рассчитаем медианную цену, а также значения 10-го и 90-го перцентилей, чтобы понять диапазон цен. Затем построим распределение цен по районам."
   ]
  },
  {
   "cell_type": "markdown",
   "metadata": {},
   "source": [
    "Анализ цен на капучино\n",
    "Выборка кофеен с высоким рейтингом\n",
    "Отбираем кофейни с рейтингом не ниже 4.3."
   ]
  },
  {
   "cell_type": "code",
   "execution_count": null,
   "metadata": {},
   "outputs": [],
   "source": [
    "best_coffee_houses = coffee_moscow_places[coffee_moscow_places.rating >= 4.3]"
   ]
  },
  {
   "cell_type": "markdown",
   "metadata": {},
   "source": [
    "Рассчитываем медианную цену капучино, а также 10-й и 90-й перцентили:"
   ]
  },
  {
   "cell_type": "code",
   "execution_count": null,
   "metadata": {},
   "outputs": [],
   "source": [
    "print(f'Медианная цена капучино: {best_coffee_houses.middle_coffee_cup.median()}')\n",
    "print(f'Цена капучино у 10% кофеен меньше либо равная: {best_coffee_houses.middle_coffee_cup.quantile(0.1)}')\n",
    "print(f'Цена капучино у 10% кофеен больше либо равная: {best_coffee_houses.middle_coffee_cup.quantile(0.9)}')"
   ]
  },
  {
   "cell_type": "markdown",
   "metadata": {},
   "source": [
    "Рассчитываем медианную стоимость капучино для каждого района:"
   ]
  },
  {
   "cell_type": "code",
   "execution_count": null,
   "metadata": {},
   "outputs": [],
   "source": [
    "price_cof_houses = coffee_moscow_places.groupby('district', as_index=False)['middle_coffee_cup'].agg('median')"
   ]
  },
  {
   "cell_type": "code",
   "execution_count": null,
   "metadata": {},
   "outputs": [],
   "source": [
    "# Сортируем районы по медианной стоимости\n",
    "sorted_districts = price_cof_houses.sort_values('middle_coffee_cup', ascending=False)['district']\n",
    "\n",
    "# Построение barplot\n",
    "plt.figure(figsize=(15, 8))\n",
    "sns.barplot(\n",
    "    x='middle_coffee_cup', \n",
    "    y='district', \n",
    "    data=price_cof_houses, \n",
    "    palette='coolwarm', \n",
    "    order=sorted_districts\n",
    ")\n",
    "\n",
    "# Настройка подписей\n",
    "plt.xlabel('Медианная стоимость капучино (руб.)', fontsize=14)\n",
    "plt.ylabel('Районы Москвы', fontsize=14)\n",
    "plt.title('Медианная стоимость капучино по районам Москвы', fontsize=16)\n",
    "plt.tight_layout()\n",
    "\n",
    "plt.show()\n"
   ]
  },
  {
   "cell_type": "markdown",
   "metadata": {},
   "source": [
    "Самые высокие цены на капучино отмечаются в Западном, Юго-Западном и Центральном административных округах."
   ]
  },
  {
   "cell_type": "markdown",
   "metadata": {},
   "source": [
    "Вывод по анализу кофеен:\n",
    "В Москве насчитывается 1413 кофеен, причем наибольшее количество расположено в Центральном административном округе. Как правило, кофейни открываются в местах с высокой проходимостью: рядом с крупными транспортными узлами, в торговых центрах, парках и жилых районах.\n",
    "\n",
    "Только 59 кофеен работают круглосуточно.\n",
    "\n",
    "Медианный рейтинг кофеен составляет 4.3, что выше среднего среди всех заведений общественного питания. В Западном округе, как правило, оценки немного ниже, чем в других районах Москвы.\n",
    "\n",
    "Анализируя кофейни с рейтингом от 4.3 и выше, мы определили, что медианная цена капучино составляет 174 рубля. У 10% кофеен цена на капучино не превышает 100 рублей, а у других 10% — начинается от 256 рублей. Самые высокие медианные цены на капучино наблюдаются в Центральном, Западном и Юго-Западном округах."
   ]
  },
  {
   "cell_type": "markdown",
   "metadata": {},
   "source": [
    "# Шаг 5. Подготовка презентации"
   ]
  },
  {
   "cell_type": "markdown",
   "metadata": {},
   "source": [
    "<font color='black'><b> 5.1 Подготовим презентацию исследования для инвесторов.  </b></font><br>"
   ]
  },
  {
   "cell_type": "markdown",
   "metadata": {},
   "source": [
    "Презентация: <https://disk.yandex.ru/d/d9zI6ELDNW6sew>"
   ]
  },
  {
   "cell_type": "markdown",
   "metadata": {},
   "source": [
    "Общий вывод:\n",
    "\n",
    "\n",
    "Анализ рынка общественного питания в Москве показал, что более трети заведений являются сетевыми, а самой крупной сетью является «Шоколадница». Среди 15 крупнейших сетей половину составляют кофейни, что указывает на высокий уровень конкуренции в сегменте. Выход на рынок против крупных сетей требует значительных инвестиций и времени на создание конкурентного преимущества.\n",
    "\n",
    "Ключевые рекомендации:\n",
    "\n",
    "Цены и расположение: Медианная цена чашки капучино в Москве составляет 174 рубля. Чтобы составить конкуренцию сетям, важно предложить цену ниже средней при высоком качестве обслуживания. Наилучшие районы для открытия кофейни — Центральный и Юго-Западный округа, так как в этих районах высокий поток клиентов и более высокие цены на кофе.\n",
    "\n",
    "Западный округ: \n",
    "\n",
    "Западный округ может предложить возможности для развития, так как общий рейтинг заведений здесь ниже, и конкуренция меньше. Однако важно учитывать, что цены на аренду недвижимости здесь высокие, и для успеха заведение должно быть достаточно крупным, чтобы оправдать затраты.\n",
    "\n",
    "Популярные форматы заведений: Самыми востребованными форматами в Москве остаются кафе, рестораны и кофейни, что подтверждает привлекательность открытия кофейни. Однако стоит избегать острой конкуренции с пиццериями, которые образуют олигополию.\n",
    "\n",
    "Выбор улицы и особенности: В Москве нет улиц с доминированием одного типа заведений, но самой популярной улицей для открытия является Проспект Мира. Оптимальное количество мест для кофейни составляет около 65, а круглосуточный режим работы не является обязательным условием.\n",
    "\n",
    "Эти выводы подчеркивают, что открытие кофейни — это перспективная идея, особенно при выборе конкурентоспособных цен, отличного сервиса и подходящего расположения в районах с высокой покупательской активностью."
   ]
  }
 ],
 "metadata": {
  "ExecuteTimeLog": [
   {
    "duration": 477,
    "start_time": "2024-11-05T07:53:16.988Z"
   },
   {
    "duration": 217,
    "start_time": "2024-11-05T08:01:06.812Z"
   },
   {
    "duration": 14,
    "start_time": "2024-11-05T08:01:19.960Z"
   },
   {
    "duration": 76,
    "start_time": "2024-11-05T08:01:26.524Z"
   },
   {
    "duration": 16,
    "start_time": "2024-11-05T08:01:29.230Z"
   },
   {
    "duration": 17,
    "start_time": "2024-11-05T08:23:53.713Z"
   },
   {
    "duration": 85,
    "start_time": "2024-11-05T09:24:16.074Z"
   },
   {
    "duration": 44,
    "start_time": "2024-11-06T03:40:01.320Z"
   },
   {
    "duration": 340,
    "start_time": "2024-11-06T03:40:21.950Z"
   },
   {
    "duration": 216,
    "start_time": "2024-11-06T03:40:22.508Z"
   },
   {
    "duration": 19,
    "start_time": "2024-11-06T03:40:22.725Z"
   },
   {
    "duration": 14,
    "start_time": "2024-11-06T03:40:23.161Z"
   },
   {
    "duration": 6,
    "start_time": "2024-11-06T03:40:24.450Z"
   },
   {
    "duration": 14,
    "start_time": "2024-11-06T03:51:18.410Z"
   },
   {
    "duration": 25,
    "start_time": "2024-11-06T03:56:17.900Z"
   },
   {
    "duration": 2,
    "start_time": "2024-11-06T03:56:21.380Z"
   },
   {
    "duration": 59,
    "start_time": "2024-11-06T03:56:21.920Z"
   },
   {
    "duration": 13,
    "start_time": "2024-11-06T03:56:22.109Z"
   },
   {
    "duration": 11,
    "start_time": "2024-11-06T03:56:22.528Z"
   },
   {
    "duration": 6,
    "start_time": "2024-11-06T03:56:24.080Z"
   },
   {
    "duration": 13,
    "start_time": "2024-11-06T03:56:24.527Z"
   },
   {
    "duration": 3,
    "start_time": "2024-11-06T03:56:31.100Z"
   },
   {
    "duration": 18,
    "start_time": "2024-11-06T03:58:41.110Z"
   },
   {
    "duration": 4,
    "start_time": "2024-11-06T03:58:45.881Z"
   },
   {
    "duration": 3,
    "start_time": "2024-11-06T03:59:26.937Z"
   },
   {
    "duration": 12,
    "start_time": "2024-11-06T03:59:27.790Z"
   },
   {
    "duration": 12,
    "start_time": "2024-11-06T03:59:28.009Z"
   },
   {
    "duration": 16,
    "start_time": "2024-11-06T03:59:58.700Z"
   },
   {
    "duration": 12,
    "start_time": "2024-11-06T04:04:55.323Z"
   },
   {
    "duration": 9,
    "start_time": "2024-11-06T04:04:57.017Z"
   },
   {
    "duration": 3,
    "start_time": "2024-11-06T04:05:12.173Z"
   },
   {
    "duration": 13,
    "start_time": "2024-11-06T04:05:13.579Z"
   },
   {
    "duration": 12,
    "start_time": "2024-11-06T04:05:14.752Z"
   },
   {
    "duration": 8,
    "start_time": "2024-11-06T04:05:15.779Z"
   },
   {
    "duration": 8,
    "start_time": "2024-11-06T05:31:45.653Z"
   },
   {
    "duration": 2,
    "start_time": "2024-11-06T05:31:51.153Z"
   },
   {
    "duration": 61,
    "start_time": "2024-11-06T05:31:51.753Z"
   },
   {
    "duration": 12,
    "start_time": "2024-11-06T05:31:51.991Z"
   },
   {
    "duration": 12,
    "start_time": "2024-11-06T05:31:52.442Z"
   },
   {
    "duration": 4,
    "start_time": "2024-11-06T05:31:53.882Z"
   },
   {
    "duration": 13,
    "start_time": "2024-11-06T05:31:55.503Z"
   },
   {
    "duration": 15,
    "start_time": "2024-11-06T05:31:56.133Z"
   },
   {
    "duration": 8,
    "start_time": "2024-11-06T05:31:56.830Z"
   },
   {
    "duration": 7,
    "start_time": "2024-11-06T05:31:58.233Z"
   },
   {
    "duration": 12,
    "start_time": "2024-11-06T05:32:16.179Z"
   },
   {
    "duration": 7,
    "start_time": "2024-11-06T05:34:51.033Z"
   },
   {
    "duration": 13,
    "start_time": "2024-11-06T05:34:51.713Z"
   },
   {
    "duration": 15,
    "start_time": "2024-11-06T06:47:28.325Z"
   },
   {
    "duration": 61,
    "start_time": "2024-11-06T06:48:21.237Z"
   },
   {
    "duration": 35,
    "start_time": "2024-11-06T06:49:10.824Z"
   },
   {
    "duration": 6,
    "start_time": "2024-11-06T06:50:14.106Z"
   },
   {
    "duration": 14,
    "start_time": "2024-11-06T06:51:21.406Z"
   },
   {
    "duration": 15,
    "start_time": "2024-11-06T06:51:22.836Z"
   },
   {
    "duration": 6,
    "start_time": "2024-11-06T06:51:23.627Z"
   },
   {
    "duration": 10,
    "start_time": "2024-11-06T06:51:39.386Z"
   },
   {
    "duration": 14,
    "start_time": "2024-11-06T06:52:23.154Z"
   },
   {
    "duration": 14,
    "start_time": "2024-11-06T06:52:23.927Z"
   },
   {
    "duration": 8,
    "start_time": "2024-11-06T06:52:24.778Z"
   },
   {
    "duration": 12,
    "start_time": "2024-11-06T06:53:10.587Z"
   },
   {
    "duration": 2,
    "start_time": "2024-11-06T06:53:35.852Z"
   },
   {
    "duration": 62,
    "start_time": "2024-11-06T06:53:36.628Z"
   },
   {
    "duration": 11,
    "start_time": "2024-11-06T06:53:36.793Z"
   },
   {
    "duration": 12,
    "start_time": "2024-11-06T06:53:37.200Z"
   },
   {
    "duration": 3,
    "start_time": "2024-11-06T06:53:38.447Z"
   },
   {
    "duration": 12,
    "start_time": "2024-11-06T06:53:38.837Z"
   },
   {
    "duration": 15,
    "start_time": "2024-11-06T06:53:39.235Z"
   },
   {
    "duration": 7,
    "start_time": "2024-11-06T06:53:39.846Z"
   },
   {
    "duration": 7,
    "start_time": "2024-11-06T06:53:40.647Z"
   },
   {
    "duration": 13,
    "start_time": "2024-11-06T06:53:40.822Z"
   },
   {
    "duration": 15,
    "start_time": "2024-11-06T06:53:41.460Z"
   },
   {
    "duration": 10,
    "start_time": "2024-11-06T06:53:41.878Z"
   },
   {
    "duration": 13,
    "start_time": "2024-11-06T06:53:42.348Z"
   },
   {
    "duration": 13,
    "start_time": "2024-11-06T06:54:44.156Z"
   },
   {
    "duration": 24,
    "start_time": "2024-11-06T06:54:45.107Z"
   },
   {
    "duration": 7,
    "start_time": "2024-11-06T06:54:45.483Z"
   },
   {
    "duration": 14,
    "start_time": "2024-11-06T06:54:46.080Z"
   },
   {
    "duration": 13,
    "start_time": "2024-11-06T06:55:11.036Z"
   },
   {
    "duration": 14,
    "start_time": "2024-11-06T06:55:11.616Z"
   },
   {
    "duration": 8,
    "start_time": "2024-11-06T06:55:12.160Z"
   },
   {
    "duration": 14,
    "start_time": "2024-11-06T06:55:12.557Z"
   },
   {
    "duration": 13,
    "start_time": "2024-11-06T06:55:22.347Z"
   },
   {
    "duration": 8,
    "start_time": "2024-11-06T06:55:23.047Z"
   },
   {
    "duration": 14,
    "start_time": "2024-11-06T06:55:23.445Z"
   },
   {
    "duration": 448,
    "start_time": "2024-11-06T10:24:48.982Z"
   },
   {
    "duration": 269,
    "start_time": "2024-11-06T10:24:49.433Z"
   },
   {
    "duration": 24,
    "start_time": "2024-11-06T10:24:49.704Z"
   },
   {
    "duration": 14,
    "start_time": "2024-11-06T10:24:49.729Z"
   },
   {
    "duration": 3,
    "start_time": "2024-11-06T10:24:49.746Z"
   },
   {
    "duration": 17,
    "start_time": "2024-11-06T10:24:49.750Z"
   },
   {
    "duration": 37,
    "start_time": "2024-11-06T10:24:49.769Z"
   },
   {
    "duration": 9,
    "start_time": "2024-11-06T10:24:49.808Z"
   },
   {
    "duration": 9,
    "start_time": "2024-11-06T10:24:49.818Z"
   },
   {
    "duration": 28,
    "start_time": "2024-11-06T10:24:49.828Z"
   },
   {
    "duration": 21,
    "start_time": "2024-11-06T10:24:49.857Z"
   },
   {
    "duration": 12,
    "start_time": "2024-11-06T10:24:49.897Z"
   },
   {
    "duration": 17,
    "start_time": "2024-11-06T10:24:49.910Z"
   },
   {
    "duration": 82,
    "start_time": "2024-11-06T10:24:49.929Z"
   },
   {
    "duration": 4,
    "start_time": "2024-11-06T10:25:10.002Z"
   },
   {
    "duration": 8,
    "start_time": "2024-11-06T10:25:54.331Z"
   },
   {
    "duration": 4,
    "start_time": "2024-11-06T10:26:15.653Z"
   },
   {
    "duration": 829,
    "start_time": "2024-11-06T10:26:52.231Z"
   },
   {
    "duration": 3,
    "start_time": "2024-11-06T10:26:55.568Z"
   },
   {
    "duration": 911,
    "start_time": "2024-11-06T10:26:55.733Z"
   },
   {
    "duration": 4,
    "start_time": "2024-11-06T10:27:04.142Z"
   },
   {
    "duration": 3,
    "start_time": "2024-11-06T10:27:41.982Z"
   },
   {
    "duration": 3,
    "start_time": "2024-11-06T10:27:44.971Z"
   },
   {
    "duration": 3,
    "start_time": "2024-11-06T10:27:45.378Z"
   },
   {
    "duration": 7,
    "start_time": "2024-11-06T10:30:32.534Z"
   },
   {
    "duration": 7,
    "start_time": "2024-11-06T10:30:48.161Z"
   },
   {
    "duration": 935,
    "start_time": "2024-11-06T10:31:11.631Z"
   },
   {
    "duration": 3,
    "start_time": "2024-11-06T10:31:14.021Z"
   },
   {
    "duration": 73,
    "start_time": "2024-11-06T10:31:14.553Z"
   },
   {
    "duration": 16,
    "start_time": "2024-11-06T10:31:14.736Z"
   },
   {
    "duration": 17,
    "start_time": "2024-11-06T10:31:15.136Z"
   },
   {
    "duration": 4,
    "start_time": "2024-11-06T10:31:16.151Z"
   },
   {
    "duration": 15,
    "start_time": "2024-11-06T10:31:16.606Z"
   },
   {
    "duration": 19,
    "start_time": "2024-11-06T10:31:16.976Z"
   },
   {
    "duration": 9,
    "start_time": "2024-11-06T10:31:17.601Z"
   },
   {
    "duration": 8,
    "start_time": "2024-11-06T10:31:18.262Z"
   },
   {
    "duration": 17,
    "start_time": "2024-11-06T10:31:18.453Z"
   },
   {
    "duration": 20,
    "start_time": "2024-11-06T10:31:19.121Z"
   },
   {
    "duration": 12,
    "start_time": "2024-11-06T10:31:19.551Z"
   },
   {
    "duration": 17,
    "start_time": "2024-11-06T10:31:20.081Z"
   },
   {
    "duration": 3,
    "start_time": "2024-11-06T10:31:21.086Z"
   },
   {
    "duration": 4,
    "start_time": "2024-11-06T10:31:21.485Z"
   },
   {
    "duration": 44,
    "start_time": "2024-11-06T10:31:21.983Z"
   },
   {
    "duration": 155,
    "start_time": "2024-11-06T10:31:31.052Z"
   },
   {
    "duration": 134,
    "start_time": "2024-11-06T10:33:18.446Z"
   },
   {
    "duration": 12,
    "start_time": "2024-11-06T10:36:53.043Z"
   },
   {
    "duration": 3,
    "start_time": "2024-11-06T10:36:55.908Z"
   },
   {
    "duration": 9,
    "start_time": "2024-11-06T10:36:56.417Z"
   },
   {
    "duration": 3,
    "start_time": "2024-11-06T10:37:27.543Z"
   },
   {
    "duration": 83,
    "start_time": "2024-11-06T10:37:27.548Z"
   },
   {
    "duration": 16,
    "start_time": "2024-11-06T10:37:27.633Z"
   },
   {
    "duration": 15,
    "start_time": "2024-11-06T10:37:27.651Z"
   },
   {
    "duration": 3,
    "start_time": "2024-11-06T10:37:27.668Z"
   },
   {
    "duration": 37,
    "start_time": "2024-11-06T10:37:27.672Z"
   },
   {
    "duration": 23,
    "start_time": "2024-11-06T10:37:27.711Z"
   },
   {
    "duration": 10,
    "start_time": "2024-11-06T10:37:27.735Z"
   },
   {
    "duration": 9,
    "start_time": "2024-11-06T10:37:27.747Z"
   },
   {
    "duration": 40,
    "start_time": "2024-11-06T10:37:27.758Z"
   },
   {
    "duration": 24,
    "start_time": "2024-11-06T10:37:27.800Z"
   },
   {
    "duration": 16,
    "start_time": "2024-11-06T10:37:27.827Z"
   },
   {
    "duration": 28,
    "start_time": "2024-11-06T10:37:27.844Z"
   },
   {
    "duration": 14,
    "start_time": "2024-11-06T10:37:27.873Z"
   },
   {
    "duration": 25,
    "start_time": "2024-11-06T10:37:27.889Z"
   },
   {
    "duration": 195,
    "start_time": "2024-11-06T10:37:27.916Z"
   },
   {
    "duration": 205,
    "start_time": "2024-11-06T10:39:11.494Z"
   },
   {
    "duration": 3,
    "start_time": "2024-11-06T10:40:03.653Z"
   },
   {
    "duration": 288,
    "start_time": "2024-11-06T10:40:04.043Z"
   },
   {
    "duration": 3,
    "start_time": "2024-11-06T10:40:08.079Z"
   },
   {
    "duration": 3,
    "start_time": "2024-11-06T10:40:08.274Z"
   },
   {
    "duration": 3,
    "start_time": "2024-11-06T10:40:09.079Z"
   },
   {
    "duration": 4,
    "start_time": "2024-11-06T10:40:20.274Z"
   },
   {
    "duration": 7,
    "start_time": "2024-11-06T10:40:38.223Z"
   },
   {
    "duration": 4,
    "start_time": "2024-11-06T10:40:42.924Z"
   },
   {
    "duration": 5,
    "start_time": "2024-11-06T10:40:43.333Z"
   },
   {
    "duration": 7,
    "start_time": "2024-11-06T10:40:43.567Z"
   },
   {
    "duration": 4,
    "start_time": "2024-11-06T10:40:58.965Z"
   },
   {
    "duration": 3,
    "start_time": "2024-11-06T10:43:15.242Z"
   },
   {
    "duration": 4,
    "start_time": "2024-11-06T10:43:16.314Z"
   },
   {
    "duration": 8,
    "start_time": "2024-11-06T10:43:40.186Z"
   },
   {
    "duration": 9,
    "start_time": "2024-11-06T10:43:59.502Z"
   },
   {
    "duration": 8,
    "start_time": "2024-11-06T10:43:59.944Z"
   },
   {
    "duration": 8,
    "start_time": "2024-11-06T10:44:01.934Z"
   },
   {
    "duration": 8,
    "start_time": "2024-11-06T10:44:02.343Z"
   },
   {
    "duration": 75,
    "start_time": "2024-11-06T10:45:17.254Z"
   },
   {
    "duration": 6,
    "start_time": "2024-11-06T10:45:32.614Z"
   },
   {
    "duration": 9,
    "start_time": "2024-11-06T10:45:50.703Z"
   },
   {
    "duration": 54,
    "start_time": "2024-11-06T10:46:49.121Z"
   },
   {
    "duration": 54,
    "start_time": "2024-11-06T10:46:51.951Z"
   },
   {
    "duration": 54,
    "start_time": "2024-11-06T10:46:57.231Z"
   },
   {
    "duration": 58,
    "start_time": "2024-11-06T10:46:59.848Z"
   },
   {
    "duration": 52,
    "start_time": "2024-11-06T10:47:03.882Z"
   },
   {
    "duration": 3,
    "start_time": "2024-11-06T10:47:06.072Z"
   },
   {
    "duration": 96,
    "start_time": "2024-11-06T10:47:06.078Z"
   },
   {
    "duration": 20,
    "start_time": "2024-11-06T10:47:06.177Z"
   },
   {
    "duration": 48,
    "start_time": "2024-11-06T10:47:06.199Z"
   },
   {
    "duration": 14,
    "start_time": "2024-11-06T10:47:06.249Z"
   },
   {
    "duration": 20,
    "start_time": "2024-11-06T10:47:06.265Z"
   },
   {
    "duration": 53,
    "start_time": "2024-11-06T10:47:06.287Z"
   },
   {
    "duration": 11,
    "start_time": "2024-11-06T10:47:06.342Z"
   },
   {
    "duration": 14,
    "start_time": "2024-11-06T10:47:06.355Z"
   },
   {
    "duration": 40,
    "start_time": "2024-11-06T10:47:06.370Z"
   },
   {
    "duration": 33,
    "start_time": "2024-11-06T10:47:06.412Z"
   },
   {
    "duration": 12,
    "start_time": "2024-11-06T10:47:06.447Z"
   },
   {
    "duration": 62,
    "start_time": "2024-11-06T10:47:06.461Z"
   },
   {
    "duration": 56,
    "start_time": "2024-11-06T10:47:06.526Z"
   },
   {
    "duration": 0,
    "start_time": "2024-11-06T10:47:06.584Z"
   },
   {
    "duration": 0,
    "start_time": "2024-11-06T10:47:06.585Z"
   },
   {
    "duration": 0,
    "start_time": "2024-11-06T10:47:06.586Z"
   },
   {
    "duration": 0,
    "start_time": "2024-11-06T10:47:06.587Z"
   },
   {
    "duration": 0,
    "start_time": "2024-11-06T10:47:06.588Z"
   },
   {
    "duration": 89,
    "start_time": "2024-11-06T10:47:14.633Z"
   },
   {
    "duration": 9,
    "start_time": "2024-11-06T10:47:34.297Z"
   },
   {
    "duration": 8,
    "start_time": "2024-11-06T10:47:34.545Z"
   },
   {
    "duration": 4,
    "start_time": "2024-11-06T10:47:34.983Z"
   },
   {
    "duration": 3,
    "start_time": "2024-11-06T10:47:35.193Z"
   },
   {
    "duration": 213,
    "start_time": "2024-11-06T10:47:35.403Z"
   },
   {
    "duration": 11,
    "start_time": "2024-11-06T10:51:08.239Z"
   },
   {
    "duration": 10,
    "start_time": "2024-11-06T10:51:22.969Z"
   },
   {
    "duration": 5,
    "start_time": "2024-11-06T10:53:10.278Z"
   },
   {
    "duration": 4,
    "start_time": "2024-11-06T10:53:11.558Z"
   },
   {
    "duration": 3,
    "start_time": "2024-11-06T10:54:04.968Z"
   },
   {
    "duration": 3,
    "start_time": "2024-11-06T10:54:17.438Z"
   },
   {
    "duration": 3,
    "start_time": "2024-11-06T10:54:21.378Z"
   },
   {
    "duration": 3,
    "start_time": "2024-11-06T10:54:21.556Z"
   },
   {
    "duration": 3,
    "start_time": "2024-11-06T10:54:31.758Z"
   },
   {
    "duration": 4,
    "start_time": "2024-11-06T10:54:32.168Z"
   },
   {
    "duration": 4,
    "start_time": "2024-11-06T10:54:41.267Z"
   },
   {
    "duration": 4,
    "start_time": "2024-11-06T10:54:41.656Z"
   },
   {
    "duration": 190,
    "start_time": "2024-11-06T10:54:42.258Z"
   },
   {
    "duration": 217,
    "start_time": "2024-11-06T10:55:09.178Z"
   },
   {
    "duration": 4,
    "start_time": "2024-11-06T10:56:22.568Z"
   },
   {
    "duration": 3,
    "start_time": "2024-11-06T10:56:23.018Z"
   },
   {
    "duration": 200,
    "start_time": "2024-11-06T10:56:23.598Z"
   },
   {
    "duration": 193,
    "start_time": "2024-11-06T10:56:54.947Z"
   },
   {
    "duration": 178,
    "start_time": "2024-11-06T10:57:03.764Z"
   },
   {
    "duration": 4,
    "start_time": "2024-11-06T11:03:26.645Z"
   },
   {
    "duration": 4,
    "start_time": "2024-11-06T11:03:26.819Z"
   },
   {
    "duration": 183,
    "start_time": "2024-11-06T11:03:27.246Z"
   },
   {
    "duration": 195,
    "start_time": "2024-11-06T11:06:25.188Z"
   },
   {
    "duration": 64,
    "start_time": "2024-11-06T11:09:25.795Z"
   },
   {
    "duration": 168,
    "start_time": "2024-11-06T11:09:36.028Z"
   },
   {
    "duration": 64,
    "start_time": "2024-11-06T11:10:11.370Z"
   },
   {
    "duration": 255,
    "start_time": "2024-11-06T11:12:00.987Z"
   },
   {
    "duration": 5,
    "start_time": "2024-11-06T11:16:44.790Z"
   },
   {
    "duration": 5,
    "start_time": "2024-11-06T11:16:49.744Z"
   },
   {
    "duration": 200,
    "start_time": "2024-11-06T11:16:50.516Z"
   },
   {
    "duration": 2,
    "start_time": "2024-11-06T11:16:56.666Z"
   },
   {
    "duration": 72,
    "start_time": "2024-11-06T11:16:56.670Z"
   },
   {
    "duration": 15,
    "start_time": "2024-11-06T11:16:56.744Z"
   },
   {
    "duration": 20,
    "start_time": "2024-11-06T11:16:56.761Z"
   },
   {
    "duration": 4,
    "start_time": "2024-11-06T11:16:56.782Z"
   },
   {
    "duration": 34,
    "start_time": "2024-11-06T11:16:56.787Z"
   },
   {
    "duration": 39,
    "start_time": "2024-11-06T11:16:56.822Z"
   },
   {
    "duration": 9,
    "start_time": "2024-11-06T11:16:56.863Z"
   },
   {
    "duration": 9,
    "start_time": "2024-11-06T11:16:56.873Z"
   },
   {
    "duration": 16,
    "start_time": "2024-11-06T11:16:56.884Z"
   },
   {
    "duration": 22,
    "start_time": "2024-11-06T11:16:56.901Z"
   },
   {
    "duration": 12,
    "start_time": "2024-11-06T11:16:56.925Z"
   },
   {
    "duration": 16,
    "start_time": "2024-11-06T11:16:56.938Z"
   },
   {
    "duration": 20,
    "start_time": "2024-11-06T11:16:56.955Z"
   },
   {
    "duration": 11,
    "start_time": "2024-11-06T11:16:56.976Z"
   },
   {
    "duration": 11,
    "start_time": "2024-11-06T11:16:56.989Z"
   },
   {
    "duration": 16,
    "start_time": "2024-11-06T11:16:57.002Z"
   },
   {
    "duration": 173,
    "start_time": "2024-11-06T11:16:57.020Z"
   },
   {
    "duration": 5,
    "start_time": "2024-11-06T11:16:57.197Z"
   },
   {
    "duration": 188,
    "start_time": "2024-11-06T11:16:57.203Z"
   },
   {
    "duration": 7,
    "start_time": "2024-11-06T11:16:57.392Z"
   },
   {
    "duration": 6,
    "start_time": "2024-11-06T11:17:13.070Z"
   },
   {
    "duration": 175,
    "start_time": "2024-11-06T11:17:24.306Z"
   },
   {
    "duration": 3,
    "start_time": "2024-11-06T11:18:38.217Z"
   },
   {
    "duration": 83,
    "start_time": "2024-11-06T11:18:38.223Z"
   },
   {
    "duration": 16,
    "start_time": "2024-11-06T11:18:38.307Z"
   },
   {
    "duration": 15,
    "start_time": "2024-11-06T11:18:38.325Z"
   },
   {
    "duration": 7,
    "start_time": "2024-11-06T11:18:38.342Z"
   },
   {
    "duration": 16,
    "start_time": "2024-11-06T11:18:38.351Z"
   },
   {
    "duration": 31,
    "start_time": "2024-11-06T11:18:38.368Z"
   },
   {
    "duration": 9,
    "start_time": "2024-11-06T11:18:38.400Z"
   },
   {
    "duration": 8,
    "start_time": "2024-11-06T11:18:38.411Z"
   },
   {
    "duration": 30,
    "start_time": "2024-11-06T11:18:38.420Z"
   },
   {
    "duration": 28,
    "start_time": "2024-11-06T11:18:38.452Z"
   },
   {
    "duration": 15,
    "start_time": "2024-11-06T11:18:38.498Z"
   },
   {
    "duration": 17,
    "start_time": "2024-11-06T11:18:38.515Z"
   },
   {
    "duration": 5,
    "start_time": "2024-11-06T11:18:38.535Z"
   },
   {
    "duration": 18,
    "start_time": "2024-11-06T11:18:38.541Z"
   },
   {
    "duration": 7,
    "start_time": "2024-11-06T11:18:38.560Z"
   },
   {
    "duration": 14,
    "start_time": "2024-11-06T11:18:38.568Z"
   },
   {
    "duration": 187,
    "start_time": "2024-11-06T11:18:38.583Z"
   },
   {
    "duration": 6,
    "start_time": "2024-11-06T11:18:38.771Z"
   },
   {
    "duration": 194,
    "start_time": "2024-11-06T11:18:38.779Z"
   },
   {
    "duration": 3,
    "start_time": "2024-11-06T11:18:38.975Z"
   },
   {
    "duration": 7,
    "start_time": "2024-11-06T11:18:55.417Z"
   },
   {
    "duration": 164,
    "start_time": "2024-11-06T11:18:56.424Z"
   },
   {
    "duration": 3,
    "start_time": "2024-11-06T11:18:56.854Z"
   },
   {
    "duration": 3,
    "start_time": "2024-11-06T11:19:02.833Z"
   },
   {
    "duration": 96,
    "start_time": "2024-11-06T11:19:02.841Z"
   },
   {
    "duration": 16,
    "start_time": "2024-11-06T11:19:02.939Z"
   },
   {
    "duration": 31,
    "start_time": "2024-11-06T11:19:02.956Z"
   },
   {
    "duration": 23,
    "start_time": "2024-11-06T11:19:02.989Z"
   },
   {
    "duration": 42,
    "start_time": "2024-11-06T11:19:03.014Z"
   },
   {
    "duration": 26,
    "start_time": "2024-11-06T11:19:03.058Z"
   },
   {
    "duration": 9,
    "start_time": "2024-11-06T11:19:03.085Z"
   },
   {
    "duration": 21,
    "start_time": "2024-11-06T11:19:03.096Z"
   },
   {
    "duration": 23,
    "start_time": "2024-11-06T11:19:03.118Z"
   },
   {
    "duration": 103,
    "start_time": "2024-11-06T11:19:03.142Z"
   },
   {
    "duration": 10,
    "start_time": "2024-11-06T11:19:03.246Z"
   },
   {
    "duration": 30,
    "start_time": "2024-11-06T11:19:03.257Z"
   },
   {
    "duration": 18,
    "start_time": "2024-11-06T11:19:03.289Z"
   },
   {
    "duration": 6,
    "start_time": "2024-11-06T11:19:03.310Z"
   },
   {
    "duration": 39,
    "start_time": "2024-11-06T11:19:03.317Z"
   },
   {
    "duration": 6,
    "start_time": "2024-11-06T11:19:03.357Z"
   },
   {
    "duration": 187,
    "start_time": "2024-11-06T11:19:03.364Z"
   },
   {
    "duration": 5,
    "start_time": "2024-11-06T11:19:03.553Z"
   },
   {
    "duration": 172,
    "start_time": "2024-11-06T11:19:03.560Z"
   },
   {
    "duration": 0,
    "start_time": "2024-11-06T11:19:03.733Z"
   },
   {
    "duration": 156,
    "start_time": "2024-11-06T11:19:17.356Z"
   },
   {
    "duration": 185,
    "start_time": "2024-11-06T11:19:30.697Z"
   },
   {
    "duration": 7,
    "start_time": "2024-11-06T11:20:24.873Z"
   },
   {
    "duration": 191,
    "start_time": "2024-11-06T11:20:25.078Z"
   },
   {
    "duration": 23,
    "start_time": "2024-11-06T11:22:11.836Z"
   },
   {
    "duration": 2,
    "start_time": "2024-11-06T11:27:20.832Z"
   },
   {
    "duration": 75,
    "start_time": "2024-11-06T11:27:20.842Z"
   },
   {
    "duration": 15,
    "start_time": "2024-11-06T11:27:20.919Z"
   },
   {
    "duration": 19,
    "start_time": "2024-11-06T11:27:20.935Z"
   },
   {
    "duration": 5,
    "start_time": "2024-11-06T11:27:20.956Z"
   },
   {
    "duration": 21,
    "start_time": "2024-11-06T11:27:20.963Z"
   },
   {
    "duration": 29,
    "start_time": "2024-11-06T11:27:20.986Z"
   },
   {
    "duration": 12,
    "start_time": "2024-11-06T11:27:21.018Z"
   },
   {
    "duration": 8,
    "start_time": "2024-11-06T11:27:21.031Z"
   },
   {
    "duration": 42,
    "start_time": "2024-11-06T11:27:21.041Z"
   },
   {
    "duration": 20,
    "start_time": "2024-11-06T11:27:21.085Z"
   },
   {
    "duration": 18,
    "start_time": "2024-11-06T11:27:21.107Z"
   },
   {
    "duration": 16,
    "start_time": "2024-11-06T11:27:21.127Z"
   },
   {
    "duration": 9,
    "start_time": "2024-11-06T11:27:21.145Z"
   },
   {
    "duration": 10,
    "start_time": "2024-11-06T11:27:21.157Z"
   },
   {
    "duration": 12,
    "start_time": "2024-11-06T11:27:21.169Z"
   },
   {
    "duration": 24,
    "start_time": "2024-11-06T11:27:21.183Z"
   },
   {
    "duration": 202,
    "start_time": "2024-11-06T11:27:21.208Z"
   },
   {
    "duration": 21,
    "start_time": "2024-11-06T11:27:21.412Z"
   },
   {
    "duration": 6,
    "start_time": "2024-11-06T11:27:21.435Z"
   },
   {
    "duration": 201,
    "start_time": "2024-11-06T11:27:21.442Z"
   },
   {
    "duration": 171,
    "start_time": "2024-11-06T11:29:07.047Z"
   },
   {
    "duration": 16,
    "start_time": "2024-11-06T11:30:27.735Z"
   },
   {
    "duration": 180,
    "start_time": "2024-11-06T11:30:47.763Z"
   },
   {
    "duration": 60,
    "start_time": "2024-11-06T11:31:55.307Z"
   },
   {
    "duration": 14,
    "start_time": "2024-11-06T11:32:02.103Z"
   },
   {
    "duration": 12,
    "start_time": "2024-11-06T11:32:58.014Z"
   },
   {
    "duration": 10,
    "start_time": "2024-11-06T11:33:06.552Z"
   },
   {
    "duration": 8,
    "start_time": "2024-11-06T11:34:46.894Z"
   },
   {
    "duration": 12,
    "start_time": "2024-11-06T11:38:01.052Z"
   },
   {
    "duration": 84,
    "start_time": "2024-11-06T11:38:29.584Z"
   },
   {
    "duration": 76,
    "start_time": "2024-11-06T11:38:29.670Z"
   },
   {
    "duration": 17,
    "start_time": "2024-11-06T11:38:29.747Z"
   },
   {
    "duration": 17,
    "start_time": "2024-11-06T11:38:29.765Z"
   },
   {
    "duration": 14,
    "start_time": "2024-11-06T11:38:29.784Z"
   },
   {
    "duration": 26,
    "start_time": "2024-11-06T11:38:29.800Z"
   },
   {
    "duration": 23,
    "start_time": "2024-11-06T11:38:29.827Z"
   },
   {
    "duration": 9,
    "start_time": "2024-11-06T11:38:29.851Z"
   },
   {
    "duration": 17,
    "start_time": "2024-11-06T11:38:29.861Z"
   },
   {
    "duration": 21,
    "start_time": "2024-11-06T11:38:29.880Z"
   },
   {
    "duration": 118,
    "start_time": "2024-11-06T11:38:29.902Z"
   },
   {
    "duration": 43,
    "start_time": "2024-11-06T11:38:30.021Z"
   },
   {
    "duration": 57,
    "start_time": "2024-11-06T11:38:30.065Z"
   },
   {
    "duration": 18,
    "start_time": "2024-11-06T11:38:30.124Z"
   },
   {
    "duration": 15,
    "start_time": "2024-11-06T11:38:30.143Z"
   },
   {
    "duration": 26,
    "start_time": "2024-11-06T11:38:30.159Z"
   },
   {
    "duration": 28,
    "start_time": "2024-11-06T11:38:30.186Z"
   },
   {
    "duration": 216,
    "start_time": "2024-11-06T11:38:30.216Z"
   },
   {
    "duration": 21,
    "start_time": "2024-11-06T11:38:30.434Z"
   },
   {
    "duration": 5,
    "start_time": "2024-11-06T11:38:30.457Z"
   },
   {
    "duration": 534,
    "start_time": "2024-11-06T11:38:30.464Z"
   },
   {
    "duration": 223,
    "start_time": "2024-11-06T11:39:25.875Z"
   },
   {
    "duration": 144,
    "start_time": "2024-11-06T11:40:02.404Z"
   },
   {
    "duration": 1330,
    "start_time": "2024-11-07T08:19:40.871Z"
   },
   {
    "duration": 302,
    "start_time": "2024-11-07T08:19:42.202Z"
   },
   {
    "duration": 20,
    "start_time": "2024-11-07T08:19:42.505Z"
   },
   {
    "duration": 28,
    "start_time": "2024-11-07T08:19:42.527Z"
   },
   {
    "duration": 4,
    "start_time": "2024-11-07T08:19:42.557Z"
   },
   {
    "duration": 16,
    "start_time": "2024-11-07T08:19:42.562Z"
   },
   {
    "duration": 17,
    "start_time": "2024-11-07T08:19:42.580Z"
   },
   {
    "duration": 28,
    "start_time": "2024-11-07T08:19:42.599Z"
   },
   {
    "duration": 8,
    "start_time": "2024-11-07T08:19:42.629Z"
   },
   {
    "duration": 14,
    "start_time": "2024-11-07T08:19:42.640Z"
   },
   {
    "duration": 19,
    "start_time": "2024-11-07T08:19:42.656Z"
   },
   {
    "duration": 12,
    "start_time": "2024-11-07T08:19:42.677Z"
   },
   {
    "duration": 45,
    "start_time": "2024-11-07T08:19:42.690Z"
   },
   {
    "duration": 6,
    "start_time": "2024-11-07T08:19:42.737Z"
   },
   {
    "duration": 4,
    "start_time": "2024-11-07T08:19:42.744Z"
   },
   {
    "duration": 4,
    "start_time": "2024-11-07T08:19:42.749Z"
   },
   {
    "duration": 6,
    "start_time": "2024-11-07T08:19:42.754Z"
   },
   {
    "duration": 230,
    "start_time": "2024-11-07T08:19:42.761Z"
   },
   {
    "duration": 30,
    "start_time": "2024-11-07T08:19:42.994Z"
   },
   {
    "duration": 5,
    "start_time": "2024-11-07T08:19:43.026Z"
   },
   {
    "duration": 698,
    "start_time": "2024-11-07T08:19:43.033Z"
   },
   {
    "duration": 297,
    "start_time": "2024-11-07T08:33:58.369Z"
   },
   {
    "duration": 3,
    "start_time": "2024-11-07T08:34:59.577Z"
   },
   {
    "duration": 79,
    "start_time": "2024-11-07T08:35:00.297Z"
   },
   {
    "duration": 16,
    "start_time": "2024-11-07T08:35:00.504Z"
   },
   {
    "duration": 19,
    "start_time": "2024-11-07T08:35:01.218Z"
   },
   {
    "duration": 4,
    "start_time": "2024-11-07T08:35:02.838Z"
   },
   {
    "duration": 16,
    "start_time": "2024-11-07T08:35:03.477Z"
   },
   {
    "duration": 23,
    "start_time": "2024-11-07T08:35:04.218Z"
   },
   {
    "duration": 9,
    "start_time": "2024-11-07T08:35:04.976Z"
   },
   {
    "duration": 8,
    "start_time": "2024-11-07T08:35:06.426Z"
   },
   {
    "duration": 14,
    "start_time": "2024-11-07T08:35:06.600Z"
   },
   {
    "duration": 19,
    "start_time": "2024-11-07T08:35:07.800Z"
   },
   {
    "duration": 10,
    "start_time": "2024-11-07T08:35:08.428Z"
   },
   {
    "duration": 17,
    "start_time": "2024-11-07T08:35:09.228Z"
   },
   {
    "duration": 3,
    "start_time": "2024-11-07T08:35:10.641Z"
   },
   {
    "duration": 2,
    "start_time": "2024-11-07T08:35:10.869Z"
   },
   {
    "duration": 5,
    "start_time": "2024-11-07T08:35:11.496Z"
   },
   {
    "duration": 4,
    "start_time": "2024-11-07T08:35:11.755Z"
   },
   {
    "duration": 191,
    "start_time": "2024-11-07T08:35:12.580Z"
   },
   {
    "duration": 6,
    "start_time": "2024-11-07T08:35:13.338Z"
   },
   {
    "duration": 123,
    "start_time": "2024-11-07T08:35:13.572Z"
   },
   {
    "duration": 3,
    "start_time": "2024-11-07T08:37:06.576Z"
   },
   {
    "duration": 3,
    "start_time": "2024-11-07T08:37:06.960Z"
   },
   {
    "duration": 5,
    "start_time": "2024-11-07T08:37:07.574Z"
   },
   {
    "duration": 4,
    "start_time": "2024-11-07T08:37:07.784Z"
   },
   {
    "duration": 206,
    "start_time": "2024-11-07T08:37:08.272Z"
   },
   {
    "duration": 6,
    "start_time": "2024-11-07T08:37:09.392Z"
   },
   {
    "duration": 134,
    "start_time": "2024-11-07T08:37:37.440Z"
   },
   {
    "duration": 3,
    "start_time": "2024-11-07T08:37:47.782Z"
   },
   {
    "duration": 81,
    "start_time": "2024-11-07T08:37:47.787Z"
   },
   {
    "duration": 15,
    "start_time": "2024-11-07T08:37:47.870Z"
   },
   {
    "duration": 18,
    "start_time": "2024-11-07T08:37:47.887Z"
   },
   {
    "duration": 15,
    "start_time": "2024-11-07T08:37:47.906Z"
   },
   {
    "duration": 16,
    "start_time": "2024-11-07T08:37:47.923Z"
   },
   {
    "duration": 27,
    "start_time": "2024-11-07T08:37:47.940Z"
   },
   {
    "duration": 80,
    "start_time": "2024-11-07T08:37:47.969Z"
   },
   {
    "duration": 11,
    "start_time": "2024-11-07T08:37:48.051Z"
   },
   {
    "duration": 18,
    "start_time": "2024-11-07T08:37:48.064Z"
   },
   {
    "duration": 108,
    "start_time": "2024-11-07T08:37:48.084Z"
   },
   {
    "duration": 11,
    "start_time": "2024-11-07T08:37:48.193Z"
   },
   {
    "duration": 22,
    "start_time": "2024-11-07T08:37:48.206Z"
   },
   {
    "duration": 4,
    "start_time": "2024-11-07T08:37:48.230Z"
   },
   {
    "duration": 6,
    "start_time": "2024-11-07T08:37:48.236Z"
   },
   {
    "duration": 6,
    "start_time": "2024-11-07T08:37:48.243Z"
   },
   {
    "duration": 4,
    "start_time": "2024-11-07T08:37:48.251Z"
   },
   {
    "duration": 243,
    "start_time": "2024-11-07T08:37:48.256Z"
   },
   {
    "duration": 7,
    "start_time": "2024-11-07T08:37:48.500Z"
   },
   {
    "duration": 145,
    "start_time": "2024-11-07T08:37:48.509Z"
   },
   {
    "duration": 158,
    "start_time": "2024-11-07T08:38:04.192Z"
   },
   {
    "duration": 61,
    "start_time": "2024-11-07T08:38:40.982Z"
   },
   {
    "duration": 126,
    "start_time": "2024-11-07T08:38:46.731Z"
   },
   {
    "duration": 122,
    "start_time": "2024-11-07T08:44:14.035Z"
   },
   {
    "duration": 1438,
    "start_time": "2024-11-07T11:04:25.703Z"
   },
   {
    "duration": 269,
    "start_time": "2024-11-07T11:04:27.143Z"
   },
   {
    "duration": 21,
    "start_time": "2024-11-07T11:04:27.413Z"
   },
   {
    "duration": 15,
    "start_time": "2024-11-07T11:04:27.436Z"
   },
   {
    "duration": 4,
    "start_time": "2024-11-07T11:04:27.453Z"
   },
   {
    "duration": 25,
    "start_time": "2024-11-07T11:04:27.458Z"
   },
   {
    "duration": 26,
    "start_time": "2024-11-07T11:04:27.485Z"
   },
   {
    "duration": 10,
    "start_time": "2024-11-07T11:04:27.513Z"
   },
   {
    "duration": 15,
    "start_time": "2024-11-07T11:04:27.525Z"
   },
   {
    "duration": 24,
    "start_time": "2024-11-07T11:04:27.542Z"
   },
   {
    "duration": 39,
    "start_time": "2024-11-07T11:04:27.568Z"
   },
   {
    "duration": 10,
    "start_time": "2024-11-07T11:04:27.609Z"
   },
   {
    "duration": 29,
    "start_time": "2024-11-07T11:04:27.621Z"
   },
   {
    "duration": 10,
    "start_time": "2024-11-07T11:04:27.652Z"
   },
   {
    "duration": 7,
    "start_time": "2024-11-07T11:04:27.663Z"
   },
   {
    "duration": 21,
    "start_time": "2024-11-07T11:04:27.672Z"
   },
   {
    "duration": 25,
    "start_time": "2024-11-07T11:04:27.695Z"
   },
   {
    "duration": 202,
    "start_time": "2024-11-07T11:04:27.722Z"
   },
   {
    "duration": 7,
    "start_time": "2024-11-07T11:04:27.926Z"
   },
   {
    "duration": 581,
    "start_time": "2024-11-07T11:04:27.935Z"
   },
   {
    "duration": 156,
    "start_time": "2024-11-07T11:05:38.835Z"
   },
   {
    "duration": 86,
    "start_time": "2024-11-07T11:05:39.278Z"
   },
   {
    "duration": 3,
    "start_time": "2024-11-07T11:05:42.116Z"
   },
   {
    "duration": 86,
    "start_time": "2024-11-07T11:05:42.121Z"
   },
   {
    "duration": 17,
    "start_time": "2024-11-07T11:05:42.209Z"
   },
   {
    "duration": 42,
    "start_time": "2024-11-07T11:05:42.228Z"
   },
   {
    "duration": 5,
    "start_time": "2024-11-07T11:05:42.274Z"
   },
   {
    "duration": 29,
    "start_time": "2024-11-07T11:05:42.281Z"
   },
   {
    "duration": 17,
    "start_time": "2024-11-07T11:05:42.313Z"
   },
   {
    "duration": 10,
    "start_time": "2024-11-07T11:05:42.332Z"
   },
   {
    "duration": 10,
    "start_time": "2024-11-07T11:05:42.343Z"
   },
   {
    "duration": 45,
    "start_time": "2024-11-07T11:05:42.354Z"
   },
   {
    "duration": 19,
    "start_time": "2024-11-07T11:05:42.401Z"
   },
   {
    "duration": 33,
    "start_time": "2024-11-07T11:05:42.421Z"
   },
   {
    "duration": 18,
    "start_time": "2024-11-07T11:05:42.456Z"
   },
   {
    "duration": 4,
    "start_time": "2024-11-07T11:05:42.477Z"
   },
   {
    "duration": 4,
    "start_time": "2024-11-07T11:05:42.499Z"
   },
   {
    "duration": 11,
    "start_time": "2024-11-07T11:05:42.504Z"
   },
   {
    "duration": 6,
    "start_time": "2024-11-07T11:05:42.516Z"
   },
   {
    "duration": 200,
    "start_time": "2024-11-07T11:05:42.524Z"
   },
   {
    "duration": 8,
    "start_time": "2024-11-07T11:05:42.725Z"
   },
   {
    "duration": 143,
    "start_time": "2024-11-07T11:05:42.735Z"
   },
   {
    "duration": 24,
    "start_time": "2024-11-07T11:05:42.880Z"
   },
   {
    "duration": 0,
    "start_time": "2024-11-07T11:05:42.906Z"
   },
   {
    "duration": 53,
    "start_time": "2024-11-07T11:07:45.491Z"
   },
   {
    "duration": 11,
    "start_time": "2024-11-07T11:07:49.011Z"
   },
   {
    "duration": 62,
    "start_time": "2024-11-07T11:07:49.201Z"
   },
   {
    "duration": 1034,
    "start_time": "2024-11-07T11:10:55.514Z"
   },
   {
    "duration": 58,
    "start_time": "2024-11-07T11:10:56.801Z"
   },
   {
    "duration": 208,
    "start_time": "2024-11-07T11:11:52.413Z"
   },
   {
    "duration": 205,
    "start_time": "2024-11-07T11:13:50.912Z"
   },
   {
    "duration": 222,
    "start_time": "2024-11-07T11:14:15.633Z"
   },
   {
    "duration": 436,
    "start_time": "2024-11-07T11:20:13.319Z"
   },
   {
    "duration": 7,
    "start_time": "2024-11-07T11:20:21.579Z"
   },
   {
    "duration": 357,
    "start_time": "2024-11-07T11:20:22.045Z"
   },
   {
    "duration": 231,
    "start_time": "2024-11-07T11:20:36.675Z"
   },
   {
    "duration": 8,
    "start_time": "2024-11-07T11:20:41.174Z"
   },
   {
    "duration": 240,
    "start_time": "2024-11-07T11:20:41.693Z"
   },
   {
    "duration": 7,
    "start_time": "2024-11-07T11:20:50.189Z"
   },
   {
    "duration": 226,
    "start_time": "2024-11-07T11:20:50.511Z"
   },
   {
    "duration": 3,
    "start_time": "2024-11-07T11:22:03.878Z"
   },
   {
    "duration": 83,
    "start_time": "2024-11-07T11:22:03.896Z"
   },
   {
    "duration": 14,
    "start_time": "2024-11-07T11:22:03.981Z"
   },
   {
    "duration": 21,
    "start_time": "2024-11-07T11:22:03.997Z"
   },
   {
    "duration": 3,
    "start_time": "2024-11-07T11:22:04.020Z"
   },
   {
    "duration": 21,
    "start_time": "2024-11-07T11:22:04.024Z"
   },
   {
    "duration": 28,
    "start_time": "2024-11-07T11:22:04.047Z"
   },
   {
    "duration": 8,
    "start_time": "2024-11-07T11:22:04.077Z"
   },
   {
    "duration": 41,
    "start_time": "2024-11-07T11:22:04.087Z"
   },
   {
    "duration": 32,
    "start_time": "2024-11-07T11:22:04.130Z"
   },
   {
    "duration": 25,
    "start_time": "2024-11-07T11:22:04.164Z"
   },
   {
    "duration": 31,
    "start_time": "2024-11-07T11:22:04.191Z"
   },
   {
    "duration": 35,
    "start_time": "2024-11-07T11:22:04.224Z"
   },
   {
    "duration": 19,
    "start_time": "2024-11-07T11:22:04.261Z"
   },
   {
    "duration": 56,
    "start_time": "2024-11-07T11:22:04.283Z"
   },
   {
    "duration": 21,
    "start_time": "2024-11-07T11:22:04.340Z"
   },
   {
    "duration": 43,
    "start_time": "2024-11-07T11:22:04.362Z"
   },
   {
    "duration": 193,
    "start_time": "2024-11-07T11:22:04.406Z"
   },
   {
    "duration": 6,
    "start_time": "2024-11-07T11:22:04.601Z"
   },
   {
    "duration": 249,
    "start_time": "2024-11-07T11:22:04.609Z"
   },
   {
    "duration": 8,
    "start_time": "2024-11-07T11:22:04.859Z"
   },
   {
    "duration": 273,
    "start_time": "2024-11-07T11:22:04.868Z"
   },
   {
    "duration": 224,
    "start_time": "2024-11-07T11:22:33.434Z"
   },
   {
    "duration": 7,
    "start_time": "2024-11-07T11:24:02.951Z"
   },
   {
    "duration": 15,
    "start_time": "2024-11-07T11:24:03.587Z"
   },
   {
    "duration": 232,
    "start_time": "2024-11-07T11:24:31.868Z"
   },
   {
    "duration": 225,
    "start_time": "2024-11-07T11:30:52.879Z"
   },
   {
    "duration": 266,
    "start_time": "2024-11-07T11:30:59.179Z"
   },
   {
    "duration": 7,
    "start_time": "2024-11-07T11:31:07.837Z"
   },
   {
    "duration": 274,
    "start_time": "2024-11-07T11:31:08.272Z"
   },
   {
    "duration": 1332,
    "start_time": "2024-11-11T09:11:19.756Z"
   },
   {
    "duration": 236,
    "start_time": "2024-11-11T09:11:21.090Z"
   },
   {
    "duration": 17,
    "start_time": "2024-11-11T09:11:21.328Z"
   },
   {
    "duration": 13,
    "start_time": "2024-11-11T09:11:21.347Z"
   },
   {
    "duration": 7,
    "start_time": "2024-11-11T09:11:21.362Z"
   },
   {
    "duration": 31,
    "start_time": "2024-11-11T09:11:21.370Z"
   },
   {
    "duration": 23,
    "start_time": "2024-11-11T09:11:21.402Z"
   },
   {
    "duration": 13,
    "start_time": "2024-11-11T09:11:21.426Z"
   },
   {
    "duration": 9,
    "start_time": "2024-11-11T09:11:21.440Z"
   },
   {
    "duration": 20,
    "start_time": "2024-11-11T09:11:21.451Z"
   },
   {
    "duration": 25,
    "start_time": "2024-11-11T09:11:21.472Z"
   },
   {
    "duration": 34,
    "start_time": "2024-11-11T09:11:21.499Z"
   },
   {
    "duration": 21,
    "start_time": "2024-11-11T09:11:21.534Z"
   },
   {
    "duration": 5,
    "start_time": "2024-11-11T09:11:21.557Z"
   },
   {
    "duration": 8,
    "start_time": "2024-11-11T09:11:21.563Z"
   },
   {
    "duration": 5,
    "start_time": "2024-11-11T09:11:21.572Z"
   },
   {
    "duration": 7,
    "start_time": "2024-11-11T09:11:21.578Z"
   },
   {
    "duration": 183,
    "start_time": "2024-11-11T09:11:21.586Z"
   },
   {
    "duration": 6,
    "start_time": "2024-11-11T09:11:21.770Z"
   },
   {
    "duration": 251,
    "start_time": "2024-11-11T09:11:21.778Z"
   },
   {
    "duration": 3,
    "start_time": "2024-11-11T09:33:09.534Z"
   },
   {
    "duration": 71,
    "start_time": "2024-11-11T09:33:09.539Z"
   },
   {
    "duration": 24,
    "start_time": "2024-11-11T09:33:09.611Z"
   },
   {
    "duration": 12,
    "start_time": "2024-11-11T09:33:09.637Z"
   },
   {
    "duration": 15,
    "start_time": "2024-11-11T09:33:09.650Z"
   },
   {
    "duration": 18,
    "start_time": "2024-11-11T09:33:09.667Z"
   },
   {
    "duration": 16,
    "start_time": "2024-11-11T09:33:09.686Z"
   },
   {
    "duration": 21,
    "start_time": "2024-11-11T09:33:09.704Z"
   },
   {
    "duration": 7,
    "start_time": "2024-11-11T09:33:09.726Z"
   },
   {
    "duration": 29,
    "start_time": "2024-11-11T09:33:09.735Z"
   },
   {
    "duration": 43,
    "start_time": "2024-11-11T09:33:09.766Z"
   },
   {
    "duration": 18,
    "start_time": "2024-11-11T09:33:09.811Z"
   },
   {
    "duration": 14,
    "start_time": "2024-11-11T09:33:09.831Z"
   },
   {
    "duration": 10,
    "start_time": "2024-11-11T09:33:09.847Z"
   },
   {
    "duration": 7,
    "start_time": "2024-11-11T09:33:09.858Z"
   },
   {
    "duration": 8,
    "start_time": "2024-11-11T09:33:09.866Z"
   },
   {
    "duration": 4,
    "start_time": "2024-11-11T09:33:09.876Z"
   },
   {
    "duration": 182,
    "start_time": "2024-11-11T09:33:09.882Z"
   },
   {
    "duration": 6,
    "start_time": "2024-11-11T09:33:10.066Z"
   },
   {
    "duration": 257,
    "start_time": "2024-11-11T09:33:10.074Z"
   },
   {
    "duration": 227,
    "start_time": "2024-11-11T09:33:10.333Z"
   },
   {
    "duration": 180,
    "start_time": "2024-11-11T09:33:10.562Z"
   },
   {
    "duration": 104,
    "start_time": "2024-11-11T09:37:13.672Z"
   },
   {
    "duration": 90,
    "start_time": "2024-11-11T09:38:46.801Z"
   },
   {
    "duration": 90,
    "start_time": "2024-11-11T09:38:55.937Z"
   },
   {
    "duration": 88,
    "start_time": "2024-11-11T09:39:03.434Z"
   },
   {
    "duration": 100,
    "start_time": "2024-11-11T09:39:10.232Z"
   },
   {
    "duration": 69,
    "start_time": "2024-11-11T09:39:17.191Z"
   },
   {
    "duration": 59,
    "start_time": "2024-11-11T09:39:23.626Z"
   },
   {
    "duration": 94,
    "start_time": "2024-11-11T09:39:32.135Z"
   },
   {
    "duration": 102,
    "start_time": "2024-11-11T09:39:40.993Z"
   },
   {
    "duration": 100,
    "start_time": "2024-11-11T09:40:20.146Z"
   },
   {
    "duration": 4,
    "start_time": "2024-11-11T09:40:30.341Z"
   },
   {
    "duration": 21,
    "start_time": "2024-11-11T09:41:00.454Z"
   },
   {
    "duration": 12,
    "start_time": "2024-11-11T09:41:24.262Z"
   },
   {
    "duration": 9,
    "start_time": "2024-11-11T09:41:59.154Z"
   },
   {
    "duration": 226,
    "start_time": "2024-11-11T09:42:04.475Z"
   },
   {
    "duration": 8,
    "start_time": "2024-11-11T09:42:06.156Z"
   },
   {
    "duration": 12,
    "start_time": "2024-11-11T09:42:07.294Z"
   },
   {
    "duration": 3,
    "start_time": "2024-11-11T09:42:15.435Z"
   },
   {
    "duration": 63,
    "start_time": "2024-11-11T09:42:15.440Z"
   },
   {
    "duration": 23,
    "start_time": "2024-11-11T09:42:15.504Z"
   },
   {
    "duration": 12,
    "start_time": "2024-11-11T09:42:15.529Z"
   },
   {
    "duration": 3,
    "start_time": "2024-11-11T09:42:15.543Z"
   },
   {
    "duration": 13,
    "start_time": "2024-11-11T09:42:15.547Z"
   },
   {
    "duration": 15,
    "start_time": "2024-11-11T09:42:15.561Z"
   },
   {
    "duration": 7,
    "start_time": "2024-11-11T09:42:15.577Z"
   },
   {
    "duration": 6,
    "start_time": "2024-11-11T09:42:15.585Z"
   },
   {
    "duration": 35,
    "start_time": "2024-11-11T09:42:15.592Z"
   },
   {
    "duration": 64,
    "start_time": "2024-11-11T09:42:15.628Z"
   },
   {
    "duration": 9,
    "start_time": "2024-11-11T09:42:15.693Z"
   },
   {
    "duration": 23,
    "start_time": "2024-11-11T09:42:15.703Z"
   },
   {
    "duration": 2,
    "start_time": "2024-11-11T09:42:15.729Z"
   },
   {
    "duration": 23,
    "start_time": "2024-11-11T09:42:15.733Z"
   },
   {
    "duration": 25,
    "start_time": "2024-11-11T09:42:15.757Z"
   },
   {
    "duration": 7,
    "start_time": "2024-11-11T09:42:15.784Z"
   },
   {
    "duration": 170,
    "start_time": "2024-11-11T09:42:15.792Z"
   },
   {
    "duration": 5,
    "start_time": "2024-11-11T09:42:15.964Z"
   },
   {
    "duration": 227,
    "start_time": "2024-11-11T09:42:15.970Z"
   },
   {
    "duration": 27,
    "start_time": "2024-11-11T09:42:16.198Z"
   },
   {
    "duration": 9,
    "start_time": "2024-11-11T09:43:37.126Z"
   },
   {
    "duration": 8,
    "start_time": "2024-11-11T09:46:23.327Z"
   },
   {
    "duration": 8,
    "start_time": "2024-11-11T09:46:36.483Z"
   },
   {
    "duration": 8,
    "start_time": "2024-11-11T09:46:55.585Z"
   },
   {
    "duration": 9,
    "start_time": "2024-11-11T09:47:06.265Z"
   },
   {
    "duration": 9,
    "start_time": "2024-11-11T09:47:56.568Z"
   },
   {
    "duration": 12,
    "start_time": "2024-11-11T09:48:03.422Z"
   },
   {
    "duration": 11,
    "start_time": "2024-11-11T09:48:10.015Z"
   },
   {
    "duration": 7,
    "start_time": "2024-11-11T09:48:15.685Z"
   },
   {
    "duration": 8,
    "start_time": "2024-11-11T09:48:33.185Z"
   },
   {
    "duration": 10,
    "start_time": "2024-11-11T09:49:24.885Z"
   },
   {
    "duration": 10,
    "start_time": "2024-11-11T09:49:31.965Z"
   },
   {
    "duration": 91,
    "start_time": "2024-11-11T09:50:15.576Z"
   },
   {
    "duration": 8,
    "start_time": "2024-11-11T09:50:49.786Z"
   },
   {
    "duration": 10,
    "start_time": "2024-11-11T09:50:55.136Z"
   },
   {
    "duration": 92,
    "start_time": "2024-11-11T09:51:37.146Z"
   },
   {
    "duration": 91,
    "start_time": "2024-11-11T09:51:48.825Z"
   },
   {
    "duration": 88,
    "start_time": "2024-11-11T09:51:54.554Z"
   },
   {
    "duration": 86,
    "start_time": "2024-11-11T09:53:28.898Z"
   },
   {
    "duration": 84,
    "start_time": "2024-11-11T09:53:57.241Z"
   },
   {
    "duration": 86,
    "start_time": "2024-11-11T09:54:03.585Z"
   },
   {
    "duration": 14,
    "start_time": "2024-11-11T10:08:11.472Z"
   },
   {
    "duration": 10,
    "start_time": "2024-11-11T10:08:47.715Z"
   },
   {
    "duration": 69,
    "start_time": "2024-11-11T10:27:56.699Z"
   },
   {
    "duration": 11,
    "start_time": "2024-11-11T10:28:52.514Z"
   },
   {
    "duration": 181,
    "start_time": "2024-11-11T10:28:57.629Z"
   },
   {
    "duration": 13,
    "start_time": "2024-11-11T10:29:48.074Z"
   },
   {
    "duration": 181,
    "start_time": "2024-11-11T10:29:56.692Z"
   },
   {
    "duration": 220,
    "start_time": "2024-11-11T10:30:07.012Z"
   },
   {
    "duration": 239,
    "start_time": "2024-11-11T10:30:52.791Z"
   },
   {
    "duration": 181,
    "start_time": "2024-11-11T10:31:03.272Z"
   },
   {
    "duration": 313,
    "start_time": "2024-11-11T10:32:18.962Z"
   },
   {
    "duration": 196,
    "start_time": "2024-11-11T10:32:33.750Z"
   },
   {
    "duration": 194,
    "start_time": "2024-11-11T10:32:40.691Z"
   },
   {
    "duration": 3,
    "start_time": "2024-11-11T10:33:05.529Z"
   },
   {
    "duration": 98,
    "start_time": "2024-11-11T10:33:05.534Z"
   },
   {
    "duration": 12,
    "start_time": "2024-11-11T10:33:05.633Z"
   },
   {
    "duration": 17,
    "start_time": "2024-11-11T10:33:05.647Z"
   },
   {
    "duration": 11,
    "start_time": "2024-11-11T10:33:05.666Z"
   },
   {
    "duration": 20,
    "start_time": "2024-11-11T10:33:05.678Z"
   },
   {
    "duration": 17,
    "start_time": "2024-11-11T10:33:05.700Z"
   },
   {
    "duration": 30,
    "start_time": "2024-11-11T10:33:05.718Z"
   },
   {
    "duration": 46,
    "start_time": "2024-11-11T10:33:05.749Z"
   },
   {
    "duration": 22,
    "start_time": "2024-11-11T10:33:05.797Z"
   },
   {
    "duration": 31,
    "start_time": "2024-11-11T10:33:05.820Z"
   },
   {
    "duration": 24,
    "start_time": "2024-11-11T10:33:05.853Z"
   },
   {
    "duration": 26,
    "start_time": "2024-11-11T10:33:05.878Z"
   },
   {
    "duration": 3,
    "start_time": "2024-11-11T10:33:05.906Z"
   },
   {
    "duration": 5,
    "start_time": "2024-11-11T10:33:05.910Z"
   },
   {
    "duration": 16,
    "start_time": "2024-11-11T10:33:05.916Z"
   },
   {
    "duration": 9,
    "start_time": "2024-11-11T10:33:05.933Z"
   },
   {
    "duration": 183,
    "start_time": "2024-11-11T10:33:05.943Z"
   },
   {
    "duration": 6,
    "start_time": "2024-11-11T10:33:06.128Z"
   },
   {
    "duration": 295,
    "start_time": "2024-11-11T10:33:06.135Z"
   },
   {
    "duration": 13,
    "start_time": "2024-11-11T10:33:06.433Z"
   },
   {
    "duration": 198,
    "start_time": "2024-11-11T10:33:06.447Z"
   },
   {
    "duration": 378,
    "start_time": "2024-11-11T10:33:16.922Z"
   },
   {
    "duration": 232,
    "start_time": "2024-11-11T10:33:23.760Z"
   },
   {
    "duration": 230,
    "start_time": "2024-11-11T10:34:04.322Z"
   },
   {
    "duration": 171,
    "start_time": "2024-11-11T10:35:05.762Z"
   },
   {
    "duration": 150,
    "start_time": "2024-11-11T10:36:21.878Z"
   },
   {
    "duration": 203,
    "start_time": "2024-11-11T10:36:39.007Z"
   },
   {
    "duration": 90,
    "start_time": "2024-11-11T10:39:08.617Z"
   },
   {
    "duration": 249,
    "start_time": "2024-11-11T10:41:05.566Z"
   },
   {
    "duration": 14,
    "start_time": "2024-11-11T10:41:20.206Z"
   },
   {
    "duration": 225,
    "start_time": "2024-11-11T10:41:21.616Z"
   },
   {
    "duration": 78,
    "start_time": "2024-11-11T10:43:35.945Z"
   },
   {
    "duration": 22,
    "start_time": "2024-11-11T10:44:35.944Z"
   },
   {
    "duration": 18,
    "start_time": "2024-11-11T10:44:53.543Z"
   },
   {
    "duration": 10,
    "start_time": "2024-11-11T10:51:57.231Z"
   },
   {
    "duration": 10,
    "start_time": "2024-11-11T10:52:08.387Z"
   },
   {
    "duration": 11,
    "start_time": "2024-11-11T10:52:33.488Z"
   },
   {
    "duration": 303,
    "start_time": "2024-11-11T10:52:48.779Z"
   },
   {
    "duration": 618,
    "start_time": "2024-11-11T10:53:56.990Z"
   },
   {
    "duration": 2,
    "start_time": "2024-11-11T10:54:52.071Z"
   },
   {
    "duration": 62,
    "start_time": "2024-11-11T10:54:52.080Z"
   },
   {
    "duration": 12,
    "start_time": "2024-11-11T10:54:52.144Z"
   },
   {
    "duration": 18,
    "start_time": "2024-11-11T10:54:52.157Z"
   },
   {
    "duration": 2,
    "start_time": "2024-11-11T10:54:52.177Z"
   },
   {
    "duration": 14,
    "start_time": "2024-11-11T10:54:52.181Z"
   },
   {
    "duration": 84,
    "start_time": "2024-11-11T10:54:52.196Z"
   },
   {
    "duration": 7,
    "start_time": "2024-11-11T10:54:52.281Z"
   },
   {
    "duration": 19,
    "start_time": "2024-11-11T10:54:52.289Z"
   },
   {
    "duration": 30,
    "start_time": "2024-11-11T10:54:52.309Z"
   },
   {
    "duration": 14,
    "start_time": "2024-11-11T10:54:52.340Z"
   },
   {
    "duration": 10,
    "start_time": "2024-11-11T10:54:52.355Z"
   },
   {
    "duration": 29,
    "start_time": "2024-11-11T10:54:52.366Z"
   },
   {
    "duration": 6,
    "start_time": "2024-11-11T10:54:52.397Z"
   },
   {
    "duration": 13,
    "start_time": "2024-11-11T10:54:52.406Z"
   },
   {
    "duration": 5,
    "start_time": "2024-11-11T10:54:52.421Z"
   },
   {
    "duration": 6,
    "start_time": "2024-11-11T10:54:52.427Z"
   },
   {
    "duration": 171,
    "start_time": "2024-11-11T10:54:52.435Z"
   },
   {
    "duration": 8,
    "start_time": "2024-11-11T10:54:52.607Z"
   },
   {
    "duration": 256,
    "start_time": "2024-11-11T10:54:52.616Z"
   },
   {
    "duration": 10,
    "start_time": "2024-11-11T10:54:52.873Z"
   },
   {
    "duration": 244,
    "start_time": "2024-11-11T10:54:52.885Z"
   },
   {
    "duration": 23,
    "start_time": "2024-11-11T10:54:53.130Z"
   },
   {
    "duration": 447,
    "start_time": "2024-11-11T10:54:53.154Z"
   },
   {
    "duration": 333,
    "start_time": "2024-11-11T11:03:48.915Z"
   },
   {
    "duration": 139,
    "start_time": "2024-11-11T11:04:01.811Z"
   },
   {
    "duration": 131,
    "start_time": "2024-11-11T11:06:58.114Z"
   },
   {
    "duration": 3,
    "start_time": "2024-11-11T11:08:38.245Z"
   },
   {
    "duration": 97,
    "start_time": "2024-11-11T11:08:38.251Z"
   },
   {
    "duration": 12,
    "start_time": "2024-11-11T11:08:38.350Z"
   },
   {
    "duration": 16,
    "start_time": "2024-11-11T11:08:38.363Z"
   },
   {
    "duration": 2,
    "start_time": "2024-11-11T11:08:38.381Z"
   },
   {
    "duration": 15,
    "start_time": "2024-11-11T11:08:38.385Z"
   },
   {
    "duration": 24,
    "start_time": "2024-11-11T11:08:38.401Z"
   },
   {
    "duration": 9,
    "start_time": "2024-11-11T11:08:38.426Z"
   },
   {
    "duration": 7,
    "start_time": "2024-11-11T11:08:38.436Z"
   },
   {
    "duration": 24,
    "start_time": "2024-11-11T11:08:38.444Z"
   },
   {
    "duration": 15,
    "start_time": "2024-11-11T11:08:38.469Z"
   },
   {
    "duration": 11,
    "start_time": "2024-11-11T11:08:38.485Z"
   },
   {
    "duration": 25,
    "start_time": "2024-11-11T11:08:38.497Z"
   },
   {
    "duration": 10,
    "start_time": "2024-11-11T11:08:38.523Z"
   },
   {
    "duration": 8,
    "start_time": "2024-11-11T11:08:38.535Z"
   },
   {
    "duration": 9,
    "start_time": "2024-11-11T11:08:38.544Z"
   },
   {
    "duration": 4,
    "start_time": "2024-11-11T11:08:38.554Z"
   },
   {
    "duration": 168,
    "start_time": "2024-11-11T11:08:38.559Z"
   },
   {
    "duration": 5,
    "start_time": "2024-11-11T11:08:38.729Z"
   },
   {
    "duration": 256,
    "start_time": "2024-11-11T11:08:38.735Z"
   },
   {
    "duration": 78,
    "start_time": "2024-11-11T11:08:38.993Z"
   },
   {
    "duration": 255,
    "start_time": "2024-11-11T11:08:39.073Z"
   },
   {
    "duration": 21,
    "start_time": "2024-11-11T11:08:39.338Z"
   },
   {
    "duration": 472,
    "start_time": "2024-11-11T11:08:39.360Z"
   },
   {
    "duration": 144,
    "start_time": "2024-11-11T11:08:39.834Z"
   },
   {
    "duration": 51,
    "start_time": "2024-11-13T14:31:07.337Z"
   },
   {
    "duration": 1506,
    "start_time": "2024-11-13T14:31:13.437Z"
   },
   {
    "duration": 205,
    "start_time": "2024-11-13T14:31:14.945Z"
   },
   {
    "duration": 19,
    "start_time": "2024-11-13T14:31:15.152Z"
   },
   {
    "duration": 23,
    "start_time": "2024-11-13T14:31:15.173Z"
   },
   {
    "duration": 9,
    "start_time": "2024-11-13T14:31:15.200Z"
   },
   {
    "duration": 31,
    "start_time": "2024-11-13T14:31:15.211Z"
   },
   {
    "duration": 98,
    "start_time": "2024-11-13T14:31:15.244Z"
   },
   {
    "duration": 17,
    "start_time": "2024-11-13T14:31:15.344Z"
   },
   {
    "duration": 23,
    "start_time": "2024-11-13T14:31:15.363Z"
   },
   {
    "duration": 33,
    "start_time": "2024-11-13T14:31:15.388Z"
   },
   {
    "duration": 41,
    "start_time": "2024-11-13T14:31:15.422Z"
   },
   {
    "duration": 15,
    "start_time": "2024-11-13T14:31:15.469Z"
   },
   {
    "duration": 24,
    "start_time": "2024-11-13T14:31:15.486Z"
   },
   {
    "duration": 6,
    "start_time": "2024-11-13T14:31:15.514Z"
   },
   {
    "duration": 11,
    "start_time": "2024-11-13T14:31:15.522Z"
   },
   {
    "duration": 11,
    "start_time": "2024-11-13T14:31:15.535Z"
   },
   {
    "duration": 9,
    "start_time": "2024-11-13T14:31:15.548Z"
   },
   {
    "duration": 199,
    "start_time": "2024-11-13T14:31:15.559Z"
   },
   {
    "duration": 6,
    "start_time": "2024-11-13T14:31:15.759Z"
   },
   {
    "duration": 264,
    "start_time": "2024-11-13T14:31:15.767Z"
   },
   {
    "duration": 184,
    "start_time": "2024-11-13T14:31:16.033Z"
   },
   {
    "duration": 392,
    "start_time": "2024-11-13T14:31:16.219Z"
   },
   {
    "duration": 22,
    "start_time": "2024-11-13T14:31:16.613Z"
   },
   {
    "duration": 722,
    "start_time": "2024-11-13T14:31:16.637Z"
   },
   {
    "duration": 387,
    "start_time": "2024-11-13T14:31:17.361Z"
   },
   {
    "duration": 169,
    "start_time": "2024-11-13T14:31:24.806Z"
   },
   {
    "duration": 42,
    "start_time": "2024-11-14T08:05:02.751Z"
   },
   {
    "duration": 5,
    "start_time": "2024-11-14T08:05:03.253Z"
   },
   {
    "duration": 1291,
    "start_time": "2024-11-14T08:05:06.372Z"
   },
   {
    "duration": 291,
    "start_time": "2024-11-14T08:05:07.754Z"
   },
   {
    "duration": 17,
    "start_time": "2024-11-14T08:05:08.704Z"
   },
   {
    "duration": 68,
    "start_time": "2024-11-14T08:05:11.524Z"
   },
   {
    "duration": 18,
    "start_time": "2024-11-14T08:05:11.964Z"
   },
   {
    "duration": 13,
    "start_time": "2024-11-14T08:05:19.054Z"
   },
   {
    "duration": 3,
    "start_time": "2024-11-14T08:05:20.585Z"
   },
   {
    "duration": 15,
    "start_time": "2024-11-14T08:05:22.381Z"
   },
   {
    "duration": 16,
    "start_time": "2024-11-14T08:05:23.103Z"
   },
   {
    "duration": 8,
    "start_time": "2024-11-14T08:05:23.720Z"
   },
   {
    "duration": 8,
    "start_time": "2024-11-14T08:05:24.312Z"
   },
   {
    "duration": 14,
    "start_time": "2024-11-14T08:05:24.509Z"
   },
   {
    "duration": 16,
    "start_time": "2024-11-14T08:05:25.253Z"
   },
   {
    "duration": 9,
    "start_time": "2024-11-14T08:05:25.622Z"
   },
   {
    "duration": 15,
    "start_time": "2024-11-14T08:05:26.101Z"
   },
   {
    "duration": 3,
    "start_time": "2024-11-14T08:05:27.111Z"
   },
   {
    "duration": 3,
    "start_time": "2024-11-14T08:05:27.392Z"
   },
   {
    "duration": 4,
    "start_time": "2024-11-14T08:05:28.224Z"
   },
   {
    "duration": 4,
    "start_time": "2024-11-14T08:05:28.390Z"
   },
   {
    "duration": 169,
    "start_time": "2024-11-14T08:05:28.804Z"
   },
   {
    "duration": 5,
    "start_time": "2024-11-14T08:05:30.293Z"
   },
   {
    "duration": 216,
    "start_time": "2024-11-14T08:05:31.013Z"
   },
   {
    "duration": 138,
    "start_time": "2024-11-14T08:05:32.226Z"
   },
   {
    "duration": 233,
    "start_time": "2024-11-14T08:05:33.286Z"
   },
   {
    "duration": 18,
    "start_time": "2024-11-14T08:05:34.417Z"
   },
   {
    "duration": 606,
    "start_time": "2024-11-14T08:05:35.158Z"
   },
   {
    "duration": 322,
    "start_time": "2024-11-14T08:05:36.425Z"
   },
   {
    "duration": 20,
    "start_time": "2024-11-14T08:12:44.012Z"
   },
   {
    "duration": 438,
    "start_time": "2024-11-14T08:12:44.784Z"
   },
   {
    "duration": 213,
    "start_time": "2024-11-14T08:12:54.701Z"
   },
   {
    "duration": 103,
    "start_time": "2024-11-14T08:18:24.987Z"
   },
   {
    "duration": 3,
    "start_time": "2024-11-14T08:19:18.730Z"
   },
   {
    "duration": 73,
    "start_time": "2024-11-14T08:19:18.735Z"
   },
   {
    "duration": 13,
    "start_time": "2024-11-14T08:19:18.809Z"
   },
   {
    "duration": 14,
    "start_time": "2024-11-14T08:19:18.824Z"
   },
   {
    "duration": 3,
    "start_time": "2024-11-14T08:19:18.839Z"
   },
   {
    "duration": 19,
    "start_time": "2024-11-14T08:19:18.843Z"
   },
   {
    "duration": 15,
    "start_time": "2024-11-14T08:19:18.863Z"
   },
   {
    "duration": 6,
    "start_time": "2024-11-14T08:19:18.880Z"
   },
   {
    "duration": 8,
    "start_time": "2024-11-14T08:19:18.888Z"
   },
   {
    "duration": 14,
    "start_time": "2024-11-14T08:19:18.898Z"
   },
   {
    "duration": 25,
    "start_time": "2024-11-14T08:19:18.913Z"
   },
   {
    "duration": 15,
    "start_time": "2024-11-14T08:19:18.939Z"
   },
   {
    "duration": 14,
    "start_time": "2024-11-14T08:19:18.955Z"
   },
   {
    "duration": 12,
    "start_time": "2024-11-14T08:19:18.970Z"
   },
   {
    "duration": 7,
    "start_time": "2024-11-14T08:19:18.983Z"
   },
   {
    "duration": 6,
    "start_time": "2024-11-14T08:19:18.992Z"
   },
   {
    "duration": 4,
    "start_time": "2024-11-14T08:19:18.999Z"
   },
   {
    "duration": 165,
    "start_time": "2024-11-14T08:19:19.005Z"
   },
   {
    "duration": 6,
    "start_time": "2024-11-14T08:19:19.171Z"
   },
   {
    "duration": 220,
    "start_time": "2024-11-14T08:19:19.178Z"
   },
   {
    "duration": 10,
    "start_time": "2024-11-14T08:19:19.399Z"
   },
   {
    "duration": 240,
    "start_time": "2024-11-14T08:19:19.411Z"
   },
   {
    "duration": 17,
    "start_time": "2024-11-14T08:19:19.652Z"
   },
   {
    "duration": 448,
    "start_time": "2024-11-14T08:19:19.671Z"
   },
   {
    "duration": 149,
    "start_time": "2024-11-14T08:19:20.120Z"
   },
   {
    "duration": 11,
    "start_time": "2024-11-14T08:19:20.271Z"
   },
   {
    "duration": 0,
    "start_time": "2024-11-14T08:19:20.284Z"
   },
   {
    "duration": 0,
    "start_time": "2024-11-14T08:19:20.285Z"
   },
   {
    "duration": 0,
    "start_time": "2024-11-14T08:19:20.285Z"
   },
   {
    "duration": 0,
    "start_time": "2024-11-14T08:19:20.286Z"
   },
   {
    "duration": 11,
    "start_time": "2024-11-14T08:19:29.612Z"
   },
   {
    "duration": 296,
    "start_time": "2024-11-14T08:19:46.751Z"
   },
   {
    "duration": 423,
    "start_time": "2024-11-14T08:20:11.717Z"
   },
   {
    "duration": 24,
    "start_time": "2024-11-14T08:25:33.924Z"
   },
   {
    "duration": 17,
    "start_time": "2024-11-14T08:26:02.876Z"
   },
   {
    "duration": 306,
    "start_time": "2024-11-14T08:26:10.895Z"
   },
   {
    "duration": 194,
    "start_time": "2024-11-14T08:31:46.157Z"
   },
   {
    "duration": 13,
    "start_time": "2024-11-14T08:34:06.236Z"
   },
   {
    "duration": 11,
    "start_time": "2024-11-14T08:34:25.053Z"
   },
   {
    "duration": 254,
    "start_time": "2024-11-14T08:34:49.052Z"
   },
   {
    "duration": 4,
    "start_time": "2024-11-14T08:36:08.803Z"
   },
   {
    "duration": 80,
    "start_time": "2024-11-14T08:36:08.808Z"
   },
   {
    "duration": 15,
    "start_time": "2024-11-14T08:36:08.889Z"
   },
   {
    "duration": 18,
    "start_time": "2024-11-14T08:36:08.905Z"
   },
   {
    "duration": 3,
    "start_time": "2024-11-14T08:36:08.925Z"
   },
   {
    "duration": 24,
    "start_time": "2024-11-14T08:36:08.929Z"
   },
   {
    "duration": 16,
    "start_time": "2024-11-14T08:36:08.954Z"
   },
   {
    "duration": 7,
    "start_time": "2024-11-14T08:36:08.971Z"
   },
   {
    "duration": 7,
    "start_time": "2024-11-14T08:36:08.979Z"
   },
   {
    "duration": 18,
    "start_time": "2024-11-14T08:36:08.987Z"
   },
   {
    "duration": 26,
    "start_time": "2024-11-14T08:36:09.007Z"
   },
   {
    "duration": 10,
    "start_time": "2024-11-14T08:36:09.047Z"
   },
   {
    "duration": 24,
    "start_time": "2024-11-14T08:36:09.058Z"
   },
   {
    "duration": 9,
    "start_time": "2024-11-14T08:36:09.084Z"
   },
   {
    "duration": 7,
    "start_time": "2024-11-14T08:36:09.094Z"
   },
   {
    "duration": 14,
    "start_time": "2024-11-14T08:36:09.102Z"
   },
   {
    "duration": 5,
    "start_time": "2024-11-14T08:36:09.117Z"
   },
   {
    "duration": 165,
    "start_time": "2024-11-14T08:36:09.123Z"
   },
   {
    "duration": 6,
    "start_time": "2024-11-14T08:36:09.289Z"
   },
   {
    "duration": 309,
    "start_time": "2024-11-14T08:36:09.296Z"
   },
   {
    "duration": 10,
    "start_time": "2024-11-14T08:36:09.607Z"
   },
   {
    "duration": 247,
    "start_time": "2024-11-14T08:36:09.618Z"
   },
   {
    "duration": 20,
    "start_time": "2024-11-14T08:36:09.866Z"
   },
   {
    "duration": 486,
    "start_time": "2024-11-14T08:36:09.887Z"
   },
   {
    "duration": 159,
    "start_time": "2024-11-14T08:36:10.374Z"
   },
   {
    "duration": 390,
    "start_time": "2024-11-14T08:36:10.535Z"
   },
   {
    "duration": 134,
    "start_time": "2024-11-14T08:36:10.926Z"
   },
   {
    "duration": 53,
    "start_time": "2024-11-14T08:36:11.061Z"
   },
   {
    "duration": 0,
    "start_time": "2024-11-14T08:36:11.115Z"
   },
   {
    "duration": 0,
    "start_time": "2024-11-14T08:36:11.117Z"
   },
   {
    "duration": 3,
    "start_time": "2024-11-14T08:37:35.169Z"
   },
   {
    "duration": 78,
    "start_time": "2024-11-14T08:37:35.174Z"
   },
   {
    "duration": 13,
    "start_time": "2024-11-14T08:37:35.254Z"
   },
   {
    "duration": 38,
    "start_time": "2024-11-14T08:37:35.269Z"
   },
   {
    "duration": 30,
    "start_time": "2024-11-14T08:37:35.309Z"
   },
   {
    "duration": 52,
    "start_time": "2024-11-14T08:37:35.340Z"
   },
   {
    "duration": 51,
    "start_time": "2024-11-14T08:37:35.393Z"
   },
   {
    "duration": 20,
    "start_time": "2024-11-14T08:37:35.445Z"
   },
   {
    "duration": 23,
    "start_time": "2024-11-14T08:37:35.466Z"
   },
   {
    "duration": 38,
    "start_time": "2024-11-14T08:37:35.491Z"
   },
   {
    "duration": 40,
    "start_time": "2024-11-14T08:37:35.530Z"
   },
   {
    "duration": 17,
    "start_time": "2024-11-14T08:37:35.571Z"
   },
   {
    "duration": 13,
    "start_time": "2024-11-14T08:37:35.590Z"
   },
   {
    "duration": 34,
    "start_time": "2024-11-14T08:37:35.604Z"
   },
   {
    "duration": 35,
    "start_time": "2024-11-14T08:37:35.639Z"
   },
   {
    "duration": 14,
    "start_time": "2024-11-14T08:37:35.675Z"
   },
   {
    "duration": 27,
    "start_time": "2024-11-14T08:37:35.690Z"
   },
   {
    "duration": 264,
    "start_time": "2024-11-14T08:37:35.718Z"
   },
   {
    "duration": 7,
    "start_time": "2024-11-14T08:37:35.984Z"
   },
   {
    "duration": 245,
    "start_time": "2024-11-14T08:37:35.993Z"
   },
   {
    "duration": 10,
    "start_time": "2024-11-14T08:37:36.247Z"
   },
   {
    "duration": 257,
    "start_time": "2024-11-14T08:37:36.258Z"
   },
   {
    "duration": 19,
    "start_time": "2024-11-14T08:37:36.517Z"
   },
   {
    "duration": 476,
    "start_time": "2024-11-14T08:37:36.547Z"
   },
   {
    "duration": 153,
    "start_time": "2024-11-14T08:37:37.025Z"
   },
   {
    "duration": 393,
    "start_time": "2024-11-14T08:37:37.180Z"
   },
   {
    "duration": 132,
    "start_time": "2024-11-14T08:37:37.574Z"
   },
   {
    "duration": 71,
    "start_time": "2024-11-14T08:37:37.709Z"
   },
   {
    "duration": 0,
    "start_time": "2024-11-14T08:37:37.781Z"
   },
   {
    "duration": 0,
    "start_time": "2024-11-14T08:37:37.782Z"
   },
   {
    "duration": 232,
    "start_time": "2024-11-14T08:41:33.089Z"
   },
   {
    "duration": 121,
    "start_time": "2024-11-14T08:45:12.591Z"
   },
   {
    "duration": 13,
    "start_time": "2024-11-14T08:45:33.599Z"
   },
   {
    "duration": 14149,
    "start_time": "2024-11-14T08:46:07.265Z"
   },
   {
    "duration": 4,
    "start_time": "2024-11-14T08:47:22.537Z"
   },
   {
    "duration": 97,
    "start_time": "2024-11-14T08:47:22.542Z"
   },
   {
    "duration": 14,
    "start_time": "2024-11-14T08:47:22.640Z"
   },
   {
    "duration": 32,
    "start_time": "2024-11-14T08:47:22.656Z"
   },
   {
    "duration": 10,
    "start_time": "2024-11-14T08:47:22.690Z"
   },
   {
    "duration": 18,
    "start_time": "2024-11-14T08:47:22.701Z"
   },
   {
    "duration": 20,
    "start_time": "2024-11-14T08:47:22.720Z"
   },
   {
    "duration": 8,
    "start_time": "2024-11-14T08:47:22.742Z"
   },
   {
    "duration": 9,
    "start_time": "2024-11-14T08:47:22.752Z"
   },
   {
    "duration": 20,
    "start_time": "2024-11-14T08:47:22.763Z"
   },
   {
    "duration": 32,
    "start_time": "2024-11-14T08:47:22.784Z"
   },
   {
    "duration": 25,
    "start_time": "2024-11-14T08:47:22.818Z"
   },
   {
    "duration": 43,
    "start_time": "2024-11-14T08:47:22.845Z"
   },
   {
    "duration": 13,
    "start_time": "2024-11-14T08:47:22.890Z"
   },
   {
    "duration": 12,
    "start_time": "2024-11-14T08:47:22.904Z"
   },
   {
    "duration": 11,
    "start_time": "2024-11-14T08:47:22.917Z"
   },
   {
    "duration": 8,
    "start_time": "2024-11-14T08:47:22.929Z"
   },
   {
    "duration": 163,
    "start_time": "2024-11-14T08:47:22.938Z"
   },
   {
    "duration": 6,
    "start_time": "2024-11-14T08:47:23.102Z"
   },
   {
    "duration": 226,
    "start_time": "2024-11-14T08:47:23.109Z"
   },
   {
    "duration": 19,
    "start_time": "2024-11-14T08:47:23.336Z"
   },
   {
    "duration": 261,
    "start_time": "2024-11-14T08:47:23.356Z"
   },
   {
    "duration": 17,
    "start_time": "2024-11-14T08:47:23.619Z"
   },
   {
    "duration": 510,
    "start_time": "2024-11-14T08:47:23.638Z"
   },
   {
    "duration": 148,
    "start_time": "2024-11-14T08:47:24.150Z"
   },
   {
    "duration": 402,
    "start_time": "2024-11-14T08:47:24.300Z"
   },
   {
    "duration": 135,
    "start_time": "2024-11-14T08:47:24.703Z"
   },
   {
    "duration": 13573,
    "start_time": "2024-11-14T08:47:24.841Z"
   },
   {
    "duration": 34,
    "start_time": "2024-11-14T08:47:38.415Z"
   },
   {
    "duration": 0,
    "start_time": "2024-11-14T08:47:38.451Z"
   },
   {
    "duration": 0,
    "start_time": "2024-11-14T08:47:38.452Z"
   },
   {
    "duration": 0,
    "start_time": "2024-11-14T08:47:38.453Z"
   },
   {
    "duration": 756,
    "start_time": "2024-11-14T09:09:32.272Z"
   },
   {
    "duration": 27,
    "start_time": "2024-11-14T09:13:51.660Z"
   },
   {
    "duration": 861,
    "start_time": "2024-11-14T09:14:07.180Z"
   },
   {
    "duration": 991,
    "start_time": "2024-11-14T09:17:49.318Z"
   },
   {
    "duration": 822,
    "start_time": "2024-11-14T09:18:23.137Z"
   },
   {
    "duration": 967,
    "start_time": "2024-11-14T09:18:37.787Z"
   },
   {
    "duration": 839,
    "start_time": "2024-11-14T09:19:05.145Z"
   },
   {
    "duration": 846,
    "start_time": "2024-11-14T09:19:13.345Z"
   },
   {
    "duration": 827,
    "start_time": "2024-11-14T09:19:30.937Z"
   },
   {
    "duration": 1381,
    "start_time": "2024-11-14T09:20:09.469Z"
   },
   {
    "duration": 17,
    "start_time": "2024-11-14T09:20:54.227Z"
   },
   {
    "duration": 13,
    "start_time": "2024-11-14T09:21:41.705Z"
   },
   {
    "duration": 7355,
    "start_time": "2024-11-14T09:23:18.256Z"
   },
   {
    "duration": 5886,
    "start_time": "2024-11-14T09:25:31.033Z"
   },
   {
    "duration": 554,
    "start_time": "2024-11-14T09:26:21.028Z"
   },
   {
    "duration": 554,
    "start_time": "2024-11-14T09:28:09.245Z"
   },
   {
    "duration": 14,
    "start_time": "2024-11-14T09:32:31.302Z"
   },
   {
    "duration": 14,
    "start_time": "2024-11-14T09:32:49.909Z"
   },
   {
    "duration": 9,
    "start_time": "2024-11-14T09:33:29.846Z"
   },
   {
    "duration": 14,
    "start_time": "2024-11-14T09:33:30.361Z"
   },
   {
    "duration": 120,
    "start_time": "2024-11-14T09:33:45.184Z"
   },
   {
    "duration": 8,
    "start_time": "2024-11-14T09:33:48.667Z"
   },
   {
    "duration": 130,
    "start_time": "2024-11-14T09:33:49.098Z"
   },
   {
    "duration": 6,
    "start_time": "2024-11-14T09:34:21.707Z"
   },
   {
    "duration": 124,
    "start_time": "2024-11-14T09:34:22.181Z"
   },
   {
    "duration": 3,
    "start_time": "2024-11-14T09:34:53.162Z"
   },
   {
    "duration": 92,
    "start_time": "2024-11-14T09:34:53.169Z"
   },
   {
    "duration": 15,
    "start_time": "2024-11-14T09:34:53.263Z"
   },
   {
    "duration": 35,
    "start_time": "2024-11-14T09:34:53.279Z"
   },
   {
    "duration": 40,
    "start_time": "2024-11-14T09:34:53.316Z"
   },
   {
    "duration": 33,
    "start_time": "2024-11-14T09:34:53.358Z"
   },
   {
    "duration": 41,
    "start_time": "2024-11-14T09:34:53.393Z"
   },
   {
    "duration": 20,
    "start_time": "2024-11-14T09:34:53.436Z"
   },
   {
    "duration": 32,
    "start_time": "2024-11-14T09:34:53.458Z"
   },
   {
    "duration": 29,
    "start_time": "2024-11-14T09:34:53.491Z"
   },
   {
    "duration": 36,
    "start_time": "2024-11-14T09:34:53.521Z"
   },
   {
    "duration": 34,
    "start_time": "2024-11-14T09:34:53.558Z"
   },
   {
    "duration": 43,
    "start_time": "2024-11-14T09:34:53.593Z"
   },
   {
    "duration": 28,
    "start_time": "2024-11-14T09:34:53.638Z"
   },
   {
    "duration": 23,
    "start_time": "2024-11-14T09:34:53.669Z"
   },
   {
    "duration": 21,
    "start_time": "2024-11-14T09:34:53.693Z"
   },
   {
    "duration": 33,
    "start_time": "2024-11-14T09:34:53.715Z"
   },
   {
    "duration": 193,
    "start_time": "2024-11-14T09:34:53.749Z"
   },
   {
    "duration": 7,
    "start_time": "2024-11-14T09:34:53.947Z"
   },
   {
    "duration": 289,
    "start_time": "2024-11-14T09:34:53.955Z"
   },
   {
    "duration": 10,
    "start_time": "2024-11-14T09:34:54.248Z"
   },
   {
    "duration": 279,
    "start_time": "2024-11-14T09:34:54.259Z"
   },
   {
    "duration": 23,
    "start_time": "2024-11-14T09:34:54.540Z"
   },
   {
    "duration": 515,
    "start_time": "2024-11-14T09:34:54.565Z"
   },
   {
    "duration": 169,
    "start_time": "2024-11-14T09:34:55.082Z"
   },
   {
    "duration": 417,
    "start_time": "2024-11-14T09:34:55.252Z"
   },
   {
    "duration": 142,
    "start_time": "2024-11-14T09:34:55.670Z"
   },
   {
    "duration": 14545,
    "start_time": "2024-11-14T09:34:55.813Z"
   },
   {
    "duration": 1098,
    "start_time": "2024-11-14T09:35:10.361Z"
   },
   {
    "duration": 11,
    "start_time": "2024-11-14T09:35:11.461Z"
   },
   {
    "duration": 645,
    "start_time": "2024-11-14T09:35:11.473Z"
   },
   {
    "duration": 5,
    "start_time": "2024-11-14T09:35:12.119Z"
   },
   {
    "duration": 146,
    "start_time": "2024-11-14T09:35:12.126Z"
   },
   {
    "duration": 53,
    "start_time": "2024-11-14T09:35:12.273Z"
   },
   {
    "duration": 0,
    "start_time": "2024-11-14T09:35:12.329Z"
   },
   {
    "duration": 0,
    "start_time": "2024-11-14T09:35:12.330Z"
   },
   {
    "duration": 129,
    "start_time": "2024-11-14T09:35:30.056Z"
   },
   {
    "duration": 5,
    "start_time": "2024-11-14T09:35:42.888Z"
   },
   {
    "duration": 120,
    "start_time": "2024-11-14T09:35:44.295Z"
   },
   {
    "duration": 123,
    "start_time": "2024-11-14T09:36:20.969Z"
   },
   {
    "duration": 4,
    "start_time": "2024-11-14T09:36:25.185Z"
   },
   {
    "duration": 70,
    "start_time": "2024-11-14T09:36:25.190Z"
   },
   {
    "duration": 14,
    "start_time": "2024-11-14T09:36:25.262Z"
   },
   {
    "duration": 15,
    "start_time": "2024-11-14T09:36:25.278Z"
   },
   {
    "duration": 3,
    "start_time": "2024-11-14T09:36:25.294Z"
   },
   {
    "duration": 16,
    "start_time": "2024-11-14T09:36:25.299Z"
   },
   {
    "duration": 31,
    "start_time": "2024-11-14T09:36:25.317Z"
   },
   {
    "duration": 9,
    "start_time": "2024-11-14T09:36:25.350Z"
   },
   {
    "duration": 18,
    "start_time": "2024-11-14T09:36:25.360Z"
   },
   {
    "duration": 13,
    "start_time": "2024-11-14T09:36:25.381Z"
   },
   {
    "duration": 32,
    "start_time": "2024-11-14T09:36:25.396Z"
   },
   {
    "duration": 10,
    "start_time": "2024-11-14T09:36:25.429Z"
   },
   {
    "duration": 15,
    "start_time": "2024-11-14T09:36:25.440Z"
   },
   {
    "duration": 6,
    "start_time": "2024-11-14T09:36:25.457Z"
   },
   {
    "duration": 3,
    "start_time": "2024-11-14T09:36:25.465Z"
   },
   {
    "duration": 16,
    "start_time": "2024-11-14T09:36:25.470Z"
   },
   {
    "duration": 6,
    "start_time": "2024-11-14T09:36:25.487Z"
   },
   {
    "duration": 179,
    "start_time": "2024-11-14T09:36:25.494Z"
   },
   {
    "duration": 7,
    "start_time": "2024-11-14T09:36:25.675Z"
   },
   {
    "duration": 257,
    "start_time": "2024-11-14T09:36:25.684Z"
   },
   {
    "duration": 12,
    "start_time": "2024-11-14T09:36:25.947Z"
   },
   {
    "duration": 273,
    "start_time": "2024-11-14T09:36:25.960Z"
   },
   {
    "duration": 31,
    "start_time": "2024-11-14T09:36:26.235Z"
   },
   {
    "duration": 483,
    "start_time": "2024-11-14T09:36:26.268Z"
   },
   {
    "duration": 165,
    "start_time": "2024-11-14T09:36:26.753Z"
   },
   {
    "duration": 406,
    "start_time": "2024-11-14T09:36:26.919Z"
   },
   {
    "duration": 139,
    "start_time": "2024-11-14T09:36:27.327Z"
   },
   {
    "duration": 14521,
    "start_time": "2024-11-14T09:36:27.469Z"
   },
   {
    "duration": 1062,
    "start_time": "2024-11-14T09:36:41.996Z"
   },
   {
    "duration": 10,
    "start_time": "2024-11-14T09:36:43.060Z"
   },
   {
    "duration": 566,
    "start_time": "2024-11-14T09:36:43.071Z"
   },
   {
    "duration": 67,
    "start_time": "2024-11-14T09:36:43.778Z"
   },
   {
    "duration": 0,
    "start_time": "2024-11-14T09:36:43.846Z"
   },
   {
    "duration": 0,
    "start_time": "2024-11-14T09:36:43.847Z"
   },
   {
    "duration": 6,
    "start_time": "2024-11-14T09:36:44.775Z"
   },
   {
    "duration": 126,
    "start_time": "2024-11-14T09:36:45.492Z"
   },
   {
    "duration": 6,
    "start_time": "2024-11-14T09:41:34.975Z"
   },
   {
    "duration": 123,
    "start_time": "2024-11-14T09:41:35.173Z"
   },
   {
    "duration": 14,
    "start_time": "2024-11-14T09:47:18.696Z"
   },
   {
    "duration": 16,
    "start_time": "2024-11-14T09:47:46.294Z"
   },
   {
    "duration": 830,
    "start_time": "2024-11-14T09:47:48.607Z"
   },
   {
    "duration": 14,
    "start_time": "2024-11-14T09:48:21.005Z"
   },
   {
    "duration": 22,
    "start_time": "2024-11-14T09:48:21.272Z"
   },
   {
    "duration": 896,
    "start_time": "2024-11-14T09:48:31.656Z"
   },
   {
    "duration": 3,
    "start_time": "2024-11-14T09:49:09.365Z"
   },
   {
    "duration": 76,
    "start_time": "2024-11-14T09:49:09.371Z"
   },
   {
    "duration": 15,
    "start_time": "2024-11-14T09:49:09.448Z"
   },
   {
    "duration": 14,
    "start_time": "2024-11-14T09:49:09.464Z"
   },
   {
    "duration": 5,
    "start_time": "2024-11-14T09:49:09.480Z"
   },
   {
    "duration": 18,
    "start_time": "2024-11-14T09:49:09.487Z"
   },
   {
    "duration": 15,
    "start_time": "2024-11-14T09:49:09.507Z"
   },
   {
    "duration": 26,
    "start_time": "2024-11-14T09:49:09.523Z"
   },
   {
    "duration": 8,
    "start_time": "2024-11-14T09:49:09.550Z"
   },
   {
    "duration": 22,
    "start_time": "2024-11-14T09:49:09.559Z"
   },
   {
    "duration": 22,
    "start_time": "2024-11-14T09:49:09.582Z"
   },
   {
    "duration": 10,
    "start_time": "2024-11-14T09:49:09.606Z"
   },
   {
    "duration": 35,
    "start_time": "2024-11-14T09:49:09.617Z"
   },
   {
    "duration": 4,
    "start_time": "2024-11-14T09:49:09.654Z"
   },
   {
    "duration": 9,
    "start_time": "2024-11-14T09:49:09.660Z"
   },
   {
    "duration": 8,
    "start_time": "2024-11-14T09:49:09.670Z"
   },
   {
    "duration": 5,
    "start_time": "2024-11-14T09:49:09.679Z"
   },
   {
    "duration": 190,
    "start_time": "2024-11-14T09:49:09.685Z"
   },
   {
    "duration": 7,
    "start_time": "2024-11-14T09:49:09.877Z"
   },
   {
    "duration": 277,
    "start_time": "2024-11-14T09:49:09.885Z"
   },
   {
    "duration": 11,
    "start_time": "2024-11-14T09:49:10.163Z"
   },
   {
    "duration": 256,
    "start_time": "2024-11-14T09:49:10.176Z"
   },
   {
    "duration": 23,
    "start_time": "2024-11-14T09:49:10.434Z"
   },
   {
    "duration": 483,
    "start_time": "2024-11-14T09:49:10.458Z"
   },
   {
    "duration": 157,
    "start_time": "2024-11-14T09:49:10.943Z"
   },
   {
    "duration": 390,
    "start_time": "2024-11-14T09:49:11.102Z"
   },
   {
    "duration": 145,
    "start_time": "2024-11-14T09:49:11.494Z"
   },
   {
    "duration": 13761,
    "start_time": "2024-11-14T09:49:11.641Z"
   },
   {
    "duration": 52,
    "start_time": "2024-11-14T09:49:25.403Z"
   },
   {
    "duration": 12,
    "start_time": "2024-11-14T09:49:27.456Z"
   },
   {
    "duration": 566,
    "start_time": "2024-11-14T09:49:27.469Z"
   },
   {
    "duration": 12,
    "start_time": "2024-11-14T09:49:28.036Z"
   },
   {
    "duration": 126,
    "start_time": "2024-11-14T09:49:28.049Z"
   },
   {
    "duration": 61,
    "start_time": "2024-11-14T09:49:28.176Z"
   },
   {
    "duration": 0,
    "start_time": "2024-11-14T09:49:28.238Z"
   },
   {
    "duration": 0,
    "start_time": "2024-11-14T09:49:28.239Z"
   },
   {
    "duration": 845,
    "start_time": "2024-11-14T09:49:35.012Z"
   },
   {
    "duration": 154,
    "start_time": "2024-11-14T09:52:52.034Z"
   },
   {
    "duration": 89,
    "start_time": "2024-11-14T09:53:25.922Z"
   },
   {
    "duration": 4,
    "start_time": "2024-11-14T09:54:35.804Z"
   },
   {
    "duration": 92,
    "start_time": "2024-11-14T09:54:35.810Z"
   },
   {
    "duration": 15,
    "start_time": "2024-11-14T09:54:35.904Z"
   },
   {
    "duration": 30,
    "start_time": "2024-11-14T09:54:35.921Z"
   },
   {
    "duration": 24,
    "start_time": "2024-11-14T09:54:35.953Z"
   },
   {
    "duration": 15,
    "start_time": "2024-11-14T09:54:35.979Z"
   },
   {
    "duration": 42,
    "start_time": "2024-11-14T09:54:35.996Z"
   },
   {
    "duration": 29,
    "start_time": "2024-11-14T09:54:36.039Z"
   },
   {
    "duration": 13,
    "start_time": "2024-11-14T09:54:36.070Z"
   },
   {
    "duration": 31,
    "start_time": "2024-11-14T09:54:36.086Z"
   },
   {
    "duration": 49,
    "start_time": "2024-11-14T09:54:36.119Z"
   },
   {
    "duration": 32,
    "start_time": "2024-11-14T09:54:36.170Z"
   },
   {
    "duration": 37,
    "start_time": "2024-11-14T09:54:36.204Z"
   },
   {
    "duration": 12,
    "start_time": "2024-11-14T09:54:36.243Z"
   },
   {
    "duration": 24,
    "start_time": "2024-11-14T09:54:36.256Z"
   },
   {
    "duration": 5,
    "start_time": "2024-11-14T09:54:36.282Z"
   },
   {
    "duration": 7,
    "start_time": "2024-11-14T09:54:36.289Z"
   },
   {
    "duration": 184,
    "start_time": "2024-11-14T09:54:36.298Z"
   },
   {
    "duration": 6,
    "start_time": "2024-11-14T09:54:36.483Z"
   },
   {
    "duration": 258,
    "start_time": "2024-11-14T09:54:36.491Z"
   },
   {
    "duration": 11,
    "start_time": "2024-11-14T09:54:36.751Z"
   },
   {
    "duration": 269,
    "start_time": "2024-11-14T09:54:36.764Z"
   },
   {
    "duration": 24,
    "start_time": "2024-11-14T09:54:37.035Z"
   },
   {
    "duration": 496,
    "start_time": "2024-11-14T09:54:37.060Z"
   },
   {
    "duration": 174,
    "start_time": "2024-11-14T09:54:37.558Z"
   },
   {
    "duration": 446,
    "start_time": "2024-11-14T09:54:37.734Z"
   },
   {
    "duration": 139,
    "start_time": "2024-11-14T09:54:38.181Z"
   },
   {
    "duration": 14018,
    "start_time": "2024-11-14T09:54:38.323Z"
   },
   {
    "duration": 16,
    "start_time": "2024-11-14T09:54:52.347Z"
   },
   {
    "duration": 1074,
    "start_time": "2024-11-14T09:54:52.365Z"
   },
   {
    "duration": 15,
    "start_time": "2024-11-14T09:54:53.441Z"
   },
   {
    "duration": 619,
    "start_time": "2024-11-14T09:54:53.457Z"
   },
   {
    "duration": 6,
    "start_time": "2024-11-14T09:54:54.078Z"
   },
   {
    "duration": 113,
    "start_time": "2024-11-14T09:54:54.240Z"
   },
   {
    "duration": 77,
    "start_time": "2024-11-14T10:25:09.095Z"
   },
   {
    "duration": 5,
    "start_time": "2024-11-14T10:26:15.207Z"
   },
   {
    "duration": 23,
    "start_time": "2024-11-14T10:26:24.576Z"
   },
   {
    "duration": 4,
    "start_time": "2024-11-14T10:27:16.063Z"
   },
   {
    "duration": 15,
    "start_time": "2024-11-14T10:27:42.964Z"
   },
   {
    "duration": 55,
    "start_time": "2024-11-14T10:29:31.715Z"
   },
   {
    "duration": 13,
    "start_time": "2024-11-14T10:30:00.084Z"
   },
   {
    "duration": 4,
    "start_time": "2024-11-14T10:30:17.086Z"
   },
   {
    "duration": 4,
    "start_time": "2024-11-14T10:30:17.224Z"
   },
   {
    "duration": 260,
    "start_time": "2024-11-14T10:30:17.727Z"
   },
   {
    "duration": 268,
    "start_time": "2024-11-14T10:30:39.137Z"
   },
   {
    "duration": 248,
    "start_time": "2024-11-14T10:31:07.816Z"
   },
   {
    "duration": 227,
    "start_time": "2024-11-14T10:32:16.705Z"
   },
   {
    "duration": 231,
    "start_time": "2024-11-14T10:32:28.503Z"
   },
   {
    "duration": 235,
    "start_time": "2024-11-14T10:34:47.608Z"
   },
   {
    "duration": 69,
    "start_time": "2024-11-14T10:36:20.415Z"
   },
   {
    "duration": 837,
    "start_time": "2024-11-14T10:37:21.123Z"
   },
   {
    "duration": 5,
    "start_time": "2024-11-14T10:37:56.046Z"
   },
   {
    "duration": 4,
    "start_time": "2024-11-14T10:37:56.598Z"
   },
   {
    "duration": 4,
    "start_time": "2024-11-14T10:38:10.084Z"
   },
   {
    "duration": 805,
    "start_time": "2024-11-14T10:38:20.518Z"
   },
   {
    "duration": 5,
    "start_time": "2024-11-14T10:40:26.768Z"
   },
   {
    "duration": 297,
    "start_time": "2024-11-14T10:44:19.478Z"
   },
   {
    "duration": 8,
    "start_time": "2024-11-14T10:44:59.994Z"
   },
   {
    "duration": 227,
    "start_time": "2024-11-14T10:45:17.651Z"
   },
   {
    "duration": 13,
    "start_time": "2024-11-14T10:48:24.467Z"
   },
   {
    "duration": 13,
    "start_time": "2024-11-14T10:49:11.472Z"
   },
   {
    "duration": 46,
    "start_time": "2024-11-15T07:03:21.622Z"
   },
   {
    "duration": 1532,
    "start_time": "2024-11-15T07:03:27.161Z"
   },
   {
    "duration": 214,
    "start_time": "2024-11-15T07:03:28.695Z"
   },
   {
    "duration": 18,
    "start_time": "2024-11-15T07:03:28.910Z"
   },
   {
    "duration": 13,
    "start_time": "2024-11-15T07:03:28.930Z"
   },
   {
    "duration": 3,
    "start_time": "2024-11-15T07:03:29.184Z"
   },
   {
    "duration": 13,
    "start_time": "2024-11-15T07:03:29.604Z"
   },
   {
    "duration": 15,
    "start_time": "2024-11-15T07:03:30.953Z"
   },
   {
    "duration": 9,
    "start_time": "2024-11-15T07:03:32.372Z"
   },
   {
    "duration": 7,
    "start_time": "2024-11-15T07:03:33.453Z"
   },
   {
    "duration": 13,
    "start_time": "2024-11-15T07:03:33.665Z"
   },
   {
    "duration": 25,
    "start_time": "2024-11-15T07:03:34.373Z"
   },
   {
    "duration": 11,
    "start_time": "2024-11-15T07:03:35.122Z"
   },
   {
    "duration": 13,
    "start_time": "2024-11-15T07:03:35.537Z"
   },
   {
    "duration": 3,
    "start_time": "2024-11-15T07:03:36.334Z"
   },
   {
    "duration": 3,
    "start_time": "2024-11-15T07:03:36.534Z"
   },
   {
    "duration": 5,
    "start_time": "2024-11-15T07:03:37.144Z"
   },
   {
    "duration": 4,
    "start_time": "2024-11-15T07:03:37.369Z"
   },
   {
    "duration": 167,
    "start_time": "2024-11-15T07:03:37.760Z"
   },
   {
    "duration": 6,
    "start_time": "2024-11-15T07:03:39.084Z"
   },
   {
    "duration": 220,
    "start_time": "2024-11-15T07:03:39.492Z"
   },
   {
    "duration": 183,
    "start_time": "2024-11-15T07:03:40.785Z"
   },
   {
    "duration": 230,
    "start_time": "2024-11-15T07:03:48.851Z"
   },
   {
    "duration": 19,
    "start_time": "2024-11-15T07:03:49.449Z"
   },
   {
    "duration": 476,
    "start_time": "2024-11-15T07:03:49.841Z"
   },
   {
    "duration": 311,
    "start_time": "2024-11-15T07:03:50.581Z"
   },
   {
    "duration": 379,
    "start_time": "2024-11-15T07:03:51.150Z"
   },
   {
    "duration": 121,
    "start_time": "2024-11-15T07:04:30.172Z"
   },
   {
    "duration": 9,
    "start_time": "2024-11-15T07:04:36.192Z"
   },
   {
    "duration": 15,
    "start_time": "2024-11-15T07:04:36.999Z"
   },
   {
    "duration": 11,
    "start_time": "2024-11-15T07:04:37.288Z"
   },
   {
    "duration": 9,
    "start_time": "2024-11-15T07:04:37.525Z"
   },
   {
    "duration": 12,
    "start_time": "2024-11-15T07:04:37.815Z"
   },
   {
    "duration": 4,
    "start_time": "2024-11-15T07:04:43.282Z"
   },
   {
    "duration": 80,
    "start_time": "2024-11-15T07:04:43.288Z"
   },
   {
    "duration": 14,
    "start_time": "2024-11-15T07:04:43.369Z"
   },
   {
    "duration": 12,
    "start_time": "2024-11-15T07:04:43.384Z"
   },
   {
    "duration": 3,
    "start_time": "2024-11-15T07:04:43.398Z"
   },
   {
    "duration": 27,
    "start_time": "2024-11-15T07:04:43.402Z"
   },
   {
    "duration": 21,
    "start_time": "2024-11-15T07:04:43.430Z"
   },
   {
    "duration": 7,
    "start_time": "2024-11-15T07:04:43.452Z"
   },
   {
    "duration": 12,
    "start_time": "2024-11-15T07:04:43.461Z"
   },
   {
    "duration": 39,
    "start_time": "2024-11-15T07:04:43.475Z"
   },
   {
    "duration": 15,
    "start_time": "2024-11-15T07:04:43.515Z"
   },
   {
    "duration": 10,
    "start_time": "2024-11-15T07:04:43.531Z"
   },
   {
    "duration": 13,
    "start_time": "2024-11-15T07:04:43.542Z"
   },
   {
    "duration": 3,
    "start_time": "2024-11-15T07:04:43.557Z"
   },
   {
    "duration": 3,
    "start_time": "2024-11-15T07:04:43.561Z"
   },
   {
    "duration": 4,
    "start_time": "2024-11-15T07:04:43.565Z"
   },
   {
    "duration": 4,
    "start_time": "2024-11-15T07:04:43.570Z"
   },
   {
    "duration": 194,
    "start_time": "2024-11-15T07:04:43.576Z"
   },
   {
    "duration": 5,
    "start_time": "2024-11-15T07:04:43.771Z"
   },
   {
    "duration": 229,
    "start_time": "2024-11-15T07:04:43.778Z"
   },
   {
    "duration": 11,
    "start_time": "2024-11-15T07:04:44.008Z"
   },
   {
    "duration": 252,
    "start_time": "2024-11-15T07:04:44.020Z"
   },
   {
    "duration": 19,
    "start_time": "2024-11-15T07:04:44.273Z"
   },
   {
    "duration": 490,
    "start_time": "2024-11-15T07:04:44.293Z"
   },
   {
    "duration": 154,
    "start_time": "2024-11-15T07:04:44.784Z"
   },
   {
    "duration": 399,
    "start_time": "2024-11-15T07:04:44.939Z"
   },
   {
    "duration": 244,
    "start_time": "2024-11-15T07:04:45.339Z"
   },
   {
    "duration": 12848,
    "start_time": "2024-11-15T07:04:45.585Z"
   },
   {
    "duration": 21,
    "start_time": "2024-11-15T07:04:58.434Z"
   },
   {
    "duration": 1025,
    "start_time": "2024-11-15T07:04:58.457Z"
   },
   {
    "duration": 10,
    "start_time": "2024-11-15T07:04:59.484Z"
   },
   {
    "duration": 707,
    "start_time": "2024-11-15T07:04:59.495Z"
   },
   {
    "duration": 17,
    "start_time": "2024-11-15T07:05:00.203Z"
   },
   {
    "duration": 0,
    "start_time": "2024-11-15T07:05:00.221Z"
   },
   {
    "duration": 0,
    "start_time": "2024-11-15T07:05:00.222Z"
   },
   {
    "duration": 0,
    "start_time": "2024-11-15T07:05:00.223Z"
   },
   {
    "duration": 0,
    "start_time": "2024-11-15T07:05:00.223Z"
   },
   {
    "duration": 0,
    "start_time": "2024-11-15T07:05:00.224Z"
   },
   {
    "duration": 0,
    "start_time": "2024-11-15T07:05:00.225Z"
   },
   {
    "duration": 0,
    "start_time": "2024-11-15T07:05:00.226Z"
   },
   {
    "duration": 0,
    "start_time": "2024-11-15T07:05:00.227Z"
   },
   {
    "duration": 0,
    "start_time": "2024-11-15T07:05:00.228Z"
   },
   {
    "duration": 12,
    "start_time": "2024-11-15T07:07:08.092Z"
   },
   {
    "duration": 11,
    "start_time": "2024-11-15T07:07:09.043Z"
   },
   {
    "duration": 9,
    "start_time": "2024-11-15T07:07:09.662Z"
   },
   {
    "duration": 2,
    "start_time": "2024-11-15T07:07:13.164Z"
   },
   {
    "duration": 58,
    "start_time": "2024-11-15T07:07:13.168Z"
   },
   {
    "duration": 11,
    "start_time": "2024-11-15T07:07:13.227Z"
   },
   {
    "duration": 11,
    "start_time": "2024-11-15T07:07:13.239Z"
   },
   {
    "duration": 2,
    "start_time": "2024-11-15T07:07:13.252Z"
   },
   {
    "duration": 13,
    "start_time": "2024-11-15T07:07:13.255Z"
   },
   {
    "duration": 19,
    "start_time": "2024-11-15T07:07:13.269Z"
   },
   {
    "duration": 26,
    "start_time": "2024-11-15T07:07:13.289Z"
   },
   {
    "duration": 6,
    "start_time": "2024-11-15T07:07:13.317Z"
   },
   {
    "duration": 17,
    "start_time": "2024-11-15T07:07:13.324Z"
   },
   {
    "duration": 17,
    "start_time": "2024-11-15T07:07:13.342Z"
   },
   {
    "duration": 9,
    "start_time": "2024-11-15T07:07:13.361Z"
   },
   {
    "duration": 14,
    "start_time": "2024-11-15T07:07:13.371Z"
   },
   {
    "duration": 2,
    "start_time": "2024-11-15T07:07:13.388Z"
   },
   {
    "duration": 3,
    "start_time": "2024-11-15T07:07:13.411Z"
   },
   {
    "duration": 7,
    "start_time": "2024-11-15T07:07:13.415Z"
   },
   {
    "duration": 8,
    "start_time": "2024-11-15T07:07:13.423Z"
   },
   {
    "duration": 163,
    "start_time": "2024-11-15T07:07:13.432Z"
   },
   {
    "duration": 5,
    "start_time": "2024-11-15T07:07:13.597Z"
   },
   {
    "duration": 220,
    "start_time": "2024-11-15T07:07:13.604Z"
   },
   {
    "duration": 12,
    "start_time": "2024-11-15T07:07:13.825Z"
   },
   {
    "duration": 292,
    "start_time": "2024-11-15T07:07:13.838Z"
   },
   {
    "duration": 19,
    "start_time": "2024-11-15T07:07:14.132Z"
   },
   {
    "duration": 474,
    "start_time": "2024-11-15T07:07:14.153Z"
   },
   {
    "duration": 154,
    "start_time": "2024-11-15T07:07:14.628Z"
   },
   {
    "duration": 361,
    "start_time": "2024-11-15T07:07:14.783Z"
   },
   {
    "duration": 125,
    "start_time": "2024-11-15T07:07:15.145Z"
   },
   {
    "duration": 12445,
    "start_time": "2024-11-15T07:07:15.271Z"
   },
   {
    "duration": 14,
    "start_time": "2024-11-15T07:07:27.717Z"
   },
   {
    "duration": 941,
    "start_time": "2024-11-15T07:07:27.733Z"
   },
   {
    "duration": 10,
    "start_time": "2024-11-15T07:07:28.676Z"
   },
   {
    "duration": 531,
    "start_time": "2024-11-15T07:07:28.687Z"
   },
   {
    "duration": 9,
    "start_time": "2024-11-15T07:07:29.220Z"
   },
   {
    "duration": 0,
    "start_time": "2024-11-15T07:07:29.230Z"
   },
   {
    "duration": 0,
    "start_time": "2024-11-15T07:07:29.231Z"
   },
   {
    "duration": 0,
    "start_time": "2024-11-15T07:07:29.232Z"
   },
   {
    "duration": 0,
    "start_time": "2024-11-15T07:07:29.233Z"
   },
   {
    "duration": 0,
    "start_time": "2024-11-15T07:07:29.234Z"
   },
   {
    "duration": 0,
    "start_time": "2024-11-15T07:07:29.235Z"
   },
   {
    "duration": 0,
    "start_time": "2024-11-15T07:07:29.236Z"
   },
   {
    "duration": 0,
    "start_time": "2024-11-15T07:07:29.237Z"
   },
   {
    "duration": 0,
    "start_time": "2024-11-15T07:07:29.237Z"
   },
   {
    "duration": 9,
    "start_time": "2024-11-15T07:08:04.172Z"
   },
   {
    "duration": 6,
    "start_time": "2024-11-15T07:11:17.413Z"
   },
   {
    "duration": 104,
    "start_time": "2024-11-15T07:11:18.133Z"
   },
   {
    "duration": 5,
    "start_time": "2024-11-15T07:11:29.362Z"
   },
   {
    "duration": 4,
    "start_time": "2024-11-15T07:11:29.771Z"
   },
   {
    "duration": 230,
    "start_time": "2024-11-15T07:11:30.772Z"
   },
   {
    "duration": 4,
    "start_time": "2024-11-15T07:11:31.901Z"
   },
   {
    "duration": 13,
    "start_time": "2024-11-15T07:11:32.702Z"
   },
   {
    "duration": 289,
    "start_time": "2024-11-15T07:11:32.926Z"
   },
   {
    "duration": 7,
    "start_time": "2024-11-15T07:11:33.488Z"
   },
   {
    "duration": 223,
    "start_time": "2024-11-15T07:11:33.728Z"
   },
   {
    "duration": 228,
    "start_time": "2024-11-15T07:12:23.591Z"
   },
   {
    "duration": 5,
    "start_time": "2024-11-15T07:12:26.162Z"
   },
   {
    "duration": 15,
    "start_time": "2024-11-15T07:12:27.341Z"
   },
   {
    "duration": 302,
    "start_time": "2024-11-15T07:12:28.352Z"
   },
   {
    "duration": 9,
    "start_time": "2024-11-15T07:12:28.860Z"
   },
   {
    "duration": 12,
    "start_time": "2024-11-15T07:12:37.602Z"
   },
   {
    "duration": 188,
    "start_time": "2024-11-15T07:13:21.832Z"
   },
   {
    "duration": 183,
    "start_time": "2024-11-15T07:13:38.382Z"
   },
   {
    "duration": 474,
    "start_time": "2024-11-15T07:13:53.632Z"
   },
   {
    "duration": 286,
    "start_time": "2024-11-15T07:14:19.482Z"
   },
   {
    "duration": 7,
    "start_time": "2024-11-15T07:14:19.934Z"
   },
   {
    "duration": 221,
    "start_time": "2024-11-15T07:14:20.542Z"
   },
   {
    "duration": 310,
    "start_time": "2024-11-15T07:18:22.151Z"
   },
   {
    "duration": 3,
    "start_time": "2024-11-15T07:25:17.272Z"
   },
   {
    "duration": 6,
    "start_time": "2024-11-15T07:25:44.288Z"
   },
   {
    "duration": 5,
    "start_time": "2024-11-15T07:27:03.312Z"
   },
   {
    "duration": 11,
    "start_time": "2024-11-15T07:27:30.483Z"
   },
   {
    "duration": 3,
    "start_time": "2024-11-15T07:27:41.228Z"
   },
   {
    "duration": 60,
    "start_time": "2024-11-15T07:27:41.238Z"
   },
   {
    "duration": 13,
    "start_time": "2024-11-15T07:27:41.299Z"
   },
   {
    "duration": 18,
    "start_time": "2024-11-15T07:27:41.313Z"
   },
   {
    "duration": 3,
    "start_time": "2024-11-15T07:27:41.332Z"
   },
   {
    "duration": 12,
    "start_time": "2024-11-15T07:27:41.337Z"
   },
   {
    "duration": 16,
    "start_time": "2024-11-15T07:27:41.351Z"
   },
   {
    "duration": 8,
    "start_time": "2024-11-15T07:27:41.368Z"
   },
   {
    "duration": 36,
    "start_time": "2024-11-15T07:27:41.378Z"
   },
   {
    "duration": 13,
    "start_time": "2024-11-15T07:27:41.416Z"
   },
   {
    "duration": 27,
    "start_time": "2024-11-15T07:27:41.430Z"
   },
   {
    "duration": 15,
    "start_time": "2024-11-15T07:27:41.459Z"
   },
   {
    "duration": 15,
    "start_time": "2024-11-15T07:27:41.475Z"
   },
   {
    "duration": 11,
    "start_time": "2024-11-15T07:27:41.491Z"
   },
   {
    "duration": 2,
    "start_time": "2024-11-15T07:27:41.505Z"
   },
   {
    "duration": 3,
    "start_time": "2024-11-15T07:27:41.511Z"
   },
   {
    "duration": 12,
    "start_time": "2024-11-15T07:27:41.515Z"
   },
   {
    "duration": 186,
    "start_time": "2024-11-15T07:27:41.529Z"
   },
   {
    "duration": 5,
    "start_time": "2024-11-15T07:27:41.717Z"
   },
   {
    "duration": 254,
    "start_time": "2024-11-15T07:27:41.724Z"
   },
   {
    "duration": 9,
    "start_time": "2024-11-15T07:27:41.980Z"
   },
   {
    "duration": 240,
    "start_time": "2024-11-15T07:27:41.991Z"
   },
   {
    "duration": 17,
    "start_time": "2024-11-15T07:27:42.232Z"
   },
   {
    "duration": 438,
    "start_time": "2024-11-15T07:27:42.250Z"
   },
   {
    "duration": 146,
    "start_time": "2024-11-15T07:27:42.689Z"
   },
   {
    "duration": 404,
    "start_time": "2024-11-15T07:27:42.836Z"
   },
   {
    "duration": 127,
    "start_time": "2024-11-15T07:27:43.242Z"
   },
   {
    "duration": 12783,
    "start_time": "2024-11-15T07:27:43.371Z"
   },
   {
    "duration": 20,
    "start_time": "2024-11-15T07:27:56.156Z"
   },
   {
    "duration": 1033,
    "start_time": "2024-11-15T07:27:56.178Z"
   },
   {
    "duration": 11,
    "start_time": "2024-11-15T07:27:57.212Z"
   },
   {
    "duration": 509,
    "start_time": "2024-11-15T07:27:57.225Z"
   },
   {
    "duration": 6,
    "start_time": "2024-11-15T07:27:57.736Z"
   },
   {
    "duration": 126,
    "start_time": "2024-11-15T07:27:57.743Z"
   },
   {
    "duration": 4,
    "start_time": "2024-11-15T07:27:57.870Z"
   },
   {
    "duration": 73,
    "start_time": "2024-11-15T07:27:57.876Z"
   },
   {
    "duration": 251,
    "start_time": "2024-11-15T07:27:57.951Z"
   },
   {
    "duration": 9,
    "start_time": "2024-11-15T07:27:58.203Z"
   },
   {
    "duration": 191,
    "start_time": "2024-11-15T07:27:58.213Z"
   },
   {
    "duration": 7,
    "start_time": "2024-11-15T07:27:58.412Z"
   },
   {
    "duration": 233,
    "start_time": "2024-11-15T07:27:58.421Z"
   },
   {
    "duration": 3,
    "start_time": "2024-11-15T07:27:58.658Z"
   },
   {
    "duration": 12,
    "start_time": "2024-11-15T07:27:58.662Z"
   },
   {
    "duration": 4,
    "start_time": "2024-11-15T07:27:58.675Z"
   },
   {
    "duration": 10,
    "start_time": "2024-11-15T07:27:58.681Z"
   },
   {
    "duration": 5,
    "start_time": "2024-11-15T07:30:57.649Z"
   },
   {
    "duration": 12,
    "start_time": "2024-11-15T07:30:58.025Z"
   },
   {
    "duration": 38,
    "start_time": "2024-11-15T07:31:13.712Z"
   },
   {
    "duration": 38,
    "start_time": "2024-11-15T07:31:29.210Z"
   },
   {
    "duration": 480,
    "start_time": "2024-11-15T07:31:48.157Z"
   },
   {
    "duration": 77,
    "start_time": "2024-11-15T07:34:00.629Z"
   },
   {
    "duration": 69,
    "start_time": "2024-11-15T07:52:32.910Z"
   },
   {
    "duration": 3,
    "start_time": "2024-11-15T07:55:04.860Z"
   },
   {
    "duration": 64,
    "start_time": "2024-11-15T07:55:04.871Z"
   },
   {
    "duration": 18,
    "start_time": "2024-11-15T07:55:04.937Z"
   },
   {
    "duration": 28,
    "start_time": "2024-11-15T07:55:04.956Z"
   },
   {
    "duration": 5,
    "start_time": "2024-11-15T07:55:04.986Z"
   },
   {
    "duration": 31,
    "start_time": "2024-11-15T07:55:04.993Z"
   },
   {
    "duration": 22,
    "start_time": "2024-11-15T07:55:05.025Z"
   },
   {
    "duration": 11,
    "start_time": "2024-11-15T07:55:05.048Z"
   },
   {
    "duration": 21,
    "start_time": "2024-11-15T07:55:05.060Z"
   },
   {
    "duration": 15,
    "start_time": "2024-11-15T07:55:05.082Z"
   },
   {
    "duration": 26,
    "start_time": "2024-11-15T07:55:05.099Z"
   },
   {
    "duration": 15,
    "start_time": "2024-11-15T07:55:05.126Z"
   },
   {
    "duration": 32,
    "start_time": "2024-11-15T07:55:05.142Z"
   },
   {
    "duration": 23,
    "start_time": "2024-11-15T07:55:05.177Z"
   },
   {
    "duration": 14,
    "start_time": "2024-11-15T07:55:05.203Z"
   },
   {
    "duration": 33,
    "start_time": "2024-11-15T07:55:05.219Z"
   },
   {
    "duration": 12,
    "start_time": "2024-11-15T07:55:05.254Z"
   },
   {
    "duration": 191,
    "start_time": "2024-11-15T07:55:05.267Z"
   },
   {
    "duration": 7,
    "start_time": "2024-11-15T07:55:05.461Z"
   },
   {
    "duration": 264,
    "start_time": "2024-11-15T07:55:05.470Z"
   },
   {
    "duration": 12,
    "start_time": "2024-11-15T07:55:05.736Z"
   },
   {
    "duration": 262,
    "start_time": "2024-11-15T07:55:05.750Z"
   },
   {
    "duration": 20,
    "start_time": "2024-11-15T07:55:06.013Z"
   },
   {
    "duration": 551,
    "start_time": "2024-11-15T07:55:06.035Z"
   },
   {
    "duration": 148,
    "start_time": "2024-11-15T07:55:06.587Z"
   },
   {
    "duration": 397,
    "start_time": "2024-11-15T07:55:06.736Z"
   },
   {
    "duration": 133,
    "start_time": "2024-11-15T07:55:07.135Z"
   },
   {
    "duration": 13234,
    "start_time": "2024-11-15T07:55:07.269Z"
   },
   {
    "duration": 18,
    "start_time": "2024-11-15T07:55:20.505Z"
   },
   {
    "duration": 955,
    "start_time": "2024-11-15T07:55:20.525Z"
   },
   {
    "duration": 15,
    "start_time": "2024-11-15T07:55:21.482Z"
   },
   {
    "duration": 539,
    "start_time": "2024-11-15T07:55:21.498Z"
   },
   {
    "duration": 5,
    "start_time": "2024-11-15T07:55:22.039Z"
   },
   {
    "duration": 106,
    "start_time": "2024-11-15T07:55:22.046Z"
   },
   {
    "duration": 4,
    "start_time": "2024-11-15T07:55:22.154Z"
   },
   {
    "duration": 6,
    "start_time": "2024-11-15T07:55:22.159Z"
   },
   {
    "duration": 255,
    "start_time": "2024-11-15T07:55:22.167Z"
   },
   {
    "duration": 4,
    "start_time": "2024-11-15T07:55:22.423Z"
   },
   {
    "duration": 198,
    "start_time": "2024-11-15T07:55:22.428Z"
   },
   {
    "duration": 7,
    "start_time": "2024-11-15T07:55:22.628Z"
   },
   {
    "duration": 247,
    "start_time": "2024-11-15T07:55:22.636Z"
   },
   {
    "duration": 4,
    "start_time": "2024-11-15T07:55:22.886Z"
   },
   {
    "duration": 40,
    "start_time": "2024-11-15T07:55:22.891Z"
   },
   {
    "duration": 14,
    "start_time": "2024-11-15T07:55:22.933Z"
   },
   {
    "duration": 113,
    "start_time": "2024-11-15T07:55:22.948Z"
   },
   {
    "duration": 67,
    "start_time": "2024-11-15T07:55:23.062Z"
   },
   {
    "duration": 81,
    "start_time": "2024-11-15T08:46:47.054Z"
   },
   {
    "duration": 4,
    "start_time": "2024-11-15T08:54:20.753Z"
   },
   {
    "duration": 2,
    "start_time": "2024-11-15T09:22:46.553Z"
   },
   {
    "duration": 72,
    "start_time": "2024-11-15T09:22:46.559Z"
   },
   {
    "duration": 13,
    "start_time": "2024-11-15T09:22:46.633Z"
   },
   {
    "duration": 24,
    "start_time": "2024-11-15T09:22:46.647Z"
   },
   {
    "duration": 3,
    "start_time": "2024-11-15T09:22:46.672Z"
   },
   {
    "duration": 20,
    "start_time": "2024-11-15T09:22:46.677Z"
   },
   {
    "duration": 14,
    "start_time": "2024-11-15T09:22:46.699Z"
   },
   {
    "duration": 14,
    "start_time": "2024-11-15T09:22:46.714Z"
   },
   {
    "duration": 13,
    "start_time": "2024-11-15T09:22:46.729Z"
   },
   {
    "duration": 13,
    "start_time": "2024-11-15T09:22:46.743Z"
   },
   {
    "duration": 27,
    "start_time": "2024-11-15T09:22:46.757Z"
   },
   {
    "duration": 12,
    "start_time": "2024-11-15T09:22:46.785Z"
   },
   {
    "duration": 18,
    "start_time": "2024-11-15T09:22:46.798Z"
   },
   {
    "duration": 4,
    "start_time": "2024-11-15T09:22:46.817Z"
   },
   {
    "duration": 3,
    "start_time": "2024-11-15T09:22:46.823Z"
   },
   {
    "duration": 12,
    "start_time": "2024-11-15T09:22:46.828Z"
   },
   {
    "duration": 4,
    "start_time": "2024-11-15T09:22:46.841Z"
   },
   {
    "duration": 203,
    "start_time": "2024-11-15T09:22:46.846Z"
   },
   {
    "duration": 8,
    "start_time": "2024-11-15T09:22:47.051Z"
   },
   {
    "duration": 250,
    "start_time": "2024-11-15T09:22:47.061Z"
   },
   {
    "duration": 12,
    "start_time": "2024-11-15T09:22:47.313Z"
   },
   {
    "duration": 246,
    "start_time": "2024-11-15T09:22:47.326Z"
   },
   {
    "duration": 19,
    "start_time": "2024-11-15T09:22:47.573Z"
   },
   {
    "duration": 482,
    "start_time": "2024-11-15T09:22:47.593Z"
   },
   {
    "duration": 149,
    "start_time": "2024-11-15T09:22:48.077Z"
   },
   {
    "duration": 408,
    "start_time": "2024-11-15T09:22:48.228Z"
   },
   {
    "duration": 120,
    "start_time": "2024-11-15T09:22:48.637Z"
   },
   {
    "duration": 12645,
    "start_time": "2024-11-15T09:22:48.758Z"
   },
   {
    "duration": 21,
    "start_time": "2024-11-15T09:23:01.404Z"
   },
   {
    "duration": 965,
    "start_time": "2024-11-15T09:23:01.426Z"
   },
   {
    "duration": 10,
    "start_time": "2024-11-15T09:23:02.392Z"
   },
   {
    "duration": 516,
    "start_time": "2024-11-15T09:23:02.412Z"
   },
   {
    "duration": 6,
    "start_time": "2024-11-15T09:23:02.929Z"
   },
   {
    "duration": 121,
    "start_time": "2024-11-15T09:23:02.936Z"
   },
   {
    "duration": 5,
    "start_time": "2024-11-15T09:23:03.058Z"
   },
   {
    "duration": 29,
    "start_time": "2024-11-15T09:23:03.064Z"
   },
   {
    "duration": 267,
    "start_time": "2024-11-15T09:23:03.095Z"
   },
   {
    "duration": 4,
    "start_time": "2024-11-15T09:23:03.364Z"
   },
   {
    "duration": 194,
    "start_time": "2024-11-15T09:23:03.369Z"
   },
   {
    "duration": 7,
    "start_time": "2024-11-15T09:23:03.564Z"
   },
   {
    "duration": 235,
    "start_time": "2024-11-15T09:23:03.572Z"
   },
   {
    "duration": 4,
    "start_time": "2024-11-15T09:23:03.811Z"
   },
   {
    "duration": 27,
    "start_time": "2024-11-15T09:23:03.816Z"
   },
   {
    "duration": 12,
    "start_time": "2024-11-15T09:23:03.844Z"
   },
   {
    "duration": 101,
    "start_time": "2024-11-15T09:23:03.857Z"
   },
   {
    "duration": 3,
    "start_time": "2024-11-15T09:23:40.932Z"
   },
   {
    "duration": 60,
    "start_time": "2024-11-15T09:23:40.938Z"
   },
   {
    "duration": 13,
    "start_time": "2024-11-15T09:23:40.999Z"
   },
   {
    "duration": 23,
    "start_time": "2024-11-15T09:23:41.013Z"
   },
   {
    "duration": 3,
    "start_time": "2024-11-15T09:23:41.037Z"
   },
   {
    "duration": 19,
    "start_time": "2024-11-15T09:23:41.041Z"
   },
   {
    "duration": 14,
    "start_time": "2024-11-15T09:23:41.061Z"
   },
   {
    "duration": 6,
    "start_time": "2024-11-15T09:23:41.077Z"
   },
   {
    "duration": 14,
    "start_time": "2024-11-15T09:23:41.084Z"
   },
   {
    "duration": 22,
    "start_time": "2024-11-15T09:23:41.100Z"
   },
   {
    "duration": 24,
    "start_time": "2024-11-15T09:23:41.123Z"
   },
   {
    "duration": 10,
    "start_time": "2024-11-15T09:23:41.149Z"
   },
   {
    "duration": 14,
    "start_time": "2024-11-15T09:23:41.161Z"
   },
   {
    "duration": 4,
    "start_time": "2024-11-15T09:23:41.177Z"
   },
   {
    "duration": 28,
    "start_time": "2024-11-15T09:23:41.185Z"
   },
   {
    "duration": 5,
    "start_time": "2024-11-15T09:23:41.214Z"
   },
   {
    "duration": 4,
    "start_time": "2024-11-15T09:23:41.220Z"
   },
   {
    "duration": 177,
    "start_time": "2024-11-15T09:23:41.226Z"
   },
   {
    "duration": 10,
    "start_time": "2024-11-15T09:23:41.404Z"
   },
   {
    "duration": 228,
    "start_time": "2024-11-15T09:23:41.416Z"
   },
   {
    "duration": 10,
    "start_time": "2024-11-15T09:23:41.646Z"
   },
   {
    "duration": 247,
    "start_time": "2024-11-15T09:23:41.657Z"
   },
   {
    "duration": 20,
    "start_time": "2024-11-15T09:23:41.906Z"
   },
   {
    "duration": 468,
    "start_time": "2024-11-15T09:23:41.927Z"
   },
   {
    "duration": 165,
    "start_time": "2024-11-15T09:23:42.396Z"
   },
   {
    "duration": 411,
    "start_time": "2024-11-15T09:23:42.563Z"
   },
   {
    "duration": 120,
    "start_time": "2024-11-15T09:23:42.975Z"
   },
   {
    "duration": 13081,
    "start_time": "2024-11-15T09:23:43.096Z"
   },
   {
    "duration": 34,
    "start_time": "2024-11-15T09:23:56.178Z"
   },
   {
    "duration": 982,
    "start_time": "2024-11-15T09:23:56.214Z"
   },
   {
    "duration": 15,
    "start_time": "2024-11-15T09:23:57.198Z"
   },
   {
    "duration": 519,
    "start_time": "2024-11-15T09:23:57.214Z"
   },
   {
    "duration": 6,
    "start_time": "2024-11-15T09:23:57.734Z"
   },
   {
    "duration": 111,
    "start_time": "2024-11-15T09:23:57.741Z"
   },
   {
    "duration": 4,
    "start_time": "2024-11-15T09:23:57.854Z"
   },
   {
    "duration": 7,
    "start_time": "2024-11-15T09:23:57.859Z"
   },
   {
    "duration": 255,
    "start_time": "2024-11-15T09:23:57.867Z"
   },
   {
    "duration": 4,
    "start_time": "2024-11-15T09:23:58.123Z"
   },
   {
    "duration": 233,
    "start_time": "2024-11-15T09:23:58.128Z"
   },
   {
    "duration": 7,
    "start_time": "2024-11-15T09:23:58.362Z"
   },
   {
    "duration": 238,
    "start_time": "2024-11-15T09:23:58.371Z"
   },
   {
    "duration": 4,
    "start_time": "2024-11-15T09:23:58.614Z"
   },
   {
    "duration": 8,
    "start_time": "2024-11-15T09:23:58.619Z"
   },
   {
    "duration": 6,
    "start_time": "2024-11-15T09:23:58.628Z"
   },
   {
    "duration": 108,
    "start_time": "2024-11-15T09:23:58.635Z"
   },
   {
    "duration": 7,
    "start_time": "2024-11-15T09:30:33.413Z"
   },
   {
    "duration": 226,
    "start_time": "2024-11-15T09:30:34.491Z"
   },
   {
    "duration": 190,
    "start_time": "2024-11-15T09:31:10.101Z"
   },
   {
    "duration": 8,
    "start_time": "2024-11-15T09:31:10.588Z"
   },
   {
    "duration": 231,
    "start_time": "2024-11-15T09:31:11.223Z"
   },
   {
    "duration": 210,
    "start_time": "2024-11-15T09:32:26.483Z"
   },
   {
    "duration": 17,
    "start_time": "2024-11-15T09:32:26.695Z"
   },
   {
    "duration": 233,
    "start_time": "2024-11-15T09:32:26.843Z"
   },
   {
    "duration": 4,
    "start_time": "2024-11-15T09:32:29.301Z"
   },
   {
    "duration": 7,
    "start_time": "2024-11-15T09:33:09.188Z"
   },
   {
    "duration": 20,
    "start_time": "2024-11-15T09:33:09.824Z"
   },
   {
    "duration": 3,
    "start_time": "2024-11-15T09:33:15.299Z"
   },
   {
    "duration": 73,
    "start_time": "2024-11-15T09:33:15.306Z"
   },
   {
    "duration": 14,
    "start_time": "2024-11-15T09:33:15.381Z"
   },
   {
    "duration": 24,
    "start_time": "2024-11-15T09:33:15.396Z"
   },
   {
    "duration": 3,
    "start_time": "2024-11-15T09:33:15.422Z"
   },
   {
    "duration": 19,
    "start_time": "2024-11-15T09:33:15.427Z"
   },
   {
    "duration": 18,
    "start_time": "2024-11-15T09:33:15.448Z"
   },
   {
    "duration": 8,
    "start_time": "2024-11-15T09:33:15.468Z"
   },
   {
    "duration": 7,
    "start_time": "2024-11-15T09:33:15.477Z"
   },
   {
    "duration": 36,
    "start_time": "2024-11-15T09:33:15.485Z"
   },
   {
    "duration": 15,
    "start_time": "2024-11-15T09:33:15.523Z"
   },
   {
    "duration": 22,
    "start_time": "2024-11-15T09:33:15.539Z"
   },
   {
    "duration": 14,
    "start_time": "2024-11-15T09:33:15.562Z"
   },
   {
    "duration": 15,
    "start_time": "2024-11-15T09:33:15.577Z"
   },
   {
    "duration": 8,
    "start_time": "2024-11-15T09:33:15.594Z"
   },
   {
    "duration": 15,
    "start_time": "2024-11-15T09:33:15.603Z"
   },
   {
    "duration": 21,
    "start_time": "2024-11-15T09:33:15.619Z"
   },
   {
    "duration": 170,
    "start_time": "2024-11-15T09:33:15.642Z"
   },
   {
    "duration": 6,
    "start_time": "2024-11-15T09:33:15.813Z"
   },
   {
    "duration": 232,
    "start_time": "2024-11-15T09:33:15.820Z"
   },
   {
    "duration": 10,
    "start_time": "2024-11-15T09:33:16.054Z"
   },
   {
    "duration": 251,
    "start_time": "2024-11-15T09:33:16.065Z"
   },
   {
    "duration": 20,
    "start_time": "2024-11-15T09:33:16.317Z"
   },
   {
    "duration": 525,
    "start_time": "2024-11-15T09:33:16.338Z"
   },
   {
    "duration": 153,
    "start_time": "2024-11-15T09:33:16.865Z"
   },
   {
    "duration": 409,
    "start_time": "2024-11-15T09:33:17.020Z"
   },
   {
    "duration": 121,
    "start_time": "2024-11-15T09:33:17.430Z"
   },
   {
    "duration": 12390,
    "start_time": "2024-11-15T09:33:17.552Z"
   },
   {
    "duration": 16,
    "start_time": "2024-11-15T09:33:29.943Z"
   },
   {
    "duration": 1813,
    "start_time": "2024-11-15T09:33:29.960Z"
   },
   {
    "duration": 14,
    "start_time": "2024-11-15T09:33:31.774Z"
   },
   {
    "duration": 522,
    "start_time": "2024-11-15T09:33:31.790Z"
   },
   {
    "duration": 6,
    "start_time": "2024-11-15T09:33:32.313Z"
   },
   {
    "duration": 132,
    "start_time": "2024-11-15T09:33:32.320Z"
   },
   {
    "duration": 5,
    "start_time": "2024-11-15T09:33:32.454Z"
   },
   {
    "duration": 19,
    "start_time": "2024-11-15T09:33:32.461Z"
   },
   {
    "duration": 246,
    "start_time": "2024-11-15T09:33:32.482Z"
   },
   {
    "duration": 4,
    "start_time": "2024-11-15T09:33:32.730Z"
   },
   {
    "duration": 206,
    "start_time": "2024-11-15T09:33:32.736Z"
   },
   {
    "duration": 7,
    "start_time": "2024-11-15T09:33:32.943Z"
   },
   {
    "duration": 27,
    "start_time": "2024-11-15T09:33:32.952Z"
   },
   {
    "duration": 0,
    "start_time": "2024-11-15T09:33:32.981Z"
   },
   {
    "duration": 0,
    "start_time": "2024-11-15T09:33:32.982Z"
   },
   {
    "duration": 0,
    "start_time": "2024-11-15T09:33:32.983Z"
   },
   {
    "duration": 0,
    "start_time": "2024-11-15T09:33:32.984Z"
   },
   {
    "duration": 225,
    "start_time": "2024-11-15T09:34:04.403Z"
   },
   {
    "duration": 3,
    "start_time": "2024-11-15T09:34:16.052Z"
   },
   {
    "duration": 57,
    "start_time": "2024-11-15T09:34:16.057Z"
   },
   {
    "duration": 13,
    "start_time": "2024-11-15T09:34:16.115Z"
   },
   {
    "duration": 13,
    "start_time": "2024-11-15T09:34:16.129Z"
   },
   {
    "duration": 3,
    "start_time": "2024-11-15T09:34:16.143Z"
   },
   {
    "duration": 16,
    "start_time": "2024-11-15T09:34:16.147Z"
   },
   {
    "duration": 15,
    "start_time": "2024-11-15T09:34:16.164Z"
   },
   {
    "duration": 7,
    "start_time": "2024-11-15T09:34:16.180Z"
   },
   {
    "duration": 27,
    "start_time": "2024-11-15T09:34:16.188Z"
   },
   {
    "duration": 16,
    "start_time": "2024-11-15T09:34:16.216Z"
   },
   {
    "duration": 14,
    "start_time": "2024-11-15T09:34:16.234Z"
   },
   {
    "duration": 17,
    "start_time": "2024-11-15T09:34:16.250Z"
   },
   {
    "duration": 14,
    "start_time": "2024-11-15T09:34:16.268Z"
   },
   {
    "duration": 3,
    "start_time": "2024-11-15T09:34:16.286Z"
   },
   {
    "duration": 5,
    "start_time": "2024-11-15T09:34:16.290Z"
   },
   {
    "duration": 4,
    "start_time": "2024-11-15T09:34:16.311Z"
   },
   {
    "duration": 5,
    "start_time": "2024-11-15T09:34:16.316Z"
   },
   {
    "duration": 180,
    "start_time": "2024-11-15T09:34:16.323Z"
   },
   {
    "duration": 7,
    "start_time": "2024-11-15T09:34:16.505Z"
   },
   {
    "duration": 234,
    "start_time": "2024-11-15T09:34:16.513Z"
   },
   {
    "duration": 11,
    "start_time": "2024-11-15T09:34:16.748Z"
   },
   {
    "duration": 245,
    "start_time": "2024-11-15T09:34:16.760Z"
   },
   {
    "duration": 25,
    "start_time": "2024-11-15T09:34:17.007Z"
   },
   {
    "duration": 462,
    "start_time": "2024-11-15T09:34:17.034Z"
   },
   {
    "duration": 144,
    "start_time": "2024-11-15T09:34:17.498Z"
   },
   {
    "duration": 384,
    "start_time": "2024-11-15T09:34:17.644Z"
   },
   {
    "duration": 122,
    "start_time": "2024-11-15T09:34:18.029Z"
   },
   {
    "duration": 12136,
    "start_time": "2024-11-15T09:34:18.152Z"
   },
   {
    "duration": 34,
    "start_time": "2024-11-15T09:34:30.289Z"
   },
   {
    "duration": 1048,
    "start_time": "2024-11-15T09:34:30.325Z"
   },
   {
    "duration": 11,
    "start_time": "2024-11-15T09:34:31.374Z"
   },
   {
    "duration": 525,
    "start_time": "2024-11-15T09:34:31.387Z"
   },
   {
    "duration": 6,
    "start_time": "2024-11-15T09:34:31.913Z"
   },
   {
    "duration": 109,
    "start_time": "2024-11-15T09:34:31.920Z"
   },
   {
    "duration": 4,
    "start_time": "2024-11-15T09:34:32.030Z"
   },
   {
    "duration": 19,
    "start_time": "2024-11-15T09:34:32.036Z"
   },
   {
    "duration": 246,
    "start_time": "2024-11-15T09:34:32.057Z"
   },
   {
    "duration": 7,
    "start_time": "2024-11-15T09:34:32.305Z"
   },
   {
    "duration": 208,
    "start_time": "2024-11-15T09:34:32.313Z"
   },
   {
    "duration": 7,
    "start_time": "2024-11-15T09:34:32.522Z"
   },
   {
    "duration": 263,
    "start_time": "2024-11-15T09:34:32.532Z"
   },
   {
    "duration": 4,
    "start_time": "2024-11-15T09:34:32.796Z"
   },
   {
    "duration": 33,
    "start_time": "2024-11-15T09:34:32.801Z"
   },
   {
    "duration": 10,
    "start_time": "2024-11-15T09:34:32.835Z"
   },
   {
    "duration": 124,
    "start_time": "2024-11-15T09:34:32.846Z"
   },
   {
    "duration": 3,
    "start_time": "2024-11-15T09:40:36.843Z"
   },
   {
    "duration": 55,
    "start_time": "2024-11-15T09:40:38.262Z"
   },
   {
    "duration": 14,
    "start_time": "2024-11-15T09:40:38.684Z"
   },
   {
    "duration": 12,
    "start_time": "2024-11-15T09:40:39.811Z"
   },
   {
    "duration": 3,
    "start_time": "2024-11-15T09:40:41.531Z"
   },
   {
    "duration": 12,
    "start_time": "2024-11-15T09:40:41.992Z"
   },
   {
    "duration": 16,
    "start_time": "2024-11-15T09:40:42.540Z"
   },
   {
    "duration": 7,
    "start_time": "2024-11-15T09:40:44.332Z"
   },
   {
    "duration": 7,
    "start_time": "2024-11-15T09:40:45.305Z"
   },
   {
    "duration": 13,
    "start_time": "2024-11-15T09:40:45.484Z"
   },
   {
    "duration": 3,
    "start_time": "2024-11-15T09:40:47.828Z"
   },
   {
    "duration": 57,
    "start_time": "2024-11-15T09:40:47.837Z"
   },
   {
    "duration": 13,
    "start_time": "2024-11-15T09:40:47.896Z"
   },
   {
    "duration": 13,
    "start_time": "2024-11-15T09:40:47.911Z"
   },
   {
    "duration": 3,
    "start_time": "2024-11-15T09:40:47.925Z"
   },
   {
    "duration": 12,
    "start_time": "2024-11-15T09:40:47.930Z"
   },
   {
    "duration": 15,
    "start_time": "2024-11-15T09:40:47.944Z"
   },
   {
    "duration": 7,
    "start_time": "2024-11-15T09:40:47.960Z"
   },
   {
    "duration": 7,
    "start_time": "2024-11-15T09:40:47.968Z"
   },
   {
    "duration": 47,
    "start_time": "2024-11-15T09:40:47.976Z"
   },
   {
    "duration": 15,
    "start_time": "2024-11-15T09:40:48.024Z"
   },
   {
    "duration": 9,
    "start_time": "2024-11-15T09:40:48.041Z"
   },
   {
    "duration": 17,
    "start_time": "2024-11-15T09:40:48.052Z"
   },
   {
    "duration": 3,
    "start_time": "2024-11-15T09:40:48.071Z"
   },
   {
    "duration": 2,
    "start_time": "2024-11-15T09:40:48.077Z"
   },
   {
    "duration": 9,
    "start_time": "2024-11-15T09:40:48.081Z"
   },
   {
    "duration": 23,
    "start_time": "2024-11-15T09:40:48.091Z"
   },
   {
    "duration": 190,
    "start_time": "2024-11-15T09:40:48.115Z"
   },
   {
    "duration": 8,
    "start_time": "2024-11-15T09:40:48.306Z"
   },
   {
    "duration": 226,
    "start_time": "2024-11-15T09:40:48.316Z"
   },
   {
    "duration": 10,
    "start_time": "2024-11-15T09:40:48.543Z"
   },
   {
    "duration": 242,
    "start_time": "2024-11-15T09:40:48.555Z"
   },
   {
    "duration": 20,
    "start_time": "2024-11-15T09:40:48.799Z"
   },
   {
    "duration": 466,
    "start_time": "2024-11-15T09:40:48.820Z"
   },
   {
    "duration": 151,
    "start_time": "2024-11-15T09:40:49.287Z"
   },
   {
    "duration": 379,
    "start_time": "2024-11-15T09:40:49.439Z"
   },
   {
    "duration": 121,
    "start_time": "2024-11-15T09:40:49.819Z"
   },
   {
    "duration": 13047,
    "start_time": "2024-11-15T09:40:49.941Z"
   },
   {
    "duration": 30,
    "start_time": "2024-11-15T09:41:02.990Z"
   },
   {
    "duration": 1034,
    "start_time": "2024-11-15T09:41:03.021Z"
   },
   {
    "duration": 10,
    "start_time": "2024-11-15T09:41:04.057Z"
   },
   {
    "duration": 549,
    "start_time": "2024-11-15T09:41:04.068Z"
   },
   {
    "duration": 5,
    "start_time": "2024-11-15T09:41:04.619Z"
   },
   {
    "duration": 125,
    "start_time": "2024-11-15T09:41:04.625Z"
   },
   {
    "duration": 4,
    "start_time": "2024-11-15T09:41:04.752Z"
   },
   {
    "duration": 20,
    "start_time": "2024-11-15T09:41:04.757Z"
   },
   {
    "duration": 257,
    "start_time": "2024-11-15T09:41:04.778Z"
   },
   {
    "duration": 4,
    "start_time": "2024-11-15T09:41:05.036Z"
   },
   {
    "duration": 206,
    "start_time": "2024-11-15T09:41:05.041Z"
   },
   {
    "duration": 7,
    "start_time": "2024-11-15T09:41:05.248Z"
   },
   {
    "duration": 238,
    "start_time": "2024-11-15T09:41:05.256Z"
   },
   {
    "duration": 4,
    "start_time": "2024-11-15T09:41:05.497Z"
   },
   {
    "duration": 10,
    "start_time": "2024-11-15T09:41:05.511Z"
   },
   {
    "duration": 18,
    "start_time": "2024-11-15T09:41:05.523Z"
   },
   {
    "duration": 102,
    "start_time": "2024-11-15T09:41:05.542Z"
   },
   {
    "duration": 4,
    "start_time": "2024-11-15T09:42:57.098Z"
   },
   {
    "duration": 66,
    "start_time": "2024-11-15T09:42:57.104Z"
   },
   {
    "duration": 15,
    "start_time": "2024-11-15T09:42:57.172Z"
   },
   {
    "duration": 24,
    "start_time": "2024-11-15T09:42:57.188Z"
   },
   {
    "duration": 3,
    "start_time": "2024-11-15T09:42:57.213Z"
   },
   {
    "duration": 19,
    "start_time": "2024-11-15T09:42:57.218Z"
   },
   {
    "duration": 26,
    "start_time": "2024-11-15T09:42:57.238Z"
   },
   {
    "duration": 7,
    "start_time": "2024-11-15T09:42:57.265Z"
   },
   {
    "duration": 7,
    "start_time": "2024-11-15T09:42:57.273Z"
   },
   {
    "duration": 12,
    "start_time": "2024-11-15T09:42:57.282Z"
   },
   {
    "duration": 25,
    "start_time": "2024-11-15T09:42:57.295Z"
   },
   {
    "duration": 10,
    "start_time": "2024-11-15T09:42:57.322Z"
   },
   {
    "duration": 20,
    "start_time": "2024-11-15T09:42:57.333Z"
   },
   {
    "duration": 4,
    "start_time": "2024-11-15T09:42:57.356Z"
   },
   {
    "duration": 3,
    "start_time": "2024-11-15T09:42:57.362Z"
   },
   {
    "duration": 4,
    "start_time": "2024-11-15T09:42:57.367Z"
   },
   {
    "duration": 7,
    "start_time": "2024-11-15T09:42:57.373Z"
   },
   {
    "duration": 171,
    "start_time": "2024-11-15T09:42:57.412Z"
   },
   {
    "duration": 6,
    "start_time": "2024-11-15T09:42:57.584Z"
   },
   {
    "duration": 222,
    "start_time": "2024-11-15T09:42:57.591Z"
   },
   {
    "duration": 11,
    "start_time": "2024-11-15T09:42:57.814Z"
   },
   {
    "duration": 256,
    "start_time": "2024-11-15T09:42:57.826Z"
   },
   {
    "duration": 19,
    "start_time": "2024-11-15T09:42:58.083Z"
   },
   {
    "duration": 1539,
    "start_time": "2024-11-15T09:51:54.179Z"
   },
   {
    "duration": 255,
    "start_time": "2024-11-15T09:51:55.720Z"
   },
   {
    "duration": 20,
    "start_time": "2024-11-15T09:51:55.976Z"
   },
   {
    "duration": 15,
    "start_time": "2024-11-15T09:51:55.998Z"
   },
   {
    "duration": 4,
    "start_time": "2024-11-15T09:51:56.014Z"
   },
   {
    "duration": 29,
    "start_time": "2024-11-15T09:51:56.019Z"
   },
   {
    "duration": 33,
    "start_time": "2024-11-15T09:51:56.050Z"
   },
   {
    "duration": 9,
    "start_time": "2024-11-15T09:51:56.085Z"
   },
   {
    "duration": 9,
    "start_time": "2024-11-15T09:51:56.095Z"
   },
   {
    "duration": 16,
    "start_time": "2024-11-15T09:51:56.106Z"
   },
   {
    "duration": 19,
    "start_time": "2024-11-15T09:51:56.123Z"
   },
   {
    "duration": 37,
    "start_time": "2024-11-15T09:51:56.144Z"
   },
   {
    "duration": 17,
    "start_time": "2024-11-15T09:51:56.183Z"
   },
   {
    "duration": 4,
    "start_time": "2024-11-15T09:51:56.202Z"
   },
   {
    "duration": 4,
    "start_time": "2024-11-15T09:51:56.207Z"
   },
   {
    "duration": 6,
    "start_time": "2024-11-15T09:51:56.212Z"
   },
   {
    "duration": 7,
    "start_time": "2024-11-15T09:51:56.219Z"
   },
   {
    "duration": 222,
    "start_time": "2024-11-15T09:51:56.228Z"
   },
   {
    "duration": 6,
    "start_time": "2024-11-15T09:51:56.451Z"
   },
   {
    "duration": 255,
    "start_time": "2024-11-15T09:51:56.459Z"
   },
   {
    "duration": 323,
    "start_time": "2024-11-15T09:51:56.716Z"
   },
   {
    "duration": 337,
    "start_time": "2024-11-15T09:51:57.041Z"
   },
   {
    "duration": 20,
    "start_time": "2024-11-15T09:51:57.379Z"
   },
   {
    "duration": 529,
    "start_time": "2024-11-15T09:51:57.401Z"
   },
   {
    "duration": 454,
    "start_time": "2024-11-15T09:51:57.932Z"
   },
   {
    "duration": 420,
    "start_time": "2024-11-15T09:51:58.388Z"
   },
   {
    "duration": 248,
    "start_time": "2024-11-15T09:51:58.810Z"
   },
   {
    "duration": 14668,
    "start_time": "2024-11-15T09:51:59.061Z"
   },
   {
    "duration": 46,
    "start_time": "2024-11-15T09:52:13.731Z"
   },
   {
    "duration": 1131,
    "start_time": "2024-11-15T09:52:13.778Z"
   },
   {
    "duration": 11,
    "start_time": "2024-11-15T09:52:14.911Z"
   },
   {
    "duration": 588,
    "start_time": "2024-11-15T09:52:14.923Z"
   },
   {
    "duration": 6,
    "start_time": "2024-11-15T09:52:15.512Z"
   },
   {
    "duration": 126,
    "start_time": "2024-11-15T09:52:15.520Z"
   },
   {
    "duration": 5,
    "start_time": "2024-11-15T09:52:15.647Z"
   },
   {
    "duration": 24,
    "start_time": "2024-11-15T09:52:15.654Z"
   },
   {
    "duration": 275,
    "start_time": "2024-11-15T09:52:15.679Z"
   },
   {
    "duration": 5,
    "start_time": "2024-11-15T09:52:15.955Z"
   },
   {
    "duration": 262,
    "start_time": "2024-11-15T09:52:15.961Z"
   },
   {
    "duration": 9,
    "start_time": "2024-11-15T09:52:16.224Z"
   },
   {
    "duration": 270,
    "start_time": "2024-11-15T09:52:16.234Z"
   },
   {
    "duration": 5,
    "start_time": "2024-11-15T09:52:16.505Z"
   },
   {
    "duration": 90,
    "start_time": "2024-11-15T09:52:16.511Z"
   },
   {
    "duration": 73,
    "start_time": "2024-11-15T09:52:16.603Z"
   },
   {
    "duration": 137,
    "start_time": "2024-11-15T09:52:16.678Z"
   },
   {
    "duration": 1602,
    "start_time": "2024-11-15T10:23:57.232Z"
   },
   {
    "duration": 68,
    "start_time": "2024-11-15T10:23:58.836Z"
   },
   {
    "duration": 19,
    "start_time": "2024-11-15T10:23:58.905Z"
   },
   {
    "duration": 14,
    "start_time": "2024-11-15T10:23:58.926Z"
   },
   {
    "duration": 3,
    "start_time": "2024-11-15T10:23:58.941Z"
   },
   {
    "duration": 34,
    "start_time": "2024-11-15T10:23:58.945Z"
   },
   {
    "duration": 17,
    "start_time": "2024-11-15T10:23:58.980Z"
   },
   {
    "duration": 9,
    "start_time": "2024-11-15T10:23:58.998Z"
   },
   {
    "duration": 9,
    "start_time": "2024-11-15T10:23:59.008Z"
   },
   {
    "duration": 15,
    "start_time": "2024-11-15T10:23:59.020Z"
   },
   {
    "duration": 48,
    "start_time": "2024-11-15T10:23:59.036Z"
   },
   {
    "duration": 11,
    "start_time": "2024-11-15T10:23:59.085Z"
   },
   {
    "duration": 17,
    "start_time": "2024-11-15T10:23:59.097Z"
   },
   {
    "duration": 5,
    "start_time": "2024-11-15T10:23:59.116Z"
   },
   {
    "duration": 4,
    "start_time": "2024-11-15T10:23:59.122Z"
   },
   {
    "duration": 4,
    "start_time": "2024-11-15T10:23:59.128Z"
   },
   {
    "duration": 43,
    "start_time": "2024-11-15T10:23:59.133Z"
   },
   {
    "duration": 193,
    "start_time": "2024-11-15T10:23:59.178Z"
   },
   {
    "duration": 6,
    "start_time": "2024-11-15T10:23:59.375Z"
   },
   {
    "duration": 263,
    "start_time": "2024-11-15T10:23:59.383Z"
   },
   {
    "duration": 313,
    "start_time": "2024-11-15T10:23:59.647Z"
   },
   {
    "duration": 367,
    "start_time": "2024-11-15T10:23:59.962Z"
   },
   {
    "duration": 22,
    "start_time": "2024-11-15T10:24:00.332Z"
   },
   {
    "duration": 536,
    "start_time": "2024-11-15T10:24:00.356Z"
   },
   {
    "duration": 444,
    "start_time": "2024-11-15T10:24:00.893Z"
   },
   {
    "duration": 552,
    "start_time": "2024-11-15T10:24:01.340Z"
   },
   {
    "duration": 143,
    "start_time": "2024-11-15T10:24:01.893Z"
   },
   {
    "duration": 15132,
    "start_time": "2024-11-15T10:24:02.040Z"
   },
   {
    "duration": 19,
    "start_time": "2024-11-15T10:24:17.176Z"
   },
   {
    "duration": 1163,
    "start_time": "2024-11-15T10:24:17.196Z"
   },
   {
    "duration": 17,
    "start_time": "2024-11-15T10:24:18.360Z"
   },
   {
    "duration": 582,
    "start_time": "2024-11-15T10:24:18.378Z"
   },
   {
    "duration": 19,
    "start_time": "2024-11-15T10:24:18.961Z"
   },
   {
    "duration": 127,
    "start_time": "2024-11-15T10:24:18.981Z"
   },
   {
    "duration": 4,
    "start_time": "2024-11-15T10:24:19.110Z"
   },
   {
    "duration": 6,
    "start_time": "2024-11-15T10:24:19.116Z"
   },
   {
    "duration": 277,
    "start_time": "2024-11-15T10:24:19.124Z"
   },
   {
    "duration": 4,
    "start_time": "2024-11-15T10:24:19.403Z"
   },
   {
    "duration": 235,
    "start_time": "2024-11-15T10:24:19.409Z"
   },
   {
    "duration": 9,
    "start_time": "2024-11-15T10:24:19.646Z"
   },
   {
    "duration": 269,
    "start_time": "2024-11-15T10:24:19.657Z"
   },
   {
    "duration": 5,
    "start_time": "2024-11-15T10:24:19.928Z"
   },
   {
    "duration": 8,
    "start_time": "2024-11-15T10:24:19.935Z"
   },
   {
    "duration": 6,
    "start_time": "2024-11-15T10:24:19.944Z"
   },
   {
    "duration": 126,
    "start_time": "2024-11-15T10:24:19.951Z"
   },
   {
    "duration": 51,
    "start_time": "2024-11-16T04:05:15.922Z"
   },
   {
    "duration": 1690,
    "start_time": "2024-11-16T04:05:19.267Z"
   },
   {
    "duration": 199,
    "start_time": "2024-11-16T04:05:20.959Z"
   },
   {
    "duration": 20,
    "start_time": "2024-11-16T04:05:21.160Z"
   },
   {
    "duration": 14,
    "start_time": "2024-11-16T04:05:21.182Z"
   },
   {
    "duration": 4,
    "start_time": "2024-11-16T04:05:21.197Z"
   },
   {
    "duration": 21,
    "start_time": "2024-11-16T04:05:21.202Z"
   },
   {
    "duration": 19,
    "start_time": "2024-11-16T04:05:21.225Z"
   },
   {
    "duration": 9,
    "start_time": "2024-11-16T04:05:21.246Z"
   },
   {
    "duration": 12,
    "start_time": "2024-11-16T04:05:21.256Z"
   },
   {
    "duration": 21,
    "start_time": "2024-11-16T04:05:21.270Z"
   },
   {
    "duration": 36,
    "start_time": "2024-11-16T04:05:21.293Z"
   },
   {
    "duration": 10,
    "start_time": "2024-11-16T04:05:21.331Z"
   },
   {
    "duration": 17,
    "start_time": "2024-11-16T04:05:21.342Z"
   },
   {
    "duration": 5,
    "start_time": "2024-11-16T04:05:21.360Z"
   },
   {
    "duration": 10,
    "start_time": "2024-11-16T04:05:21.367Z"
   },
   {
    "duration": 5,
    "start_time": "2024-11-16T04:05:21.379Z"
   },
   {
    "duration": 13,
    "start_time": "2024-11-16T04:05:21.386Z"
   },
   {
    "duration": 211,
    "start_time": "2024-11-16T04:05:21.418Z"
   },
   {
    "duration": 6,
    "start_time": "2024-11-16T04:05:21.631Z"
   },
   {
    "duration": 281,
    "start_time": "2024-11-16T04:05:21.639Z"
   },
   {
    "duration": 247,
    "start_time": "2024-11-16T04:05:21.922Z"
   },
   {
    "duration": 346,
    "start_time": "2024-11-16T04:05:22.171Z"
   },
   {
    "duration": 21,
    "start_time": "2024-11-16T04:05:22.519Z"
   },
   {
    "duration": 628,
    "start_time": "2024-11-16T04:05:22.542Z"
   },
   {
    "duration": 459,
    "start_time": "2024-11-16T04:05:23.172Z"
   },
   {
    "duration": 461,
    "start_time": "2024-11-16T04:05:23.633Z"
   },
   {
    "duration": 190,
    "start_time": "2024-11-16T04:05:24.096Z"
   },
   {
    "duration": 15305,
    "start_time": "2024-11-16T04:05:24.289Z"
   },
   {
    "duration": 34,
    "start_time": "2024-11-16T04:05:39.597Z"
   },
   {
    "duration": 1158,
    "start_time": "2024-11-16T04:05:39.634Z"
   },
   {
    "duration": 13,
    "start_time": "2024-11-16T04:05:40.793Z"
   },
   {
    "duration": 620,
    "start_time": "2024-11-16T04:05:40.808Z"
   },
   {
    "duration": 7,
    "start_time": "2024-11-16T04:05:41.430Z"
   },
   {
    "duration": 139,
    "start_time": "2024-11-16T04:05:41.438Z"
   },
   {
    "duration": 4,
    "start_time": "2024-11-16T04:05:41.579Z"
   },
   {
    "duration": 11,
    "start_time": "2024-11-16T04:05:41.585Z"
   },
   {
    "duration": 270,
    "start_time": "2024-11-16T04:05:41.597Z"
   },
   {
    "duration": 4,
    "start_time": "2024-11-16T04:05:41.869Z"
   },
   {
    "duration": 221,
    "start_time": "2024-11-16T04:05:41.875Z"
   },
   {
    "duration": 8,
    "start_time": "2024-11-16T04:05:42.099Z"
   },
   {
    "duration": 244,
    "start_time": "2024-11-16T04:05:42.118Z"
   },
   {
    "duration": 5,
    "start_time": "2024-11-16T04:05:42.364Z"
   },
   {
    "duration": 7,
    "start_time": "2024-11-16T04:05:42.371Z"
   },
   {
    "duration": 5,
    "start_time": "2024-11-16T04:05:42.380Z"
   },
   {
    "duration": 124,
    "start_time": "2024-11-16T04:05:42.387Z"
   },
   {
    "duration": 135,
    "start_time": "2024-11-16T04:21:27.919Z"
   },
   {
    "duration": 161,
    "start_time": "2024-11-16T04:22:01.389Z"
   },
   {
    "duration": 32,
    "start_time": "2024-11-16T04:22:22.740Z"
   },
   {
    "duration": 258,
    "start_time": "2024-11-16T04:25:05.540Z"
   },
   {
    "duration": 262,
    "start_time": "2024-11-16T04:35:16.509Z"
   },
   {
    "duration": 395,
    "start_time": "2024-11-16T04:40:55.041Z"
   },
   {
    "duration": 355,
    "start_time": "2024-11-16T04:46:04.565Z"
   },
   {
    "duration": 362,
    "start_time": "2024-11-16T04:47:19.468Z"
   },
   {
    "duration": 386,
    "start_time": "2024-11-16T04:47:26.414Z"
   },
   {
    "duration": 706,
    "start_time": "2024-11-16T04:55:32.986Z"
   },
   {
    "duration": 265,
    "start_time": "2024-11-16T05:22:05.519Z"
   },
   {
    "duration": 349,
    "start_time": "2024-11-16T05:25:42.059Z"
   },
   {
    "duration": 150,
    "start_time": "2024-11-16T05:34:17.832Z"
   },
   {
    "duration": 310,
    "start_time": "2024-11-16T05:40:35.143Z"
   },
   {
    "duration": 267,
    "start_time": "2024-11-16T05:41:34.403Z"
   },
   {
    "duration": 352,
    "start_time": "2024-11-16T05:42:22.970Z"
   },
   {
    "duration": 397,
    "start_time": "2024-11-16T05:44:39.276Z"
   },
   {
    "duration": 357,
    "start_time": "2024-11-16T05:45:18.715Z"
   },
   {
    "duration": 724,
    "start_time": "2024-11-16T05:47:58.433Z"
   },
   {
    "duration": 4,
    "start_time": "2024-11-16T05:49:35.783Z"
   },
   {
    "duration": 65,
    "start_time": "2024-11-16T05:49:35.836Z"
   },
   {
    "duration": 16,
    "start_time": "2024-11-16T05:49:35.904Z"
   },
   {
    "duration": 14,
    "start_time": "2024-11-16T05:49:35.922Z"
   },
   {
    "duration": 9,
    "start_time": "2024-11-16T05:49:35.938Z"
   },
   {
    "duration": 20,
    "start_time": "2024-11-16T05:49:35.949Z"
   },
   {
    "duration": 36,
    "start_time": "2024-11-16T05:49:35.970Z"
   },
   {
    "duration": 15,
    "start_time": "2024-11-16T05:49:36.007Z"
   },
   {
    "duration": 25,
    "start_time": "2024-11-16T05:49:36.023Z"
   },
   {
    "duration": 19,
    "start_time": "2024-11-16T05:49:36.050Z"
   },
   {
    "duration": 42,
    "start_time": "2024-11-16T05:49:36.071Z"
   },
   {
    "duration": 17,
    "start_time": "2024-11-16T05:49:36.115Z"
   },
   {
    "duration": 30,
    "start_time": "2024-11-16T05:49:36.133Z"
   },
   {
    "duration": 6,
    "start_time": "2024-11-16T05:49:36.165Z"
   },
   {
    "duration": 9,
    "start_time": "2024-11-16T05:49:36.175Z"
   },
   {
    "duration": 6,
    "start_time": "2024-11-16T05:49:36.186Z"
   },
   {
    "duration": 11,
    "start_time": "2024-11-16T05:49:36.194Z"
   },
   {
    "duration": 188,
    "start_time": "2024-11-16T05:49:36.206Z"
   },
   {
    "duration": 6,
    "start_time": "2024-11-16T05:49:36.396Z"
   },
   {
    "duration": 270,
    "start_time": "2024-11-16T05:49:36.403Z"
   },
   {
    "duration": 12,
    "start_time": "2024-11-16T05:49:36.675Z"
   },
   {
    "duration": 302,
    "start_time": "2024-11-16T05:49:36.689Z"
   },
   {
    "duration": 33,
    "start_time": "2024-11-16T05:49:36.993Z"
   },
   {
    "duration": 506,
    "start_time": "2024-11-16T05:49:37.028Z"
   },
   {
    "duration": 168,
    "start_time": "2024-11-16T05:49:37.536Z"
   },
   {
    "duration": 460,
    "start_time": "2024-11-16T05:49:37.706Z"
   },
   {
    "duration": 149,
    "start_time": "2024-11-16T05:49:38.168Z"
   },
   {
    "duration": 15171,
    "start_time": "2024-11-16T05:49:38.319Z"
   },
   {
    "duration": 39,
    "start_time": "2024-11-16T05:49:53.491Z"
   },
   {
    "duration": 937,
    "start_time": "2024-11-16T05:49:53.532Z"
   },
   {
    "duration": 12,
    "start_time": "2024-11-16T05:49:54.471Z"
   },
   {
    "duration": 616,
    "start_time": "2024-11-16T05:49:54.484Z"
   },
   {
    "duration": 16,
    "start_time": "2024-11-16T05:49:55.102Z"
   },
   {
    "duration": 121,
    "start_time": "2024-11-16T05:49:55.119Z"
   },
   {
    "duration": 5,
    "start_time": "2024-11-16T05:49:55.241Z"
   },
   {
    "duration": 12,
    "start_time": "2024-11-16T05:49:55.248Z"
   },
   {
    "duration": 360,
    "start_time": "2024-11-16T05:49:55.261Z"
   },
   {
    "duration": 4,
    "start_time": "2024-11-16T05:49:55.623Z"
   },
   {
    "duration": 272,
    "start_time": "2024-11-16T05:49:55.629Z"
   },
   {
    "duration": 17,
    "start_time": "2024-11-16T05:49:55.903Z"
   },
   {
    "duration": 384,
    "start_time": "2024-11-16T05:49:55.922Z"
   },
   {
    "duration": 5,
    "start_time": "2024-11-16T05:49:56.317Z"
   },
   {
    "duration": 16,
    "start_time": "2024-11-16T05:49:56.323Z"
   },
   {
    "duration": 6,
    "start_time": "2024-11-16T05:49:56.341Z"
   },
   {
    "duration": 400,
    "start_time": "2024-11-16T05:49:56.348Z"
   },
   {
    "duration": 121,
    "start_time": "2024-11-16T05:49:56.750Z"
   },
   {
    "duration": 16,
    "start_time": "2024-11-16T06:04:32.242Z"
   },
   {
    "duration": 394,
    "start_time": "2024-11-16T06:10:13.109Z"
   },
   {
    "duration": 386,
    "start_time": "2024-11-16T06:16:25.687Z"
   },
   {
    "duration": 82,
    "start_time": "2024-11-16T06:17:47.427Z"
   },
   {
    "duration": 15,
    "start_time": "2024-11-16T06:19:01.795Z"
   },
   {
    "duration": 3,
    "start_time": "2024-11-16T06:19:15.347Z"
   },
   {
    "duration": 76,
    "start_time": "2024-11-16T06:19:15.356Z"
   },
   {
    "duration": 20,
    "start_time": "2024-11-16T06:19:15.434Z"
   },
   {
    "duration": 21,
    "start_time": "2024-11-16T06:19:15.456Z"
   },
   {
    "duration": 3,
    "start_time": "2024-11-16T06:19:15.480Z"
   },
   {
    "duration": 45,
    "start_time": "2024-11-16T06:19:15.485Z"
   },
   {
    "duration": 20,
    "start_time": "2024-11-16T06:19:15.532Z"
   },
   {
    "duration": 8,
    "start_time": "2024-11-16T06:19:15.554Z"
   },
   {
    "duration": 14,
    "start_time": "2024-11-16T06:19:15.564Z"
   },
   {
    "duration": 16,
    "start_time": "2024-11-16T06:19:15.579Z"
   },
   {
    "duration": 19,
    "start_time": "2024-11-16T06:19:15.618Z"
   },
   {
    "duration": 12,
    "start_time": "2024-11-16T06:19:15.639Z"
   },
   {
    "duration": 17,
    "start_time": "2024-11-16T06:19:15.652Z"
   },
   {
    "duration": 3,
    "start_time": "2024-11-16T06:19:15.671Z"
   },
   {
    "duration": 4,
    "start_time": "2024-11-16T06:19:15.677Z"
   },
   {
    "duration": 36,
    "start_time": "2024-11-16T06:19:15.682Z"
   },
   {
    "duration": 8,
    "start_time": "2024-11-16T06:19:15.720Z"
   },
   {
    "duration": 193,
    "start_time": "2024-11-16T06:19:15.729Z"
   },
   {
    "duration": 6,
    "start_time": "2024-11-16T06:19:15.924Z"
   },
   {
    "duration": 253,
    "start_time": "2024-11-16T06:19:15.932Z"
   },
   {
    "duration": 14,
    "start_time": "2024-11-16T06:19:16.187Z"
   },
   {
    "duration": 271,
    "start_time": "2024-11-16T06:19:16.203Z"
   },
   {
    "duration": 20,
    "start_time": "2024-11-16T06:19:16.475Z"
   },
   {
    "duration": 528,
    "start_time": "2024-11-16T06:19:16.496Z"
   },
   {
    "duration": 174,
    "start_time": "2024-11-16T06:19:17.026Z"
   },
   {
    "duration": 450,
    "start_time": "2024-11-16T06:19:17.202Z"
   },
   {
    "duration": 591,
    "start_time": "2024-11-16T06:19:17.654Z"
   },
   {
    "duration": 14742,
    "start_time": "2024-11-16T06:19:18.247Z"
   },
   {
    "duration": 38,
    "start_time": "2024-11-16T06:19:32.991Z"
   },
   {
    "duration": 938,
    "start_time": "2024-11-16T06:19:33.031Z"
   },
   {
    "duration": 12,
    "start_time": "2024-11-16T06:19:33.970Z"
   },
   {
    "duration": 609,
    "start_time": "2024-11-16T06:19:33.984Z"
   },
   {
    "duration": 425,
    "start_time": "2024-11-16T06:19:34.595Z"
   },
   {
    "duration": 7,
    "start_time": "2024-11-16T06:19:35.021Z"
   },
   {
    "duration": 127,
    "start_time": "2024-11-16T06:19:35.029Z"
   },
   {
    "duration": 5,
    "start_time": "2024-11-16T06:19:35.158Z"
   },
   {
    "duration": 25,
    "start_time": "2024-11-16T06:19:35.165Z"
   },
   {
    "duration": 346,
    "start_time": "2024-11-16T06:19:35.191Z"
   },
   {
    "duration": 5,
    "start_time": "2024-11-16T06:19:35.538Z"
   },
   {
    "duration": 263,
    "start_time": "2024-11-16T06:19:35.544Z"
   },
   {
    "duration": 15,
    "start_time": "2024-11-16T06:19:35.809Z"
   },
   {
    "duration": 425,
    "start_time": "2024-11-16T06:19:35.828Z"
   },
   {
    "duration": 4,
    "start_time": "2024-11-16T06:19:36.255Z"
   },
   {
    "duration": 21,
    "start_time": "2024-11-16T06:19:36.261Z"
   },
   {
    "duration": 8,
    "start_time": "2024-11-16T06:19:36.283Z"
   },
   {
    "duration": 390,
    "start_time": "2024-11-16T06:19:36.293Z"
   },
   {
    "duration": 32,
    "start_time": "2024-11-16T06:23:39.616Z"
   },
   {
    "duration": 16,
    "start_time": "2024-11-16T06:24:13.739Z"
   },
   {
    "duration": 15,
    "start_time": "2024-11-16T06:44:44.916Z"
   },
   {
    "duration": 16,
    "start_time": "2024-11-16T06:45:37.256Z"
   },
   {
    "duration": 11,
    "start_time": "2024-11-16T06:46:09.202Z"
   },
   {
    "duration": 17,
    "start_time": "2024-11-16T06:46:45.241Z"
   },
   {
    "duration": 10,
    "start_time": "2024-11-16T06:47:11.838Z"
   },
   {
    "duration": 8,
    "start_time": "2024-11-16T06:47:24.225Z"
   },
   {
    "duration": 10,
    "start_time": "2024-11-16T06:47:51.554Z"
   },
   {
    "duration": 9,
    "start_time": "2024-11-16T06:47:53.807Z"
   },
   {
    "duration": 4,
    "start_time": "2024-11-16T06:48:02.208Z"
   },
   {
    "duration": 87,
    "start_time": "2024-11-16T06:48:02.215Z"
   },
   {
    "duration": 16,
    "start_time": "2024-11-16T06:48:02.304Z"
   },
   {
    "duration": 17,
    "start_time": "2024-11-16T06:48:02.321Z"
   },
   {
    "duration": 13,
    "start_time": "2024-11-16T06:48:02.340Z"
   },
   {
    "duration": 70,
    "start_time": "2024-11-16T06:48:02.355Z"
   },
   {
    "duration": 11,
    "start_time": "2024-11-16T06:48:02.427Z"
   },
   {
    "duration": 38,
    "start_time": "2024-11-16T06:48:02.440Z"
   },
   {
    "duration": 43,
    "start_time": "2024-11-16T06:48:02.480Z"
   },
   {
    "duration": 25,
    "start_time": "2024-11-16T06:48:02.526Z"
   },
   {
    "duration": 51,
    "start_time": "2024-11-16T06:48:02.554Z"
   },
   {
    "duration": 40,
    "start_time": "2024-11-16T06:48:02.607Z"
   },
   {
    "duration": 71,
    "start_time": "2024-11-16T06:48:02.648Z"
   },
   {
    "duration": 45,
    "start_time": "2024-11-16T06:48:02.721Z"
   },
   {
    "duration": 34,
    "start_time": "2024-11-16T06:48:02.768Z"
   },
   {
    "duration": 35,
    "start_time": "2024-11-16T06:48:02.805Z"
   },
   {
    "duration": 16,
    "start_time": "2024-11-16T06:48:02.842Z"
   },
   {
    "duration": 32,
    "start_time": "2024-11-16T06:48:02.860Z"
   },
   {
    "duration": 226,
    "start_time": "2024-11-16T06:48:02.894Z"
   },
   {
    "duration": 7,
    "start_time": "2024-11-16T06:48:03.122Z"
   },
   {
    "duration": 280,
    "start_time": "2024-11-16T06:48:03.131Z"
   },
   {
    "duration": 13,
    "start_time": "2024-11-16T06:48:03.412Z"
   },
   {
    "duration": 276,
    "start_time": "2024-11-16T06:48:03.426Z"
   },
   {
    "duration": 26,
    "start_time": "2024-11-16T06:48:03.704Z"
   },
   {
    "duration": 515,
    "start_time": "2024-11-16T06:48:03.732Z"
   },
   {
    "duration": 182,
    "start_time": "2024-11-16T06:48:04.249Z"
   },
   {
    "duration": 473,
    "start_time": "2024-11-16T06:48:04.434Z"
   },
   {
    "duration": 148,
    "start_time": "2024-11-16T06:48:04.909Z"
   },
   {
    "duration": 14991,
    "start_time": "2024-11-16T06:48:05.061Z"
   },
   {
    "duration": 17,
    "start_time": "2024-11-16T06:48:20.054Z"
   },
   {
    "duration": 931,
    "start_time": "2024-11-16T06:48:20.072Z"
   },
   {
    "duration": 16,
    "start_time": "2024-11-16T06:48:21.005Z"
   },
   {
    "duration": 594,
    "start_time": "2024-11-16T06:48:21.023Z"
   },
   {
    "duration": 414,
    "start_time": "2024-11-16T06:48:21.619Z"
   },
   {
    "duration": 8,
    "start_time": "2024-11-16T06:48:22.035Z"
   },
   {
    "duration": 145,
    "start_time": "2024-11-16T06:48:22.045Z"
   },
   {
    "duration": 6,
    "start_time": "2024-11-16T06:48:22.192Z"
   },
   {
    "duration": 19,
    "start_time": "2024-11-16T06:48:22.200Z"
   },
   {
    "duration": 389,
    "start_time": "2024-11-16T06:48:22.221Z"
   },
   {
    "duration": 4,
    "start_time": "2024-11-16T06:48:22.618Z"
   },
   {
    "duration": 236,
    "start_time": "2024-11-16T06:48:22.624Z"
   },
   {
    "duration": 9,
    "start_time": "2024-11-16T06:48:22.862Z"
   },
   {
    "duration": 388,
    "start_time": "2024-11-16T06:48:22.873Z"
   },
   {
    "duration": 4,
    "start_time": "2024-11-16T06:48:23.264Z"
   },
   {
    "duration": 7,
    "start_time": "2024-11-16T06:48:23.270Z"
   },
   {
    "duration": 11,
    "start_time": "2024-11-16T06:48:23.278Z"
   },
   {
    "duration": 365,
    "start_time": "2024-11-16T06:48:23.290Z"
   },
   {
    "duration": 10,
    "start_time": "2024-11-16T06:48:59.428Z"
   },
   {
    "duration": 6,
    "start_time": "2024-11-16T08:02:36.177Z"
   },
   {
    "duration": 85,
    "start_time": "2024-11-16T08:02:36.232Z"
   },
   {
    "duration": 17,
    "start_time": "2024-11-16T08:02:36.319Z"
   },
   {
    "duration": 29,
    "start_time": "2024-11-16T08:02:36.338Z"
   },
   {
    "duration": 41,
    "start_time": "2024-11-16T08:02:36.369Z"
   },
   {
    "duration": 11,
    "start_time": "2024-11-16T08:02:36.413Z"
   },
   {
    "duration": 10,
    "start_time": "2024-11-16T08:02:36.426Z"
   },
   {
    "duration": 31,
    "start_time": "2024-11-16T08:02:36.437Z"
   },
   {
    "duration": 33,
    "start_time": "2024-11-16T08:02:36.470Z"
   },
   {
    "duration": 13,
    "start_time": "2024-11-16T08:02:36.505Z"
   },
   {
    "duration": 66,
    "start_time": "2024-11-16T08:02:36.520Z"
   },
   {
    "duration": 31,
    "start_time": "2024-11-16T08:02:36.588Z"
   },
   {
    "duration": 13,
    "start_time": "2024-11-16T08:02:36.621Z"
   },
   {
    "duration": 17,
    "start_time": "2024-11-16T08:02:36.636Z"
   },
   {
    "duration": 15,
    "start_time": "2024-11-16T08:02:36.658Z"
   },
   {
    "duration": 50,
    "start_time": "2024-11-16T08:02:36.675Z"
   },
   {
    "duration": 59,
    "start_time": "2024-11-16T08:02:36.726Z"
   },
   {
    "duration": 10,
    "start_time": "2024-11-16T08:02:36.787Z"
   },
   {
    "duration": 194,
    "start_time": "2024-11-16T08:02:36.799Z"
   },
   {
    "duration": 6,
    "start_time": "2024-11-16T08:02:36.995Z"
   },
   {
    "duration": 290,
    "start_time": "2024-11-16T08:02:37.003Z"
   },
   {
    "duration": 853,
    "start_time": "2024-11-16T08:02:37.295Z"
   },
   {
    "duration": 316,
    "start_time": "2024-11-16T08:02:38.150Z"
   },
   {
    "duration": 31,
    "start_time": "2024-11-16T08:02:38.469Z"
   },
   {
    "duration": 575,
    "start_time": "2024-11-16T08:02:38.502Z"
   },
   {
    "duration": 165,
    "start_time": "2024-11-16T08:02:39.078Z"
   },
   {
    "duration": 477,
    "start_time": "2024-11-16T08:02:39.246Z"
   },
   {
    "duration": 148,
    "start_time": "2024-11-16T08:02:39.725Z"
   },
   {
    "duration": 4,
    "start_time": "2024-11-16T08:02:59.280Z"
   },
   {
    "duration": 91,
    "start_time": "2024-11-16T08:02:59.286Z"
   },
   {
    "duration": 17,
    "start_time": "2024-11-16T08:02:59.379Z"
   },
   {
    "duration": 23,
    "start_time": "2024-11-16T08:02:59.398Z"
   },
   {
    "duration": 16,
    "start_time": "2024-11-16T08:02:59.423Z"
   },
   {
    "duration": 19,
    "start_time": "2024-11-16T08:02:59.441Z"
   },
   {
    "duration": 12,
    "start_time": "2024-11-16T08:02:59.461Z"
   },
   {
    "duration": 16,
    "start_time": "2024-11-16T08:02:59.475Z"
   },
   {
    "duration": 28,
    "start_time": "2024-11-16T08:02:59.493Z"
   },
   {
    "duration": 9,
    "start_time": "2024-11-16T08:02:59.523Z"
   },
   {
    "duration": 17,
    "start_time": "2024-11-16T08:02:59.533Z"
   },
   {
    "duration": 24,
    "start_time": "2024-11-16T08:02:59.552Z"
   },
   {
    "duration": 11,
    "start_time": "2024-11-16T08:02:59.577Z"
   },
   {
    "duration": 45,
    "start_time": "2024-11-16T08:02:59.589Z"
   },
   {
    "duration": 3,
    "start_time": "2024-11-16T08:02:59.636Z"
   },
   {
    "duration": 4,
    "start_time": "2024-11-16T08:02:59.641Z"
   },
   {
    "duration": 5,
    "start_time": "2024-11-16T08:02:59.646Z"
   },
   {
    "duration": 7,
    "start_time": "2024-11-16T08:02:59.652Z"
   },
   {
    "duration": 222,
    "start_time": "2024-11-16T08:02:59.661Z"
   },
   {
    "duration": 7,
    "start_time": "2024-11-16T08:02:59.885Z"
   },
   {
    "duration": 326,
    "start_time": "2024-11-16T08:02:59.894Z"
   },
   {
    "duration": 16,
    "start_time": "2024-11-16T08:03:00.222Z"
   },
   {
    "duration": 323,
    "start_time": "2024-11-16T08:03:00.240Z"
   },
   {
    "duration": 22,
    "start_time": "2024-11-16T08:03:00.565Z"
   },
   {
    "duration": 562,
    "start_time": "2024-11-16T08:03:00.589Z"
   },
   {
    "duration": 178,
    "start_time": "2024-11-16T08:03:01.153Z"
   },
   {
    "duration": 493,
    "start_time": "2024-11-16T08:03:01.333Z"
   },
   {
    "duration": 142,
    "start_time": "2024-11-16T08:03:01.828Z"
   },
   {
    "duration": 2011,
    "start_time": "2024-11-17T02:21:49.707Z"
   },
   {
    "duration": 242,
    "start_time": "2024-11-17T02:21:51.720Z"
   },
   {
    "duration": 27,
    "start_time": "2024-11-17T02:21:51.965Z"
   },
   {
    "duration": 19,
    "start_time": "2024-11-17T02:21:51.994Z"
   },
   {
    "duration": 35,
    "start_time": "2024-11-17T02:21:52.016Z"
   },
   {
    "duration": 23,
    "start_time": "2024-11-17T02:21:52.053Z"
   },
   {
    "duration": 12,
    "start_time": "2024-11-17T02:21:52.078Z"
   },
   {
    "duration": 11,
    "start_time": "2024-11-17T02:21:52.092Z"
   },
   {
    "duration": 9,
    "start_time": "2024-11-17T02:21:52.105Z"
   },
   {
    "duration": 47,
    "start_time": "2024-11-17T02:21:52.116Z"
   },
   {
    "duration": 50,
    "start_time": "2024-11-17T02:21:52.165Z"
   },
   {
    "duration": 33,
    "start_time": "2024-11-17T02:21:52.218Z"
   },
   {
    "duration": 17,
    "start_time": "2024-11-17T02:21:52.255Z"
   },
   {
    "duration": 28,
    "start_time": "2024-11-17T02:21:52.276Z"
   },
   {
    "duration": 61,
    "start_time": "2024-11-17T02:21:52.306Z"
   },
   {
    "duration": 4,
    "start_time": "2024-11-17T02:21:52.369Z"
   },
   {
    "duration": 5,
    "start_time": "2024-11-17T02:21:52.375Z"
   },
   {
    "duration": 17,
    "start_time": "2024-11-17T02:21:52.382Z"
   },
   {
    "duration": 316,
    "start_time": "2024-11-17T02:21:52.401Z"
   },
   {
    "duration": 7,
    "start_time": "2024-11-17T02:21:52.719Z"
   },
   {
    "duration": 275,
    "start_time": "2024-11-17T02:21:52.727Z"
   },
   {
    "duration": 360,
    "start_time": "2024-11-17T02:21:53.004Z"
   },
   {
    "duration": 412,
    "start_time": "2024-11-17T02:21:53.366Z"
   },
   {
    "duration": 31,
    "start_time": "2024-11-17T02:21:53.780Z"
   },
   {
    "duration": 575,
    "start_time": "2024-11-17T02:21:53.812Z"
   },
   {
    "duration": 511,
    "start_time": "2024-11-17T02:21:54.388Z"
   },
   {
    "duration": 576,
    "start_time": "2024-11-17T02:21:54.901Z"
   },
   {
    "duration": 225,
    "start_time": "2024-11-17T02:21:55.479Z"
   },
   {
    "duration": 17081,
    "start_time": "2024-11-17T02:21:55.706Z"
   },
   {
    "duration": 62,
    "start_time": "2024-11-17T02:22:12.789Z"
   },
   {
    "duration": 1149,
    "start_time": "2024-11-17T02:22:12.853Z"
   },
   {
    "duration": 17,
    "start_time": "2024-11-17T02:22:14.004Z"
   },
   {
    "duration": 659,
    "start_time": "2024-11-17T02:22:14.024Z"
   },
   {
    "duration": 438,
    "start_time": "2024-11-17T02:22:14.684Z"
   },
   {
    "duration": 26,
    "start_time": "2024-11-17T02:22:15.124Z"
   },
   {
    "duration": 139,
    "start_time": "2024-11-17T02:22:15.159Z"
   },
   {
    "duration": 6,
    "start_time": "2024-11-17T02:22:15.300Z"
   },
   {
    "duration": 7,
    "start_time": "2024-11-17T02:22:15.308Z"
   },
   {
    "duration": 413,
    "start_time": "2024-11-17T02:22:15.317Z"
   },
   {
    "duration": 5,
    "start_time": "2024-11-17T02:22:15.732Z"
   },
   {
    "duration": 248,
    "start_time": "2024-11-17T02:22:15.744Z"
   },
   {
    "duration": 12,
    "start_time": "2024-11-17T02:22:15.993Z"
   },
   {
    "duration": 402,
    "start_time": "2024-11-17T02:22:16.007Z"
   },
   {
    "duration": 4,
    "start_time": "2024-11-17T02:22:16.411Z"
   },
   {
    "duration": 129,
    "start_time": "2024-11-17T02:22:16.417Z"
   },
   {
    "duration": 11,
    "start_time": "2024-11-17T02:22:16.555Z"
   },
   {
    "duration": 450,
    "start_time": "2024-11-17T02:22:16.568Z"
   },
   {
    "duration": 1606,
    "start_time": "2024-11-17T02:33:42.795Z"
   },
   {
    "duration": 75,
    "start_time": "2024-11-17T02:33:44.403Z"
   },
   {
    "duration": 19,
    "start_time": "2024-11-17T02:33:44.479Z"
   },
   {
    "duration": 85,
    "start_time": "2024-11-17T02:33:44.500Z"
   },
   {
    "duration": 13,
    "start_time": "2024-11-17T02:33:44.588Z"
   },
   {
    "duration": 16,
    "start_time": "2024-11-17T02:33:44.602Z"
   },
   {
    "duration": 11,
    "start_time": "2024-11-17T02:33:44.620Z"
   },
   {
    "duration": 8,
    "start_time": "2024-11-17T02:33:44.632Z"
   },
   {
    "duration": 23,
    "start_time": "2024-11-17T02:33:44.642Z"
   },
   {
    "duration": 11,
    "start_time": "2024-11-17T02:33:44.667Z"
   },
   {
    "duration": 17,
    "start_time": "2024-11-17T02:33:44.680Z"
   },
   {
    "duration": 47,
    "start_time": "2024-11-17T02:33:44.699Z"
   },
   {
    "duration": 19,
    "start_time": "2024-11-17T02:33:44.747Z"
   },
   {
    "duration": 26,
    "start_time": "2024-11-17T02:33:44.770Z"
   },
   {
    "duration": 4,
    "start_time": "2024-11-17T02:33:44.798Z"
   },
   {
    "duration": 71,
    "start_time": "2024-11-17T02:33:44.804Z"
   },
   {
    "duration": 5,
    "start_time": "2024-11-17T02:33:44.877Z"
   },
   {
    "duration": 25,
    "start_time": "2024-11-17T02:33:44.883Z"
   },
   {
    "duration": 253,
    "start_time": "2024-11-17T02:33:44.910Z"
   },
   {
    "duration": 8,
    "start_time": "2024-11-17T02:33:45.165Z"
   },
   {
    "duration": 328,
    "start_time": "2024-11-17T02:33:45.174Z"
   },
   {
    "duration": 424,
    "start_time": "2024-11-17T02:33:45.504Z"
   },
   {
    "duration": 391,
    "start_time": "2024-11-17T02:33:45.930Z"
   },
   {
    "duration": 36,
    "start_time": "2024-11-17T02:33:46.324Z"
   },
   {
    "duration": 591,
    "start_time": "2024-11-17T02:33:46.362Z"
   },
   {
    "duration": 486,
    "start_time": "2024-11-17T02:33:46.955Z"
   },
   {
    "duration": 498,
    "start_time": "2024-11-17T02:33:47.443Z"
   },
   {
    "duration": 155,
    "start_time": "2024-11-17T02:33:47.942Z"
   },
   {
    "duration": 15727,
    "start_time": "2024-11-17T02:33:48.099Z"
   },
   {
    "duration": 40,
    "start_time": "2024-11-17T02:34:03.829Z"
   },
   {
    "duration": 1167,
    "start_time": "2024-11-17T02:34:03.871Z"
   },
   {
    "duration": 19,
    "start_time": "2024-11-17T02:34:05.044Z"
   },
   {
    "duration": 648,
    "start_time": "2024-11-17T02:34:05.064Z"
   },
   {
    "duration": 434,
    "start_time": "2024-11-17T02:34:05.714Z"
   },
   {
    "duration": 11,
    "start_time": "2024-11-17T02:34:06.150Z"
   },
   {
    "duration": 163,
    "start_time": "2024-11-17T02:34:06.162Z"
   },
   {
    "duration": 5,
    "start_time": "2024-11-17T02:34:06.327Z"
   },
   {
    "duration": 74,
    "start_time": "2024-11-17T02:34:06.334Z"
   },
   {
    "duration": 368,
    "start_time": "2024-11-17T02:34:06.409Z"
   },
   {
    "duration": 5,
    "start_time": "2024-11-17T02:34:06.778Z"
   },
   {
    "duration": 242,
    "start_time": "2024-11-17T02:34:06.787Z"
   },
   {
    "duration": 22,
    "start_time": "2024-11-17T02:34:07.031Z"
   },
   {
    "duration": 423,
    "start_time": "2024-11-17T02:34:07.058Z"
   },
   {
    "duration": 6,
    "start_time": "2024-11-17T02:34:07.483Z"
   },
   {
    "duration": 13,
    "start_time": "2024-11-17T02:34:07.490Z"
   },
   {
    "duration": 6,
    "start_time": "2024-11-17T02:34:07.505Z"
   },
   {
    "duration": 402,
    "start_time": "2024-11-17T02:34:07.512Z"
   },
   {
    "duration": 1639,
    "start_time": "2024-11-17T02:55:51.660Z"
   },
   {
    "duration": 74,
    "start_time": "2024-11-17T02:55:53.302Z"
   },
   {
    "duration": 19,
    "start_time": "2024-11-17T02:55:53.378Z"
   },
   {
    "duration": 16,
    "start_time": "2024-11-17T02:55:53.398Z"
   },
   {
    "duration": 29,
    "start_time": "2024-11-17T02:55:53.416Z"
   },
   {
    "duration": 17,
    "start_time": "2024-11-17T02:55:53.448Z"
   },
   {
    "duration": 10,
    "start_time": "2024-11-17T02:55:53.466Z"
   },
   {
    "duration": 9,
    "start_time": "2024-11-17T02:55:53.478Z"
   },
   {
    "duration": 11,
    "start_time": "2024-11-17T02:55:53.489Z"
   },
   {
    "duration": 8,
    "start_time": "2024-11-17T02:55:53.502Z"
   },
   {
    "duration": 49,
    "start_time": "2024-11-17T02:55:53.512Z"
   },
   {
    "duration": 18,
    "start_time": "2024-11-17T02:55:53.563Z"
   },
   {
    "duration": 12,
    "start_time": "2024-11-17T02:55:53.582Z"
   },
   {
    "duration": 17,
    "start_time": "2024-11-17T02:55:53.597Z"
   },
   {
    "duration": 6,
    "start_time": "2024-11-17T02:55:53.615Z"
   },
   {
    "duration": 26,
    "start_time": "2024-11-17T02:55:53.622Z"
   },
   {
    "duration": 6,
    "start_time": "2024-11-17T02:55:53.654Z"
   },
   {
    "duration": 6,
    "start_time": "2024-11-17T02:55:53.661Z"
   },
   {
    "duration": 220,
    "start_time": "2024-11-17T02:55:53.669Z"
   },
   {
    "duration": 6,
    "start_time": "2024-11-17T02:55:53.891Z"
   },
   {
    "duration": 295,
    "start_time": "2024-11-17T02:55:53.900Z"
   },
   {
    "duration": 399,
    "start_time": "2024-11-17T02:55:54.196Z"
   },
   {
    "duration": 379,
    "start_time": "2024-11-17T02:55:54.597Z"
   },
   {
    "duration": 22,
    "start_time": "2024-11-17T02:55:54.977Z"
   },
   {
    "duration": 572,
    "start_time": "2024-11-17T02:55:55.000Z"
   },
   {
    "duration": 488,
    "start_time": "2024-11-17T02:55:55.574Z"
   },
   {
    "duration": 468,
    "start_time": "2024-11-17T02:55:56.064Z"
   },
   {
    "duration": 146,
    "start_time": "2024-11-17T02:55:56.533Z"
   },
   {
    "duration": 15749,
    "start_time": "2024-11-17T02:55:56.681Z"
   },
   {
    "duration": 38,
    "start_time": "2024-11-17T02:56:12.431Z"
   },
   {
    "duration": 1086,
    "start_time": "2024-11-17T02:56:12.471Z"
   },
   {
    "duration": 13,
    "start_time": "2024-11-17T02:56:13.559Z"
   },
   {
    "duration": 613,
    "start_time": "2024-11-17T02:56:13.573Z"
   },
   {
    "duration": 415,
    "start_time": "2024-11-17T02:56:14.188Z"
   },
   {
    "duration": 7,
    "start_time": "2024-11-17T02:56:14.605Z"
   },
   {
    "duration": 201,
    "start_time": "2024-11-17T02:56:14.613Z"
   },
   {
    "duration": 15,
    "start_time": "2024-11-17T02:56:14.816Z"
   },
   {
    "duration": 9,
    "start_time": "2024-11-17T02:56:14.846Z"
   },
   {
    "duration": 391,
    "start_time": "2024-11-17T02:56:14.857Z"
   },
   {
    "duration": 8,
    "start_time": "2024-11-17T02:56:15.251Z"
   },
   {
    "duration": 337,
    "start_time": "2024-11-17T02:56:15.263Z"
   },
   {
    "duration": 14,
    "start_time": "2024-11-17T02:56:15.602Z"
   },
   {
    "duration": 424,
    "start_time": "2024-11-17T02:56:15.618Z"
   },
   {
    "duration": 11,
    "start_time": "2024-11-17T02:56:16.045Z"
   },
   {
    "duration": 12,
    "start_time": "2024-11-17T02:56:16.058Z"
   },
   {
    "duration": 12,
    "start_time": "2024-11-17T02:56:16.072Z"
   },
   {
    "duration": 433,
    "start_time": "2024-11-17T02:56:16.085Z"
   },
   {
    "duration": 1534,
    "start_time": "2024-12-16T04:25:32.798Z"
   },
   {
    "duration": 127,
    "start_time": "2024-12-16T04:25:34.334Z"
   },
   {
    "duration": 20,
    "start_time": "2024-12-16T04:25:34.462Z"
   },
   {
    "duration": 15,
    "start_time": "2024-12-16T04:25:34.484Z"
   },
   {
    "duration": 18,
    "start_time": "2024-12-16T04:25:34.500Z"
   },
   {
    "duration": 23,
    "start_time": "2024-12-16T04:25:34.519Z"
   },
   {
    "duration": 21,
    "start_time": "2024-12-16T04:25:34.543Z"
   },
   {
    "duration": 18,
    "start_time": "2024-12-16T04:25:34.566Z"
   },
   {
    "duration": 8,
    "start_time": "2024-12-16T04:25:34.586Z"
   },
   {
    "duration": 8,
    "start_time": "2024-12-16T04:25:34.597Z"
   },
   {
    "duration": 21,
    "start_time": "2024-12-16T04:25:34.606Z"
   },
   {
    "duration": 31,
    "start_time": "2024-12-16T04:25:34.628Z"
   },
   {
    "duration": 12,
    "start_time": "2024-12-16T04:25:34.660Z"
   },
   {
    "duration": 16,
    "start_time": "2024-12-16T04:25:34.673Z"
   },
   {
    "duration": 4,
    "start_time": "2024-12-16T04:25:34.690Z"
   },
   {
    "duration": 22,
    "start_time": "2024-12-16T04:25:34.695Z"
   },
   {
    "duration": 5,
    "start_time": "2024-12-16T04:25:34.719Z"
   },
   {
    "duration": 26,
    "start_time": "2024-12-16T04:25:34.725Z"
   },
   {
    "duration": 199,
    "start_time": "2024-12-16T04:25:34.752Z"
   },
   {
    "duration": 7,
    "start_time": "2024-12-16T04:25:34.953Z"
   },
   {
    "duration": 282,
    "start_time": "2024-12-16T04:25:34.961Z"
   },
   {
    "duration": 230,
    "start_time": "2024-12-16T04:25:35.244Z"
   },
   {
    "duration": 334,
    "start_time": "2024-12-16T04:25:35.476Z"
   },
   {
    "duration": 22,
    "start_time": "2024-12-16T04:25:35.812Z"
   },
   {
    "duration": 551,
    "start_time": "2024-12-16T04:25:35.836Z"
   },
   {
    "duration": 464,
    "start_time": "2024-12-16T04:25:36.389Z"
   },
   {
    "duration": 429,
    "start_time": "2024-12-16T04:25:36.855Z"
   },
   {
    "duration": 182,
    "start_time": "2024-12-16T04:25:37.287Z"
   },
   {
    "duration": 14254,
    "start_time": "2024-12-16T04:25:37.470Z"
   },
   {
    "duration": 19,
    "start_time": "2024-12-16T04:25:51.727Z"
   },
   {
    "duration": 921,
    "start_time": "2024-12-16T04:25:51.748Z"
   },
   {
    "duration": 12,
    "start_time": "2024-12-16T04:25:52.670Z"
   },
   {
    "duration": 571,
    "start_time": "2024-12-16T04:25:52.684Z"
   },
   {
    "duration": 373,
    "start_time": "2024-12-16T04:25:53.257Z"
   },
   {
    "duration": 7,
    "start_time": "2024-12-16T04:25:53.631Z"
   },
   {
    "duration": 125,
    "start_time": "2024-12-16T04:25:53.639Z"
   },
   {
    "duration": 5,
    "start_time": "2024-12-16T04:25:53.766Z"
   },
   {
    "duration": 16,
    "start_time": "2024-12-16T04:25:53.773Z"
   },
   {
    "duration": 326,
    "start_time": "2024-12-16T04:25:53.790Z"
   },
   {
    "duration": 4,
    "start_time": "2024-12-16T04:25:54.118Z"
   },
   {
    "duration": 227,
    "start_time": "2024-12-16T04:25:54.123Z"
   },
   {
    "duration": 8,
    "start_time": "2024-12-16T04:25:54.351Z"
   },
   {
    "duration": 404,
    "start_time": "2024-12-16T04:25:54.361Z"
   },
   {
    "duration": 5,
    "start_time": "2024-12-16T04:25:54.766Z"
   },
   {
    "duration": 20,
    "start_time": "2024-12-16T04:25:54.772Z"
   },
   {
    "duration": 11,
    "start_time": "2024-12-16T04:25:54.793Z"
   },
   {
    "duration": 397,
    "start_time": "2024-12-16T04:25:54.805Z"
   },
   {
    "duration": 1829,
    "start_time": "2025-03-10T08:31:20.242Z"
   },
   {
    "duration": 58,
    "start_time": "2025-03-10T08:31:22.073Z"
   },
   {
    "duration": 19,
    "start_time": "2025-03-10T08:31:22.133Z"
   },
   {
    "duration": 23,
    "start_time": "2025-03-10T08:31:22.154Z"
   },
   {
    "duration": 13,
    "start_time": "2025-03-10T08:31:22.179Z"
   },
   {
    "duration": 47,
    "start_time": "2025-03-10T08:31:22.193Z"
   },
   {
    "duration": 13,
    "start_time": "2025-03-10T08:31:22.242Z"
   },
   {
    "duration": 7,
    "start_time": "2025-03-10T08:31:22.256Z"
   },
   {
    "duration": 9,
    "start_time": "2025-03-10T08:31:22.265Z"
   },
   {
    "duration": 7,
    "start_time": "2025-03-10T08:31:22.277Z"
   },
   {
    "duration": 17,
    "start_time": "2025-03-10T08:31:22.285Z"
   },
   {
    "duration": 32,
    "start_time": "2025-03-10T08:31:22.303Z"
   },
   {
    "duration": 11,
    "start_time": "2025-03-10T08:31:22.337Z"
   },
   {
    "duration": 24,
    "start_time": "2025-03-10T08:31:22.350Z"
   },
   {
    "duration": 15,
    "start_time": "2025-03-10T08:31:22.376Z"
   },
   {
    "duration": 7,
    "start_time": "2025-03-10T08:31:22.393Z"
   },
   {
    "duration": 5,
    "start_time": "2025-03-10T08:31:22.401Z"
   },
   {
    "duration": 6,
    "start_time": "2025-03-10T08:31:22.407Z"
   },
   {
    "duration": 211,
    "start_time": "2025-03-10T08:31:22.414Z"
   },
   {
    "duration": 6,
    "start_time": "2025-03-10T08:31:22.627Z"
   },
   {
    "duration": 292,
    "start_time": "2025-03-10T08:31:22.635Z"
   },
   {
    "duration": 208,
    "start_time": "2025-03-10T08:31:22.928Z"
   },
   {
    "duration": 360,
    "start_time": "2025-03-10T08:31:23.138Z"
   },
   {
    "duration": 22,
    "start_time": "2025-03-10T08:31:23.500Z"
   },
   {
    "duration": 620,
    "start_time": "2025-03-10T08:31:23.523Z"
   },
   {
    "duration": 454,
    "start_time": "2025-03-10T08:31:24.144Z"
   },
   {
    "duration": 459,
    "start_time": "2025-03-10T08:31:24.600Z"
   },
   {
    "duration": 134,
    "start_time": "2025-03-10T08:31:25.066Z"
   },
   {
    "duration": 15354,
    "start_time": "2025-03-10T08:31:25.202Z"
   },
   {
    "duration": 19,
    "start_time": "2025-03-10T08:31:40.566Z"
   },
   {
    "duration": 945,
    "start_time": "2025-03-10T08:31:40.587Z"
   },
   {
    "duration": 12,
    "start_time": "2025-03-10T08:31:41.533Z"
   },
   {
    "duration": 626,
    "start_time": "2025-03-10T08:31:41.547Z"
   },
   {
    "duration": 397,
    "start_time": "2025-03-10T08:31:42.175Z"
   },
   {
    "duration": 7,
    "start_time": "2025-03-10T08:31:42.573Z"
   },
   {
    "duration": 114,
    "start_time": "2025-03-10T08:31:42.582Z"
   },
   {
    "duration": 5,
    "start_time": "2025-03-10T08:31:42.698Z"
   },
   {
    "duration": 15,
    "start_time": "2025-03-10T08:31:42.705Z"
   },
   {
    "duration": 381,
    "start_time": "2025-03-10T08:31:42.724Z"
   },
   {
    "duration": 4,
    "start_time": "2025-03-10T08:31:43.107Z"
   },
   {
    "duration": 244,
    "start_time": "2025-03-10T08:31:43.113Z"
   },
   {
    "duration": 14,
    "start_time": "2025-03-10T08:31:43.359Z"
   },
   {
    "duration": 416,
    "start_time": "2025-03-10T08:31:43.375Z"
   },
   {
    "duration": 4,
    "start_time": "2025-03-10T08:31:43.793Z"
   },
   {
    "duration": 58,
    "start_time": "2025-03-10T08:31:43.798Z"
   },
   {
    "duration": 6,
    "start_time": "2025-03-10T08:31:43.858Z"
   },
   {
    "duration": 436,
    "start_time": "2025-03-10T08:31:43.865Z"
   }
  ],
  "kernelspec": {
   "display_name": "Python 3 (ipykernel)",
   "language": "python",
   "name": "python3"
  },
  "language_info": {
   "codemirror_mode": {
    "name": "ipython",
    "version": 3
   },
   "file_extension": ".py",
   "mimetype": "text/x-python",
   "name": "python",
   "nbconvert_exporter": "python",
   "pygments_lexer": "ipython3",
   "version": "3.12.7"
  },
  "toc": {
   "base_numbering": 1,
   "nav_menu": {},
   "number_sections": true,
   "sideBar": true,
   "skip_h1_title": true,
   "title_cell": "Table of Contents",
   "title_sidebar": "Contents",
   "toc_cell": false,
   "toc_position": {},
   "toc_section_display": true,
   "toc_window_display": false
  }
 },
 "nbformat": 4,
 "nbformat_minor": 4
}
